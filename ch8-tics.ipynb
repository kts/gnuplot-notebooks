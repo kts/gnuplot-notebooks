{
 "cells": [
  {
   "cell_type": "markdown",
   "metadata": {},
   "source": [
    "Chapter 8: Tic Control\n",
    "======================\n",
    "\n",
    "This chapter is about tics in gnuplot. Tics are important: they are the\n",
    "things that connect the curves, colors, and surfaces in your plots to\n",
    "actual numbers. The subject of “tics” includes not merely those little\n",
    "line segments dividing up the axes of your plots, but the labels\n",
    "associated with them. In this chapter you will learn how to get complete\n",
    "control of the tics and their labels: a somewhat tricky subject, it\n",
    "turns out. You’ll learn about some features of gnuplot that we’ve been\n",
    "saving for this chapter, because they’re really part of tic creation:\n",
    "gnuplot’s handling of dates and times, and of latitude and longitude.\n",
    "\n",
    "Minor Tics\n",
    "----------\n",
    "\n",
    "Here is a simple plot with a subtle feature that we haven’t seen before\n",
    "in any of our examples. There are smaller (shorter) tic marks between\n",
    "the major, labeled tic marks. These are called “minor tics”. Notice that\n",
    "the grid is aligned with the major tic marks. As you might have guessed,\n",
    "the `set mxtics` command sets the minor tics on the x-axis and\n",
    "`set mytics` creates minor tics on the y-axis. The number following the\n",
    "keyword (`mxtics` or `mytics`) establishes the number of spaces between\n",
    "tics (not the actual number of minor tics). The figure should make it\n",
    "clear how the commands work. The purpose of minor tics is to make it\n",
    "easier to extract quantitative information from the graph by\n",
    "facilitating interpolation between the numerically labeled values\n",
    "associated with the major tic marks."
   ]
  },
  {
   "cell_type": "code",
   "execution_count": null,
   "metadata": {},
   "outputs": [],
   "source": [
    "set grid lt -1\n",
    "set mxtics 4\n",
    "set mytics 2\n",
    "set xr [0 : pi]\n",
    "plot sin(4*x)*exp(-x/2) lw 2"
   ]
  },
  {
   "cell_type": "markdown",
   "metadata": {},
   "source": [
    "…On a Second Axis\n",
    "-----------------\n",
    "\n",
    "Way back in the first chapter we [learned](#using-a-second-y-axis) how\n",
    "to put an independent scale and associated tic marks on a second axis.\n",
    "You can also set up minor tics on second axes, as in the following\n",
    "example (there is also a command `set mx2tics`, for a second x-axis):"
   ]
  },
  {
   "cell_type": "code",
   "execution_count": null,
   "metadata": {},
   "outputs": [],
   "source": [
    "set grid\n",
    "set mxtics 4\n",
    "set mytics 2\n",
    "set xr [0 : pi]\n",
    "set ytics nomirror\n",
    "set y2tics 0.4\n",
    "set my2tics 4\n",
    "plot 4*sin(4*x)*exp(-x/2), cos(8*x)*exp(x/2)"
   ]
  },
  {
   "cell_type": "markdown",
   "metadata": {},
   "source": [
    "Adjusting the Tic Size\n",
    "----------------------\n",
    "\n",
    "The default length gnuplot uses for tics is a bit small, and makes the\n",
    "minor tics nearly disappear on small plots. Naturally, the tic size can\n",
    "be adjusted to any size you like. The following figure employs longer\n",
    "tic marks than in the previous examples; the number “3” in the command\n",
    "will set the length of the major tics to be three times the default\n",
    "length, which depends on the terminal in use:"
   ]
  },
  {
   "cell_type": "code",
   "execution_count": null,
   "metadata": {},
   "outputs": [],
   "source": [
    "set grid\n",
    "set tics scale 3\n",
    "set mxtics 4\n",
    "set mytics 2\n",
    "set xr [0 : pi]\n",
    "plot sin(4*x)*exp(-x/2)"
   ]
  },
  {
   "cell_type": "markdown",
   "metadata": {},
   "source": [
    "…Of Minor Tics\n",
    "--------------\n",
    "\n",
    "By default, gnuplot assigns a length to the minor tics that is one-half\n",
    "the length of the major tics, so in the previous example the minor tics\n",
    "have a scale of 1.5. If you want to set a non-default scale for the\n",
    "minor tics, the command becomes `set tics scale a, b`, where a is the\n",
    "scale for the major tics and b is the scale for the minor tics. You can\n",
    "even make the minor tics longer than the major tics if, for some reason,\n",
    "you want to."
   ]
  },
  {
   "cell_type": "code",
   "execution_count": null,
   "metadata": {},
   "outputs": [],
   "source": [
    "set grid\n",
    "set tics scale 4, 3\n",
    "set key at 2.5, 0.8\n",
    "set mxtics 4\n",
    "set mytics 2\n",
    "set xr [0 : pi]\n",
    "plot sin(4*x)*exp(-x/2)"
   ]
  },
  {
   "cell_type": "markdown",
   "metadata": {},
   "source": [
    "Removing All The Tics\n",
    "---------------------\n",
    "\n",
    "You can remove the tics entirely from the plot. This gives a simplified\n",
    "appearance for situations where you need an illustration and the reader\n",
    "is not expected to glean quantitative information from the graph."
   ]
  },
  {
   "cell_type": "code",
   "execution_count": null,
   "metadata": {},
   "outputs": [],
   "source": [
    "unset tics\n",
    "set xr [0 : pi]\n",
    "plot sin(4*x)*exp(-x/2)"
   ]
  },
  {
   "cell_type": "markdown",
   "metadata": {},
   "source": [
    "Making the Tics Stick Out\n",
    "-------------------------\n",
    "\n",
    "The following example illustrates another tic style available in\n",
    "gnuplot, where the tics stick out of the plot rather than intrude on the\n",
    "interior of the graph. This style is useful when the default tic marks\n",
    "might obscure your plot elements; for example, when part of the curve\n",
    "lies close to an axis. You can apply it to only one axis\n",
    "(`set xtics out`), too. You can also get the same effect by using\n",
    "negative numbers in the [tic scaling command](#adjusting-the-tic-size)."
   ]
  },
  {
   "cell_type": "code",
   "execution_count": null,
   "metadata": {},
   "outputs": [],
   "source": [
    "set tics out\n",
    "set grid\n",
    "set xr [-3 : 3]\n",
    "set key at 0, 0.8\n",
    "plot tanh(x) title \"Hyperbolic tangent\""
   ]
  },
  {
   "cell_type": "markdown",
   "metadata": {},
   "source": [
    "Setting Tic Values\n",
    "------------------\n",
    "\n",
    "You can set the locations of a plot’s tics independently of the axes\n",
    "ranges, using the command `set xtics b, i, e`, where “b” is the starting\n",
    "tic value, “i” is the increment between tics, and “e” is the ending tic\n",
    "value (there are corresponding commands for the tics on the other axes,\n",
    "of course). In this way you can focus the plot on a particular area,\n",
    "where the reader may want to read off quantitative information. The grid\n",
    "lines, as before, will track the major tics. A simpler version of the\n",
    "commands, for example, `set xtics i`, just sets the increment, and\n",
    "allows gnuplot to set the beginning and ending values."
   ]
  },
  {
   "cell_type": "code",
   "execution_count": null,
   "metadata": {},
   "outputs": [],
   "source": [
    "unset key\n",
    "set samples 1000\n",
    "set tics scale 3\n",
    "set grid lt 1 lc \"grey\" lw .5\n",
    "set xr [-30*pi : 30*pi]\n",
    "set xtics -20, 10, 20\n",
    "plot sin(x) * exp(-x**2/30)"
   ]
  },
  {
   "cell_type": "markdown",
   "metadata": {},
   "source": [
    "Setting Tics Manually\n",
    "---------------------\n",
    "\n",
    "Sometimes gnuplot’s automatic tic placement is not flexible enough and\n",
    "you need to take complete control of the position of every tic mark, or\n",
    "you need to place custom labels on the tics rather than rely on the\n",
    "automatically generated numerical labels. Gnuplot will cooperate. Notice\n",
    "the tic labels and positions along the x-axis in the following plot. The\n",
    "tics are aligned with the peaks and zero crossings of the sine wave, and\n",
    "are labeled using π rather than an approximate decimal. This is the\n",
    "natural way to label the axis when plotting this circular function.\n",
    "Gnuplot’s automatically chosen tic positions and numerical labels would\n",
    "be placed at the positions 1, 2, 3, etc., and would have no particular\n",
    "relation to the function we are plotting."
   ]
  },
  {
   "cell_type": "code",
   "execution_count": null,
   "metadata": {},
   "outputs": [],
   "source": [
    "set xr [0 : 2*pi]\n",
    "set grid lt 1 lc \"grey\" lw .5\n",
    "set xtics\\\n",
    "  (\"π\" pi, \"π/2\" pi/2, \"2π\" 2*pi, \"3π/2\" 3*pi/2, \"0\" 0)\n",
    "plot sin(x)"
   ]
  },
  {
   "cell_type": "markdown",
   "metadata": {},
   "source": [
    "Combining Automated and Manual Tics\n",
    "-----------------------------------\n",
    "\n",
    "You can supplement gnuplot’s automatic tics (either the fully automatic\n",
    "ones or the ones set using the `set xtics b, i, e` command) with any\n",
    "number of manual tics using the highlighted command in the script below.\n",
    "This is useful to call attention to a small number of salient coordinate\n",
    "positions. Notice that the grid lines are drawn both on the automatic\n",
    "tics and on the ones that you add.\n",
    "\n",
    "In this example we’ve done something new: using the little-known ability\n",
    "of gnuplot to use Unicode symbols in variable names, we’ve make the\n",
    "script easier to read by setting “π” equal to pi, and using it in the\n",
    "following command setting the additional xtic values."
   ]
  },
  {
   "cell_type": "code",
   "execution_count": null,
   "metadata": {},
   "outputs": [],
   "source": [
    "set xr [0 : 2*pi]\n",
    "set grid lt 1 lc \"grey\" lw .5\n",
    "π = pi\n",
    "set xtics add\\\n",
    "  (\"π\" π, \"π/2\" π/2, \"2π\" 2*π, \"3π/2\" 3*π/2, \"0\" 0)\n",
    "plot sin(x) lw 2 "
   ]
  },
  {
   "cell_type": "markdown",
   "metadata": {},
   "source": [
    "You can also set manual tics using `set xtics add` or just `set xtics`\n",
    "without using labels. In this case gnuplot will put the tics where you\n",
    "tell it to, and use its default numerical labels. You can mix and match\n",
    "these types of tics at will:"
   ]
  },
  {
   "cell_type": "code",
   "execution_count": null,
   "metadata": {},
   "outputs": [],
   "source": [
    "set xr [0 : 2*pi]\n",
    "set grid lt 1 lc \"grey\" lw .5\n",
    "set ytics (-.5, 0, .5, \"Limit\" .88)\n",
    "set xtics add (1.618)\n",
    "plot sin(x) lw 2 "
   ]
  },
  {
   "cell_type": "markdown",
   "metadata": {},
   "source": [
    "Formatting Tics\n",
    "---------------\n",
    "\n",
    "All of the options for [string formatting](#string-formatting) that we\n",
    "learned about in Chapter 5 are available for formatting tics. You can\n",
    "use all the familiar font specifiers, too. We’ll give an example of that\n",
    "first. When making custom tic labels using the manual command here,\n",
    "gnuplot does not take their width into account when setting plot\n",
    "margins. You will need to take measures to ensure that they fit. Here,\n",
    "we are obliged to increase the left margin."
   ]
  },
  {
   "cell_type": "code",
   "execution_count": null,
   "metadata": {},
   "outputs": [],
   "source": [
    "set xr [0 : 2*pi]\n",
    "set lmargin 10\n",
    "set grid lt 1 lc \"grey\" lw .5\n",
    "set ytics (-.5, 0, .5, \"Limit\" .88) font \"Courier, 20\"\n",
    "set xtics add (1.618) font \"Helvetica, 7\"\n",
    "plot sin(x) lw 2 "
   ]
  },
  {
   "cell_type": "markdown",
   "metadata": {},
   "source": [
    "Here we’ll use another of gnuplot’s string formatting tricks to generate\n",
    "labels on the x-axis at multiples of π automatically. The version of the\n",
    "`set xtics` command in the third line sets the interval, and allows\n",
    "gnuplot to set the beginning and ending values. We’ll also include some\n",
    "explanatory text, including an error estimate, within the tic labels on\n",
    "the y-axis. The commands for applying [format\n",
    "specifiers](#string-formatting) to tic labels are `set format x`,\n",
    "`set format y`, etc. This example also shows how you can set the font of\n",
    "the tic labels separately from their other properties. Note that when\n",
    "using a format, as we do below, gnuplot has an idea of the width of the\n",
    "tic labels, and sets the margins appropriately itself."
   ]
  },
  {
   "cell_type": "code",
   "execution_count": null,
   "metadata": {},
   "outputs": [],
   "source": [
    "set xr [0 : 2*pi]\n",
    "set grid lt 1 lc \"grey\" lw .5\n",
    "set xtics pi\n",
    "set xtics font \"Helvetica, 25\"\n",
    "set ytics font \"Times, 18\"\n",
    "set format x \"%.0Pπ\"\n",
    "set format y \"%.2f ± .02 Amps\"\n",
    "plot sin(x) lw 2 "
   ]
  },
  {
   "cell_type": "markdown",
   "metadata": {},
   "source": [
    "You might have noticed that, because of the large font sizes we chose\n",
    "for the tic labels in the previous example, the first x-axis tic\n",
    "collided somewhat with the lowest y-axis tic. We can set an offset to\n",
    "shift the tic label positions. It works just the way [offsets for\n",
    "labels](#offset) work."
   ]
  },
  {
   "cell_type": "code",
   "execution_count": null,
   "metadata": {},
   "outputs": [],
   "source": [
    "set xr [0 : 2*pi]\n",
    "set grid lt 1 lc \"grey\" lw .5\n",
    "set xtics pi\n",
    "set xtics offset 0, -1\n",
    "set bmargin 5\n",
    "set xtics font \"Helvetica, 25\"\n",
    "set ytics font \"Times, 18\"\n",
    "set format x \"%.0Pπ\"\n",
    "set format y \"%.2f ± .02 Amps\"\n",
    "plot sin(x) lw 2 "
   ]
  },
  {
   "cell_type": "markdown",
   "metadata": {},
   "source": [
    "Tics With No Labels\n",
    "-------------------\n",
    "\n",
    "You might want tic marks with no labels at all — for example, if you are\n",
    "adding labels outside of gnuplot. As we show in this example, you can\n",
    "accomplish this by simply setting an empty format. If, for some reason,\n",
    "you want labels with no tic marks, try `set tics scale 0`."
   ]
  },
  {
   "cell_type": "code",
   "execution_count": null,
   "metadata": {},
   "outputs": [],
   "source": [
    "set format y \"\"\n",
    "set format x \"\"\n",
    "unset key\n",
    "set tics scale 3\n",
    "set grid\n",
    "plot x, -x"
   ]
  },
  {
   "cell_type": "markdown",
   "metadata": {},
   "source": [
    "Dates and Times\n",
    "===============\n",
    "\n",
    "Gnuplot has extensive support for plotting using dates and times. There\n",
    "are two components to this: telling gnuplot about the data/time format\n",
    "that your data is stored in, and telling it how to represent data/time\n",
    "data in the plot.\n",
    "\n",
    "If you are plotting date/time data, you are almost certainly dealing\n",
    "with files. Here is a small file for experimenting with date/time\n",
    "plotting. It consists of a few lines of data, each line containing a\n",
    "date, time, and a number to be plotted. The dates are in the form\n",
    "day/month/2-digit-year, and the times are in the form hour:minute. You\n",
    "copy the lines directly, use the “Open file” button, or make your own;\n",
    "in any case, you will need to save a file called “timedat.dat” in the\n",
    "directory in which you are running gnuplot to use the scripts in this\n",
    "section as written, and it should have this format, although, of course,\n",
    "the values can be different.\n",
    "\n",
    "(Sometimes, even though we are dealing with dates and times, it can be\n",
    "simpler to treat the data as numerical, as in our [previous\n",
    "example](#fitting-functions-to-data) on fitting an exponential function\n",
    "to solar energy data. There, we were interested in years only, and the\n",
    "number of years past a certain year; treating these years as gnuplot\n",
    "date/times would have complicated the fitting process without producing\n",
    "any benefit.)\n",
    "\n",
    "The Example File\n",
    "----------------\n",
    "\n",
    "``` gpl\n",
    "        1/1/17 19:00 72.01\n",
    "        12/3/17 06:15 12.03\n",
    "        3/6/17 13:13 9.23\n",
    "        7/12/17 17:14 72.09\n",
    "        23/2/18 09:15 66.06\n",
    "        29/7/18 14:13 55.55\n",
    "        9/9/18 22:19 63.12\n",
    "```\n",
    "\n",
    "Defining the Input Format\n",
    "-------------------------\n",
    "\n",
    "Before gnuplot can interpret your data as dates and/or times, you must\n",
    "tell it to expect date/time data with the command `set xdata time`.\n",
    "Then, you can tell it the format in which you have stored the data. The\n",
    "command for that is `set timefmt f`, where “f” is the date/time format\n",
    "you are using. These formats use special codes: `%d` to stand for the\n",
    "numerical day, `%H` to stand for the numerical hour using a 24-hour\n",
    "clock, and so on. For a summary of all the formats that gnuplot\n",
    "understands, type `help timefmt` at the interactive prompt. For our\n",
    "example data, the format should be `%d/%m/%y %H:%M`. This tells gnuplot\n",
    "about the single space between the date and time, the colon between the\n",
    "hours and minutes, etc. The format must be complete and exact. Only then\n",
    "will the program know when the date/time input ends and the following\n",
    "data columns begin.\n",
    "\n",
    "Defining the Output Format\n",
    "--------------------------\n",
    "\n",
    "The output format that gnuplot will use for printing dates and times is\n",
    "completely independent of the input format that you tell it to expect in\n",
    "your data. You can print any portion of the data (the time only, the\n",
    "year only, etc.) in any format. The format specifier uses the same codes\n",
    "available for the input specifier. If you’ve given the command\n",
    "`set xdata time`, gnuplot will expect the x-axis (in this case) to be\n",
    "formatted as a date/time. Use the same command that we used to format\n",
    "normal tic labels, `set format x`, but using the date/time formatting\n",
    "symbols (again, try `help timefmt` to see the complete set). Let’s plot\n",
    "our little file with different output formats to see how this works.\n",
    "\n",
    "This script will plot the dates only, using the format “day-month-year”.\n",
    "One quirk that you must remember: you are required to include a `using`\n",
    "command when plotting date/time data, and you must take into account the\n",
    "columns used in the date/time portion. Since we’re using two columns for\n",
    "the x-data, the first containing the date and the second the time, the\n",
    "actual data starts in column three."
   ]
  },
  {
   "cell_type": "code",
   "execution_count": null,
   "metadata": {},
   "outputs": [],
   "source": [
    "set xdata time\n",
    "set timefmt \"%d/%m/%y %H:%M\"\n",
    "set format x \"%d-%m-%y\"\n",
    "plot \"timedat.dat\" using 1:3 with linespoints lw 2 pt 6"
   ]
  },
  {
   "cell_type": "markdown",
   "metadata": {},
   "source": [
    "You might have noticed a problem with the previous graph. There are too\n",
    "many tic labels, and they overlap. We could make the font smaller, but\n",
    "we might prefer to simply plot fewer tics. Previously, we accomplished\n",
    "such things by adjusting the tic interval — but how so we do that when\n",
    "the tics represent temporal data? You can do it the same way, using a\n",
    "number of seconds as the interval:"
   ]
  },
  {
   "cell_type": "code",
   "execution_count": null,
   "metadata": {},
   "outputs": [],
   "source": [
    "set xdata time\n",
    "set timefmt \"%d/%m/%y %H:%M\"\n",
    "set format x \"%d-%m-%y\"\n",
    "hour = 60*60\n",
    "day = 24*hour\n",
    "set xtics 180*day\n",
    "plot \"timedat.dat\" using 1:3 with linespoints lw 2 pt 6"
   ]
  },
  {
   "cell_type": "markdown",
   "metadata": {},
   "source": [
    "As you add more information, temporal tic labels have a tendency to take\n",
    "up a lot of space, requiring a strategy to get it all to fit. Below we\n",
    "use a format with the time set below each date. The escape code “\\\\n” in\n",
    "the format specification produces a new line in the label, which puts\n",
    "the time of day below the date and saves on horizontal space."
   ]
  },
  {
   "cell_type": "code",
   "execution_count": null,
   "metadata": {},
   "outputs": [],
   "source": [
    "set xdata time\n",
    "set timefmt \"%d/%m/%y %H:%M\"\n",
    "set format x \"%d/%m/%y\\\\nat %H:%M\"\n",
    "hour = 60*60\n",
    "day = 24*hour\n",
    "set xtics 180*day \n",
    "plot \"timedat.dat\" using 1:3 with linespoints lw 2 pt 6"
   ]
  },
  {
   "cell_type": "markdown",
   "metadata": {},
   "source": [
    "Another example of date/time formatting might be instructive. Here we\n",
    "also show how to set beginning and ending values for tic ranges. Once\n",
    "the `timefmt` is set, you can use strings in that input format to define\n",
    "these values:"
   ]
  },
  {
   "cell_type": "code",
   "execution_count": null,
   "metadata": {},
   "outputs": [],
   "source": [
    "set xdata time\n",
    "set timefmt \"%d/%m/%y %H:%M\"\n",
    "set format x \"%B %d\\\\n%Y\\\\n%H:%M\"\n",
    "hour = 60*60\n",
    "day = 24*hour\n",
    "set xtics \"1/6/17\", 180*day, \"1/6/18\"\n",
    "plot \"timedat.dat\" using 1:3 with linespoints lw 2 pt 6"
   ]
  },
  {
   "cell_type": "markdown",
   "metadata": {},
   "source": [
    "As you can see, gnuplot plots each date at time 00:00 (midnight), so,\n",
    "for long ranges of days such as these, we might as well leave the times\n",
    "out of the output format. If we restrict the date range, however, the\n",
    "time of day becomes more relevant:"
   ]
  },
  {
   "cell_type": "code",
   "execution_count": null,
   "metadata": {},
   "outputs": [],
   "source": [
    "set xdata time\n",
    "set timefmt \"%d/%m/%y %H:%M\"\n",
    "set format x \"%b %d\\\\n%Y\\\\n%H:%M\"\n",
    "hour = 60*60\n",
    "set xr [\"1/1/17 15:00\" : \"1/1/17 20:00\"]\n",
    "set xtics 0.5 * hour\n",
    "plot \"timedat.dat\" using 1:3 with linespoints lw 2 pt 6"
   ]
  },
  {
   "cell_type": "markdown",
   "metadata": {},
   "source": [
    "The previous plot would be more attractive if we extracted the redundant\n",
    "date information into an axis label:"
   ]
  },
  {
   "cell_type": "code",
   "execution_count": null,
   "metadata": {},
   "outputs": [],
   "source": [
    "set xdata time\n",
    "set timefmt \"%d/%m/%y %H:%M\"\n",
    "set xlab \"Measurements on Jan. 1, 2017\" font \"Helvetica, 20\"\n",
    "set format x \"%H:%M\"\n",
    "hour = 60*60\n",
    "set xr [\"1/1/17 15:00\" : \"1/1/17 20:00\"]\n",
    "set xtics 0.5 * hour\n",
    "plot \"timedat.dat\" using 1:3 with linespoints lw 2 pt 6"
   ]
  },
  {
   "cell_type": "markdown",
   "metadata": {},
   "source": [
    "Internationalization of Dates\n",
    "-----------------------------\n",
    "\n",
    "Gnuplot knows the names of the months in several languages. The\n",
    "languages available, and how to designate them, depend on your system.\n",
    "This example should work with any Linux and some other unix-derived\n",
    "systems. It prints the names of the months in Spanish. We also set\n",
    "another flag that uses commas rather than dots as decimal points, as is\n",
    "the standard in many European countries. This affects the formatting of\n",
    "the numbers on the y-axis.\n",
    "\n",
    "If you get an error about a missing locale, you can check (on Linux,\n",
    "etc.) for available locales with the shell command `locale -a`. If you\n",
    "want to install the Spanish locale, try, as root, `locale-gen es_ES`\n",
    "followed by `update-locale`."
   ]
  },
  {
   "cell_type": "code",
   "execution_count": null,
   "metadata": {},
   "outputs": [],
   "source": [
    "set xdata time\n",
    "set locale \"es_ES\"\n",
    "set decimalsign locale \"es_ES\"\n",
    "set timefmt \"%d/%m/%y %H:%M\"\n",
    "set format x \"%d\\\\n%B\\\\n%Y\"\n",
    "hour = 60*60\n",
    "day = 24*hour\n",
    "set xtics \"01/01/17\", 90 * day\n",
    "set yr [64 : 75]\n",
    "set ytics 0.5\n",
    "plot \"timedat.dat\" using 1:3 with linespoints lw 2 pt 6"
   ]
  },
  {
   "cell_type": "markdown",
   "metadata": {},
   "source": [
    "Geographic Coordinates\n",
    "----------------------\n",
    "\n",
    "If you `set xtics geographic`, gnuplot can convert coordinate values\n",
    "into degrees, minutes, and seconds, including translating into E and W\n",
    "longitudes or N and S latitudes. Formatting uses a few special codes\n",
    "(type `help geo` for a list): `D` for integer degrees, `M` for minutes,\n",
    "`S` for seconds, and `N` to get “N” and “S” rather than plus or minus,\n",
    "or `E` to get E and W. This is useful when drawing maps or plotting\n",
    "measurements taken at various places on the surface of a planet. Here’s\n",
    "how it works:"
   ]
  },
  {
   "cell_type": "code",
   "execution_count": null,
   "metadata": {},
   "outputs": [],
   "source": [
    "set xtics geographic\n",
    "set xtics format \"%D %M’ %S’’%N\"\n",
    "set xr [-90:90]\n",
    "set xtics 30\n",
    "plot rand(0)*exp(-x**2/500) notitle"
   ]
  }
 ],
 "nbformat": 4,
 "nbformat_minor": 5,
 "metadata": {
  "kernelspec": {
   "display_name": "gnuplot",
   "language": "gnuplot",
   "name": "gnuplot"
  },
  "language_info": {
   "codemirror_mode": "Octave",
   "file_extension": ".gp",
   "help_links": [
    {
     "text": "MetaKernel Magics",
     "url": "https://metakernel.readthedocs.io/en/latest/source/README.html"
    }
   ],
   "mimetype": "text/x-gnuplot",
   "name": "gnuplot"
  }
 }
}
