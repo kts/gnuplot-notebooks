{
 "cells": [
  {
   "cell_type": "markdown",
   "metadata": {},
   "source": [
    "Chapter 3: Histograms and Bar Charts\n",
    "====================================\n",
    "\n",
    "The title of this chapter refers to two different things that are\n",
    "sometimes confused.\n",
    "\n",
    "A bar chart is a type of 2D plot uses the heights of a series of\n",
    "vertical (or, sometimes, horizontal) bars, drawn with gaps between them,\n",
    "to indicate the quantities of a small or moderate number of different\n",
    "things, so they can be compared visually. Although it is a type of 2D\n",
    "plot, we discuss it in this chapter rather than in Chapter 1, because it\n",
    "is a special case, and because of the similarity between bar charts and\n",
    "histograms. You are about to see many examples of bar charts, which\n",
    "should make the description above clear; they are also ubiquitous in\n",
    "journalism and advertising.\n",
    "\n",
    "A histogram is a [little\n",
    "different](https://www.mathsisfun.com/data/histograms.html). This\n",
    "visualization shows how a continuous variable is distributed among\n",
    "different ranges of values. The bars in a histogram are plotted abutting\n",
    "each other. When used to visualize a distribution, their width, as well\n",
    "as their height, is significant: each bar’s area is proportional to the\n",
    "number of data points that it represents.\n",
    "\n",
    "For most of the examples in this chapter we use a datafile called\n",
    "“energySources”. This is a table of a handful of countries and the\n",
    "percentage of energy production for each country from several sources.\n",
    "The data is real, and comes from the [CIA World\n",
    "Factbook](https://www.cia.gov/library/publications/the-world-factbook/rankorder/rankorderguide.html).\n",
    "If you take a look at this datafile, you can see how comments can be\n",
    "added, using the “\\#” symbol, and how textual labels can be included\n",
    "with the data. You should have downloaded the file from the same place\n",
    "where you downloaded this text.\n",
    "\n",
    "`steps` and `fsteps`\n",
    "--------------------\n",
    "\n",
    "Our first example in this chapter is not actually about histograms, nor\n",
    "about bar charts, but rather about gnuplot’s step styles; we’re\n",
    "including it here because of some similarity to histogram plots,\n",
    "especially the `histeps` plot in the next example.\n",
    "\n",
    "The first line in the script shows another way to set a style option, in\n",
    "this case for the `linewidth`. Setting a `termoption` will set a default\n",
    "`lw`, so we won’t need to append the phrase to each plot command.\n",
    "\n",
    "We plot the `parabola.dat` file, a table of a simple parabola; you can\n",
    "download it from the usual place. The new plot styles are highlighted,\n",
    "and the graph shows the difference between the `steps` and `fsteps`\n",
    "styles; the normal `linespoints` plot is included for reference. As you\n",
    "can see, both styles plot the data with horizontal and vertical line\n",
    "segments; the difference is whether you go down first and then to the\n",
    "right, or right first and then down."
   ]
  },
  {
   "cell_type": "code",
   "execution_count": null,
   "metadata": {},
   "outputs": [],
   "source": [
    "set termoption lw 3\n",
    "set xr [0 : 1]\n",
    "plot \"parabola.dat\" with fsteps title \"fsteps\",\\\n",
    "   \"\" with linespoints ps 3 title \"Parabolic curve\",\\\n",
    "   \"\" with steps title \"steps\""
   ]
  },
  {
   "cell_type": "markdown",
   "metadata": {},
   "source": [
    "`histeps`\n",
    "---------\n",
    "\n",
    "Here is a third step style: `histeps` also uses horizontal and vertical\n",
    "line segments, but centered on the datapoints, as shown in the graph.\n",
    "The name is intended to refer to histograms, which are similarly\n",
    "centered on the data."
   ]
  },
  {
   "cell_type": "code",
   "execution_count": null,
   "metadata": {},
   "outputs": [],
   "source": [
    "set termoption lw 3\n",
    "set xr [0 : 1]\n",
    "plot \"parabola.dat\" with histeps title \"histeps\",\\\n",
    "   \"\" with linespoints ps 3 title \"Parabolic curve\""
   ]
  },
  {
   "cell_type": "markdown",
   "metadata": {},
   "source": [
    "Histograms\n",
    "----------\n",
    "\n",
    "Here we’ll plot a section of our parabolic data as a histogram. The\n",
    "first line in the script tells gnuplot that further commands to plot\n",
    "from a data file should use the histogram style. The second line causes\n",
    "the bars to be filled with a solid color, and to be drawn with a solid\n",
    "black border (the `linetype` -1 on most terminals). The third line\n",
    "ensures that the bars are drawn with no gap between them, resulting in a\n",
    "proper histogram plot."
   ]
  },
  {
   "cell_type": "code",
   "execution_count": null,
   "metadata": {},
   "outputs": [],
   "source": [
    "set style data histogram\n",
    "set style fill solid border -1\n",
    "set style histogram gap 0\n",
    "set xr [60 : 90]\n",
    "unset key\n",
    "plot \"parabola.dat\"  u (-$2)"
   ]
  },
  {
   "cell_type": "markdown",
   "metadata": {},
   "source": [
    "Bar Charts\n",
    "----------\n",
    "\n",
    "`bar-charts` We now turn to simple bar charts. In this and the next\n",
    "handful of examples, we use the provided “energySources” file. We’ll\n",
    "often be extracting a subset of the data in this file for plotting, as\n",
    "we do in this first example. Gnuplot uses the “histogram” style for bar\n",
    "charts as well as true histograms. The third line uses commands that\n",
    "we’ve already seen; the final phrase setting the `linecolor` sets the\n",
    "color of the fill. You can see that gnuplot puts the number of the row\n",
    "on the x-axis; we’ll see later how to make this more informative. The\n",
    "default gap between bars (or clusters of bars; see the next example) is\n",
    "the width of two bars."
   ]
  },
  {
   "cell_type": "code",
   "execution_count": null,
   "metadata": {},
   "outputs": [],
   "source": [
    "set style data histogram\n",
    "set style fill solid border -1\n",
    "plot \"energySources\" u 3 title \"Hydro\" lc \"red\""
   ]
  },
  {
   "cell_type": "markdown",
   "metadata": {},
   "source": [
    "The previous example extracted the third column from the file. If you\n",
    "want to plot more than one category at a time, simply select more\n",
    "columns. Gnuplot will create groups of bars for you, grouping by row in\n",
    "the datafile. Here we plot all the columns. As you can see from the\n",
    "previous example, gnuplot sometimes does a poor job of deciding on the\n",
    "`xrange`, so we’ll correct that here."
   ]
  },
  {
   "cell_type": "code",
   "execution_count": null,
   "metadata": {},
   "outputs": [],
   "source": [
    "set style data histogram\n",
    "set style fill solid border -1\n",
    "set xr [0 : 10]\n",
    "plot \"energySources\" u 2 title \"Fossil\",\\\n",
    "   \"\" u 3 title \"Hydro\",\\\n",
    "   \"\" u 4 title \"Nuclear\",\\\n",
    "   \"\" u 5 title \"Other renewables\""
   ]
  },
  {
   "cell_type": "markdown",
   "metadata": {},
   "source": [
    "You can adjust the spacing between the groups of bars (called “clusters”\n",
    "in gnuplot terminology) with another command, shown below. The default\n",
    "style is a gap of 2, which leaves a space equal to the width of two\n",
    "bars. As you increase the gap between clusters, the bars are made\n",
    "thinner if necessary to fit everything on the plot."
   ]
  },
  {
   "cell_type": "code",
   "execution_count": null,
   "metadata": {},
   "outputs": [],
   "source": [
    "set style data histogram\n",
    "set style fill solid border -1\n",
    "set style histogram cluster gap 4\n",
    "set xr [0 : 10]\n",
    "plot \"energySources\" u 2 title \"Fossil\",\\\n",
    "   \"\" u 3 title \"Hydro\",\\\n",
    "   \"\" u 4 title \"Nuclear\",\\\n",
    "   \"\" u 5 title \"Other renewables\""
   ]
  },
  {
   "cell_type": "markdown",
   "metadata": {},
   "source": [
    "`xticlabels`\n",
    "------------\n",
    "\n",
    "So far the labels on the x-axis in our bar charts have not been very\n",
    "informative. The row numbers don’t tell us anything without a legend.\n",
    "Fortunately, the country names that go with the rows are included in the\n",
    "datafile, and gnuplot has a way to use them: the `xticlabels` command,\n",
    "abbreviated `xtic`. This function can take an integer argument, which\n",
    "tells it which column to pluck the labels from. Since this is a column\n",
    "selection, it’s included as part of the `using` command. The country\n",
    "names are in column 1, so we do this:"
   ]
  },
  {
   "cell_type": "code",
   "execution_count": null,
   "metadata": {},
   "outputs": [],
   "source": [
    "set style data histogram\n",
    "set style fill solid border -1\n",
    "set xr [0 : 10]\n",
    "plot \"energySources\" u 2 title \"Fossil\",\\\n",
    "   \"\" u 3 title \"Hydro\",\\\n",
    "   \"\" u 4 title \"Nuclear\",\\\n",
    "   \"\" u 5:xtic(1) title \"Other renewables\""
   ]
  },
  {
   "cell_type": "markdown",
   "metadata": {},
   "source": [
    "You probably noticed that the labels on the x-axis in the previous\n",
    "example were too close together, and even overlapped slightly. Gnuplot\n",
    "will not reduce the font size or take any other measures to fix this:\n",
    "it’s up to you. You could make everything fit by using a smaller font\n",
    "size, but this is not ideal. In a [later chapter](#text-styling) we’ll\n",
    "learn all about how to deal with labels and text on plots, but, since\n",
    "this is such a common problem with bar charts, we’ll permit ourselves a\n",
    "preview here. Observe the highlighted command in the script below, and\n",
    "the effect it has on the labels:"
   ]
  },
  {
   "cell_type": "code",
   "execution_count": null,
   "metadata": {},
   "outputs": [],
   "source": [
    "set style data histogram\n",
    "set style fill solid border -1\n",
    "set xr [0 : 10]\n",
    "set xtic rotate by -45\n",
    "plot \"energySources\" u 2 title \"Fossil\",\\\n",
    "   \"\" u 3 title \"Hydro\",\\\n",
    "   \"\" u 4 title \"Nuclear\",\\\n",
    "   \"\" u 5:xtic(1) title \"Other renewables\""
   ]
  },
  {
   "cell_type": "markdown",
   "metadata": {},
   "source": [
    "The `every` Command\n",
    "-------------------\n",
    "\n",
    "The `using` command is used for selecting columns, as we’ve seen by now\n",
    "many times. If you want to limit the plot to only certain rows, instead\n",
    "of plotting every row in the datafile, use the `every` command. The\n",
    "syntax is `every ::a::b`, where `a` is the row where you wish to begin,\n",
    "and `b` is the ending row. The row numbering starts at 0. In our case,\n",
    "row zero contains the energy source labels, so we start at 1. The colons\n",
    "can be replaced by numbers for selecting data *blocks* and for skipping\n",
    "rows. For all the details in one place, type `help every` at the gnuplot\n",
    "prompt. `the-every-command`"
   ]
  },
  {
   "cell_type": "code",
   "execution_count": null,
   "metadata": {},
   "outputs": [],
   "source": [
    "set key top right\n",
    "set style data histogram\n",
    "set style fill solid border -1\n",
    "set xr[-0.5 : 4]\n",
    "plot \"energySources\" u 3 every ::1::3 title \"Hydro\",\\\n",
    "\"\" u 4 every ::1::3 title \"Nuclear\",\\\n",
    "\"\" u 5:xtic(1) every ::1::3 title \"Other renewables\""
   ]
  },
  {
   "cell_type": "markdown",
   "metadata": {},
   "source": [
    "Up above we learned about `xticlabels`. The integer argument to this\n",
    "function (say, `n`) is treated as an abbreviation of `stringcolumn(n)`,\n",
    "where `stringcolumn` is a function that reads the column specified in\n",
    "its argument as a series of strings (rather than numbers). In fact,\n",
    "`xticlabels` takes a string argument. We can use gnuplot’s string\n",
    "concatenation operator, which is the period (full-stop), `.`, to build\n",
    "up a more elaborate label:"
   ]
  },
  {
   "cell_type": "code",
   "execution_count": null,
   "metadata": {},
   "outputs": [],
   "source": [
    "set style data histogram\n",
    "set style fill solid border -1\n",
    "set xtic rotate by -45\n",
    "set xr[-1 : 4]\n",
    "plot \"energySources\" u 3 every ::1::3 title \"Hydro\",\\\n",
    "   \"\" u 4:xtic(\"country: \" . stringcolumn(1))\\\n",
    "   every ::1::3 title \"Nuclear\""
   ]
  },
  {
   "cell_type": "markdown",
   "metadata": {},
   "source": [
    "Automatic Titles\n",
    "----------------\n",
    "\n",
    "Since our datafile contains titles, it would be nice if gnuplot could\n",
    "read those and use them, so that we would not be required to append a\n",
    "`title` command to each plot command. Gnuplot can do this, in two ways.\n",
    "To read the titles automatically for each `plot` command, use the new\n",
    "command highlighted in the script below, where `col` is an abbreviation\n",
    "for `columnheader`. If, instead, you want to read the titles from the\n",
    "datafile, but only for some of the data, you can append a `title col` to\n",
    "the individual plot commands for which you want the title picked up."
   ]
  },
  {
   "cell_type": "code",
   "execution_count": null,
   "metadata": {},
   "outputs": [],
   "source": [
    "set style data histogram\n",
    "set style fill solid border -1\n",
    "set key autotitle col\n",
    "set xr [-1 : 10]\n",
    "set xtic rotate by -45\n",
    "plot \"energySources\" u 2,\\\n",
    "   \"\" u 3,\\\n",
    "   \"\" u 4 ,\\\n",
    "   \"\" u 5:xtic(1)"
   ]
  },
  {
   "cell_type": "markdown",
   "metadata": {},
   "source": [
    "The `newhistogram` Command: Grouping Clusters\n",
    "---------------------------------------------\n",
    "\n",
    "Sometimes, grouping the bars in a bar chart into clusters is just not\n",
    "complicated enough. When you feel the need to group your clusters\n",
    "themselves into bigger groups, that’s when you reach for the\n",
    "`newhistogram` command. The `newhistogram` keyword is followed by a\n",
    "title for the grouping, and, usually, a `linetype` or `linecolor`\n",
    "specification to reset the color sequence. You must turn off titles for\n",
    "all bars after the first group, to avoid repeating the titles in the\n",
    "legend, if you are using one. An example should show you what it’s all\n",
    "about:"
   ]
  },
  {
   "cell_type": "code",
   "execution_count": null,
   "metadata": {},
   "outputs": [],
   "source": [
    "set style data histogram\n",
    "set style fill solid border -1\n",
    "set key autotitle col\n",
    "set xr [-1 : 9.5]\n",
    "set xtic rotate by -45\n",
    "plot newhistogram \"Some Countries\" lt 1,\\\n",
    "   \"energySources\" u 2:xtic(1) every ::1::3 ,\\\n",
    "   \"\" u 3 every ::1::3,\\\n",
    "   \"\" u 4 every ::1::3,\\\n",
    "   newhistogram \"Other Countries\" lt 1,\\\n",
    "   \"\" u 2:xtic(1) every ::4::8 notitle,\\\n",
    "   \"\" u 3 every ::4::8 notitle,\\\n",
    "   \"\" u 4 every ::4::8 notitle\n"
   ]
  },
  {
   "cell_type": "markdown",
   "metadata": {},
   "source": [
    "Stacked Bar Charts\n",
    "------------------\n",
    "\n",
    "There is another way to display the type of data that we’ve been dealing\n",
    "with, that sometimes makes it easier to compare quantities. Instead of\n",
    "placing clusters of bars next to each other, each bar can be made of a\n",
    "stack of smaller bars. This results in a compact representation of the\n",
    "data that’s easier for the eye to take in quickly. A simple example\n",
    "should make it clear how to achieve this familiar type of bar chart. The\n",
    "example script uses one additional new command, to reduce the `boxwidth`\n",
    "in order to allow a gap between the bars; for zero gap, such as when you\n",
    "are making a real histogram, you can set the `boxwidth` to 1."
   ]
  },
  {
   "cell_type": "code",
   "execution_count": null,
   "metadata": {},
   "outputs": [],
   "source": [
    "set style data histogram\n",
    "set style fill solid \n",
    "set style histogram rowstacked\n",
    "set boxwidth 0.6\n",
    "set key autotitle col\n",
    "set xr [-1 : 11]\n",
    "set xtic rotate by -45\n",
    "plot \"energySources\" u 2, \"\" u 3:xtic(1),\\\n",
    "   \"\" u 4, \"\" u 5"
   ]
  },
  {
   "cell_type": "markdown",
   "metadata": {},
   "source": [
    "Gnuplot can stack the data the other way around, without having to alter\n",
    "the datafile. In other words, you can choose to make a stack of\n",
    "countries, and plot them against energy source on the x-axis: a\n",
    "transpose of the rows and columns in the datafile. To accomplish this,\n",
    "merely change the `rowstacked` keyword to `columnstacked`, and take care\n",
    "to select titles from the appropriate places. The titling is\n",
    "accomplished with two commands used here for the first time. The\n",
    "`key(1)` command tells gnuplot to take the title displayed in the key\n",
    "from column 1. The `title col` command, which we mentioned\n",
    "[above](#automatic-titles), takes the column title, used on the x-axis,\n",
    "from the column header read from the datafile."
   ]
  },
  {
   "cell_type": "code",
   "execution_count": null,
   "metadata": {},
   "outputs": [],
   "source": [
    "set style data histogram\n",
    "set style fill solid \n",
    "set style histogram columnstacked\n",
    "set boxwidth 0.6\n",
    "set xr [-1 : 4]\n",
    "set xtic rotate by -45\n",
    "plot \"energySources\" u 2:key(1) title col,\\\n",
    "   \"\" u 3 title col,\\\n",
    "   \"\" u 4 title col,\\\n",
    "   \"\" u 5 title col"
   ]
  },
  {
   "cell_type": "markdown",
   "metadata": {},
   "source": [
    "3D Box Plots\n",
    "------------\n",
    "\n",
    "New in the latest version of gnuplot is the ability to create 3D box\n",
    "plots. In some of the previous box plots in this chapter, we have\n",
    "visualized what is essentially a function of two variables: the\n",
    "percentage of utilization as a function of country and fuel source.\n",
    "Since the usual bar chart or histogram displays a scalar function of a\n",
    "single variable, in order to show the dependence on both variables we\n",
    "resorted to plotting groups of bars and to various kinds of stacking,\n",
    "along with the use of color.\n",
    "\n",
    "Plotting in 3D makes this simpler in some ways, as we can display each\n",
    "independent variable on its own axis. However, all 3D plotting brings\n",
    "with it extra complications in the form of handling perspective, the\n",
    "occlusion of graph elements, and the positioning of labels. As you will\n",
    "see, using the 3D box plot style involves some commands that are\n",
    "explained [later](#solid-surfaces), in the chapter on plotting surfaces.\n",
    "For these reasons, this final section should perhaps be postponed to the\n",
    "3D plotting chapter; but including it with the other bar chart examples\n",
    "seems to be more natural. In fact, you can think of a 3D bar chart as a\n",
    "discrete form of surface plot, just as a normal bar chart is a kind of\n",
    "discrete line plot.\n",
    "\n",
    "In the example, we’ll continue with our same data, and plot utilization\n",
    "percentage as a function of both country and energy source.\n",
    "\n",
    "The first new, highlighted command extends the idea of the `boxwidth` to\n",
    "`boxdepth`; the effect is the same, to create gaps between the boxes.\n",
    "The second highlighted command makes the boxes transparent, which\n",
    "greatly improves the legibility of these kinds of plots. The `splot`\n",
    "command means “surface plot”; we’ll learn all about that\n",
    "[later](#wireframe-surfaces-with-splot). The `for ...` commands that\n",
    "follow `splot` are a form of looping, that we’ll also learn about in a\n",
    "[subsequent chapter](@basic#iteration). Recent versions of gnuplot\n",
    "repurpose the `splot` command for 3D boxes and for [voxel\n",
    "plots](#voxel-plots). Below, in the `using` clause, we use the `col`\n",
    "loop variable in several places. The fields, in order, mean **x:y:bar\n",
    "height:color:xtic labels:ytic labels**. In order to get the country\n",
    "names to fit without overlapping, we’ve slightly decreased their font\n",
    "size in the first line, and also truncated them to three characters\n",
    "using the `substr` command (highlighted)."
   ]
  },
  {
   "cell_type": "code",
   "execution_count": null,
   "metadata": {},
   "outputs": [],
   "source": [
    "set xtics font \",11\"\n",
    "set boxwidth 0.6\n",
    "set boxdepth 0.6\n",
    "set xr [0.5 : 9.5]\n",
    "set yr [1.5 : 5.5]\n",
    "set cbr [1:5]\n",
    "set xyplane 0\n",
    "set style fill transparent solid .5\n",
    "set view 50, 190\n",
    "unset key\n",
    "unset colorbox\n",
    "splot for [col = 1 : 5] \"energySources\"\\\n",
    "  u 0:(col):(column(col)):(col):xtic(substr(stringcolumn(1), 1, 3)):\\\n",
    "  ytic(columnhead(col)) with boxes lc pal "
   ]
  }
 ],
 "nbformat": 4,
 "nbformat_minor": 5,
 "metadata": {
  "kernelspec": {
   "display_name": "gnuplot",
   "language": "gnuplot",
   "name": "gnuplot"
  },
  "language_info": {
   "codemirror_mode": "Octave",
   "file_extension": ".gp",
   "help_links": [
    {
     "text": "MetaKernel Magics",
     "url": "https://metakernel.readthedocs.io/en/latest/source/README.html"
    }
   ],
   "mimetype": "text/x-gnuplot",
   "name": "gnuplot"
  }
 }
}
