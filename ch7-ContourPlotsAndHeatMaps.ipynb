{
 "cells": [
  {
   "cell_type": "markdown",
   "metadata": {},
   "source": [
    "Chapter 7: Contour Plots and Heat Maps\n",
    "======================================\n",
    "\n",
    "This chapter, as the previous one, deals with three- (or more)\n",
    "dimensional data and functions. The difference is in the way the\n",
    "information is visualized. Instead of a 2D rendition of a 3D surface,\n",
    "the plots you will learn how to make now use color, symbols, curves and\n",
    "labels to visualize the data or functional relationship as a plane\n",
    "(flat) figure. Most of these types of graphs are probably familiar to\n",
    "you. If you take some of the colored surface plots from the last chapter\n",
    "and remove the surface information, leaving the color only, and view the\n",
    "plots from above, you will have what is sometimes called a *heat map*,\n",
    "where the value is indicated simply by color. A *contour plot* traces\n",
    "value by drawing curves, just as in the topographical maps familiar to\n",
    "hikers. The two types can, of course be combined in various ways. You\n",
    "can also create a type of 4D plot, called a vector plot, that draws\n",
    "arrows or similar symbols to show the x and y components of a velocity\n",
    "field or something similar. Finally, any of the types of plots\n",
    "introduced in this chapter can be combined with the surface plots of the\n",
    "previous chapter — you can even embed vectors in surfaces.\n",
    "\n",
    "Heat Maps\n",
    "---------\n",
    "\n",
    "You make heat maps by invoking the pm3d style, just as when you make the\n",
    "colored surface maps of the previous chapter — and all the same options\n",
    "for color palettes are available. The difference is that you want to\n",
    "display a “bird’s eye” view of the plot, by setting the view angles\n",
    "correctly. Gnuplot has a shortcut for this: just say `set view map`."
   ]
  },
  {
   "cell_type": "code",
   "execution_count": null,
   "metadata": {},
   "outputs": [],
   "source": [
    "set xrange [-4:4]\n",
    "set yrange [-4:4]\n",
    "set iso 200\n",
    "set samp 200\n",
    "unset key\n",
    "set palette cubehelix start 1.2 cycles -1. saturation 1\n",
    "set view map\n",
    "splot sin(y**2+x**2) - cos(x**2) with pm3d"
   ]
  },
  {
   "cell_type": "markdown",
   "metadata": {},
   "source": [
    "Contour Plots\n",
    "-------------\n",
    "\n",
    "This example shows how to make a basic contour plot without contour\n",
    "labels. We’ll leave the selection of contour lines up to gnuplot, and\n",
    "let it draw a key, which will identify the contour values using color.\n",
    "In order to compare methods, we’ll plot the same function in all the\n",
    "examples in this part of the chapter. The highlighted command tell\n",
    "gnuplot to draw contours on the *base*, which refers to the bottom of\n",
    "the plotting box. The other locations for these purposes are the\n",
    "*surface*, referring to the plotted surface, if there is one, and\n",
    "*both*. We’ll see examples of all the possibilities later in the\n",
    "chapter. We need to turn off the surface, since we just want contours;\n",
    "if we don’t do this, gnuplot will draw the surface isolines as well,\n",
    "which we don’t want. The isoline and samples settings have a similar\n",
    "effect in contour plots as when plotting surfaces."
   ]
  },
  {
   "cell_type": "code",
   "execution_count": null,
   "metadata": {},
   "outputs": [],
   "source": [
    "set xrange [-4:4]\n",
    "set yrange [-4:4]\n",
    "set iso 200\n",
    "set samp 200\n",
    "set key rmargin\n",
    "unset surf\n",
    "set contour base\n",
    "set view map\n",
    "splot sin(y**2+x**2) - cos(x**2) title \"F(x,y)\""
   ]
  },
  {
   "cell_type": "markdown",
   "metadata": {},
   "source": [
    "We can exert some influence over the number of contours that gnuplot\n",
    "draws with the highlighted command in the script below. Note that this\n",
    "command doesn’t get you the exact number of contour lines that you ask\n",
    "for in most cases; gnuplot will choose a number that gives simple labels\n",
    "(type `help set cntrparam` for all the details). This is a good command\n",
    "to use if you need more or fewer contour lines than the default, but\n",
    "want to keep the plot neat and simple."
   ]
  },
  {
   "cell_type": "code",
   "execution_count": null,
   "metadata": {},
   "outputs": [],
   "source": [
    "set xrange [-4:4]\n",
    "set yrange [-4:4]\n",
    "set iso 200\n",
    "set samp 200\n",
    "set key rmargin\n",
    "unset surf\n",
    "set contour base\n",
    "set cntrparam levels auto 9\n",
    "set view map\n",
    "splot sin(y**2+x**2) - cos(x**2) title \"\""
   ]
  },
  {
   "cell_type": "markdown",
   "metadata": {},
   "source": [
    "For more control over contour levels, try the command in this script.\n",
    "The three numbers in the command are the beginning value, the increment,\n",
    "and the ending value. We’ve chosen values to highlight the nodal areas\n",
    "of the function (where it is near zero)."
   ]
  },
  {
   "cell_type": "code",
   "execution_count": null,
   "metadata": {},
   "outputs": [],
   "source": [
    "set xrange [-4:4]\n",
    "set yrange [-4:4]\n",
    "set iso 200\n",
    "set samp 200\n",
    "set key rmargin\n",
    "unset surf\n",
    "set contour base\n",
    "set cntrparam levels incremental -.2, .05, .2\n",
    "set view map\n",
    "splot sin(y**2+x**2) - cos(x**2) title \"\""
   ]
  },
  {
   "cell_type": "markdown",
   "metadata": {},
   "source": [
    "Custom Contours\n",
    "---------------\n",
    "\n",
    "A new feature in v.5.4 is the ability to choose particular `linetypes`\n",
    "for certain contour levels. This is implemented as an extension to the\n",
    "`cntrparam` setting. The highlighted command in this script tells\n",
    "gnuplot to begin cycling through the line types starting at lt 10, and\n",
    "to go in increasing order (`sorted`). The three custom `lt`s will set\n",
    "the style of the minimum, zero, and maximum levels."
   ]
  },
  {
   "cell_type": "code",
   "execution_count": null,
   "metadata": {},
   "outputs": [],
   "source": [
    "set xrange [-4:4]\n",
    "set yrange [-4:4]\n",
    "set iso 200\n",
    "set samp 200\n",
    "set key rmargin\n",
    "unset surf\n",
    "set contour base\n",
    "set view map\n",
    "set lt 10 lw 5 lc \"blue\"\n",
    "set lt 15 lc \"black\" dt \"-\"\n",
    "set lt 20 lw 5 lc \"red\"\n",
    "set cntrparam levels incremental -1, .2, 1\n",
    "set cntrparam first 10 sort\n",
    "splot sin(y**2+x**2) - cos(x**2) title \"\""
   ]
  },
  {
   "cell_type": "markdown",
   "metadata": {},
   "source": [
    "Finally, you can choose particular values to use for contour levels, as\n",
    "shown here:"
   ]
  },
  {
   "cell_type": "code",
   "execution_count": null,
   "metadata": {},
   "outputs": [],
   "source": [
    "set xrange [-4:4]\n",
    "set yrange [-4:4]\n",
    "set iso 200\n",
    "set samp 200\n",
    "set key rmargin\n",
    "unset surf\n",
    "set contour base\n",
    "set cntrparam levels discrete 1, -1\n",
    "set view map\n",
    "splot sin(y**2+x**2) - cos(x**2) title \"\" "
   ]
  },
  {
   "cell_type": "markdown",
   "metadata": {},
   "source": [
    "Labeled Contours\n",
    "----------------\n",
    "\n",
    "Contour plots are generally easier to read if they have numerical labels\n",
    "on the contour lines, rather than in a legend (but this depends on the\n",
    "details of your particular plot). Gnuplot’s command for labeling contour\n",
    "lines is `set cntrlabel`; when you use it, it makes sense to turn off\n",
    "the legend, but you can have both if you really want to. Contours are\n",
    "made up of a large number of short line segments. The `cntrlabel`\n",
    "setting parameters control how many labels are put on each contour line,\n",
    "and where on the line they start: the first number is which segment of\n",
    "each line they start on, and the second number is the number of segments\n",
    "between labels. After those two parameters, you can add formatting\n",
    "commands, as we do below to select a font size. Getting the labels on\n",
    "the contours requires a double plot command: one to draw the lines and\n",
    "one to apply the text, using the `with labels` style command. In order\n",
    "to illustrate contour labeling options, we’ll plot a simpler function:"
   ]
  },
  {
   "cell_type": "code",
   "execution_count": null,
   "metadata": {},
   "outputs": [],
   "source": [
    "set xrange [-4:4]\n",
    "set yrange [-4:4]\n",
    "set iso 200\n",
    "set samp 200\n",
    "unset key\n",
    "unset surf\n",
    "set contour base\n",
    "set view map\n",
    "set cntrparam levels auto 9\n",
    "set cntrlabel start 1 interval 25 font \",11\"\n",
    "f(x,y) = sqrt(x**2 + y**2)\n",
    "splot f(x,y), f(x,y) with labels"
   ]
  },
  {
   "cell_type": "markdown",
   "metadata": {},
   "source": [
    "If we make the `isolines` and `samples` settings very small, so that we\n",
    "can easily see the individual line segments making up the contour lines,\n",
    "we can more clearly see the effects of the `cntrlabel` command\n",
    "parameters. Here is the previous plot with a label at every other line\n",
    "segment:"
   ]
  },
  {
   "cell_type": "code",
   "execution_count": null,
   "metadata": {},
   "outputs": [],
   "source": [
    "set xrange [-4:4]\n",
    "set yrange [-4:4]\n",
    "set iso 5\n",
    "set samp 5\n",
    "unset key\n",
    "unset surf\n",
    "set contour base\n",
    "set view map\n",
    "set cntrparam levels auto 9\n",
    "set cntrlabel start 1 interval 2 font \"Courier,11\"\n",
    "f(x,y) = sqrt(x**2 + y**2)\n",
    "splot f(x,y), f(x,y) with labels"
   ]
  },
  {
   "cell_type": "markdown",
   "metadata": {},
   "source": [
    "And here is the same thing, but starting at a different segment:"
   ]
  },
  {
   "cell_type": "code",
   "execution_count": null,
   "metadata": {},
   "outputs": [],
   "source": [
    "set xrange [-4:4]\n",
    "set yrange [-4:4]\n",
    "set iso 5\n",
    "set samp 5\n",
    "unset key\n",
    "unset surf\n",
    "set contour base\n",
    "set view map\n",
    "set cntrparam levels auto 9\n",
    "set cntrlabel start 2 interval 2 font \"Courier,11\"\n",
    "f(x,y) = sqrt(x**2 + y**2)\n",
    "splot f(x,y), f(x,y) with labels"
   ]
  },
  {
   "cell_type": "markdown",
   "metadata": {},
   "source": [
    "Vector Plots\n",
    "------------\n",
    "\n",
    "When the quantity that depends on x and y has both a magnitude and a\n",
    "direction it can be represented by an arrow whose length is proportional\n",
    "to the magnitude. If we divide the x-y plane into a grid and draw an\n",
    "arrow at each grid point representing the direction and magnitude at\n",
    "that point, we have a *vector plot*. As we are associating two\n",
    "quantities, the magnitude and direction (or, equivalently, Δx and Δy)\n",
    "for each value of x and y, we can think of this type of visualization as\n",
    "a 4D plot. Vector plots are used for representing fluid flows, electric\n",
    "fields, and many other physical systems.\n",
    "\n",
    "Vector plots require a data file or the the equivalent pseudofile\n",
    "syntax. Four columns are used for x, y, Δx, and Δy, respectively. We can\n",
    "set the size of the arrowheads, whether they are filled or open, and the\n",
    "angle of the sides of the arrowheads in degrees. The example here uses\n",
    "filled arrowheads of a medium size with a 15° angle. For more details on\n",
    "how to customize the arrow style, type `help arrowstyle`.\n",
    "\n",
    "This plot represents a rotating flow field."
   ]
  },
  {
   "cell_type": "code",
   "execution_count": null,
   "metadata": {},
   "outputs": [],
   "source": [
    "set xrange [0:pi]\n",
    "set yrange [0:pi]\n",
    "set iso 20\n",
    "set samp 20\n",
    "unset key\n",
    "a = .2\n",
    "plot \"++\" using 1:2:(-a*sin($1)*cos($2)):(a*cos($1)*sin($2))\\\n",
    "          with vectors size .06, 15 filled"
   ]
  },
  {
   "cell_type": "markdown",
   "metadata": {},
   "source": [
    "Vectors on a Surface\n",
    "--------------------\n",
    "\n",
    "Gnuplot can also render a vector field *on a surface* rather than merely\n",
    "on a plane. You can use this to represent, for example, 3D flow fields.\n",
    "As in the previous case, you need to use either datafile plotting or the\n",
    "“++” pseudofile. The first three columns define the surface, as when\n",
    "creating the surface plots of the last chapter, but the surface itself\n",
    "is not rendered. The last three columns represent Δx, Δy, and Δz. The\n",
    "following example is the same rotating flow as in the previous example,\n",
    "with the difference that the vectors lie on a surface given by the\n",
    "cosine of the squared distance from the origin."
   ]
  },
  {
   "cell_type": "code",
   "execution_count": null,
   "metadata": {},
   "outputs": [],
   "source": [
    "set xr [-1:1]; set yr[-1:1]\n",
    "set view 50, 340\n",
    "set iso 20; set samp 20\n",
    "unset key\n",
    "a = .2\n",
    "splot \"++\" u 1:2:(cos($1**2+$2**2)):(-a*sin($1)*cos($2)):\\\n",
    "             (a*cos($1)*sin($2)):(0) w vec size .02, 15 filled"
   ]
  },
  {
   "cell_type": "markdown",
   "metadata": {},
   "source": [
    "You can also render the surface in which the vectors are embedded. We do\n",
    "that here with a pm3d surface, which comes first in the plot command so\n",
    "that the arrows are plotted on top of it. In addition, we set the\n",
    "`linecolor` of the vectors to contrast with the coloring of the surface."
   ]
  },
  {
   "cell_type": "code",
   "execution_count": null,
   "metadata": {},
   "outputs": [],
   "source": [
    "set xr [-1:1]; set yr[-1:1]\n",
    "set view 50, 340\n",
    "set iso 20; set samp 20\n",
    "unset key\n",
    "a = .2\n",
    "splot \"++\" u 1:2:(cos($1**2+$2**2)) with pm3d,\\\n",
    "      \"++\" u 1:2:(cos($1**2+$2**2)):(-a*sin($1)*cos($2)):\\\n",
    "             (a*cos($1)*sin($2)):\\\n",
    "             (0) w vec size .02, 15 filled lc black"
   ]
  },
  {
   "cell_type": "markdown",
   "metadata": {},
   "source": [
    "Combining Contour Plots and Heat Maps\n",
    "-------------------------------------\n",
    "\n",
    "You can put a contour plot and a [heat map](#heat-maps) on the same\n",
    "graph. Why would you want to do such a thing? Sometimes people like to\n",
    "add contours to a heat map in order to allow the viewer to easily read\n",
    "off particular values; to show the data more precisely. Another reason\n",
    "is to visualize two related but different sets of data on the same\n",
    "graph. In the case of 2D plots, doing this is simple: we just plot any\n",
    "number of curves and identify them with labels or a legend. But with 3D\n",
    "plots, trying to interpret a graph containing two different sets of\n",
    "contours would be difficult, and plotting two heat maps simultaneously\n",
    "would be impossible. However, rendering one function or dataset as a\n",
    "heat map and the other one as a set of contours can work quite well. In\n",
    "this example, we exploit the [optional fourth\n",
    "column](#wireframe-surfaces-with-variable-coloring) of the `splot`\n",
    "command to define the colors for the heat map; the contours are taken\n",
    "from the third column. This requires us to use the “data” version of the\n",
    "`splot` command, through the “++” pseudofile. The colorbar gives the\n",
    "mapping from color to z-value, as usual, and we add some labels to\n",
    "identify the contours; this we can do using the “function” version of\n",
    "the `splot` command, as no columns are required. The highlighted word\n",
    "`onecolor`, which is an option to the `cntrlabel` command, tells gnuplot\n",
    "to plot all the contours the same color; the other highlighted bit, the\n",
    "`linewidth` and `linetype` specifiers, set the properties of the\n",
    "contours, allowing them to stand out against the colored background."
   ]
  },
  {
   "cell_type": "code",
   "execution_count": null,
   "metadata": {},
   "outputs": [],
   "source": [
    "set xrange [0:pi]; set yrange [0:pi]; set iso 100; set samp 100\n",
    "set cntrparam levels auto 10; set contour base\n",
    "unset key; set view map\n",
    "set cbr [-1 : 1]\n",
    "set cntrlabel start 1 interval 25 font \"Courier,14\" onecolor\n",
    "splot \"++\" using 1:2:($1**2-$2**2):(sin($1**2+$2**2)) with pm3d lt -1 lw 2,\\\n",
    "           x**2 - y**2 with labels "
   ]
  },
  {
   "cell_type": "markdown",
   "metadata": {},
   "source": [
    "Contours with Surfaces\n",
    "----------------------\n",
    "\n",
    "The command we used before to get contour plots, `set contour base`,\n",
    "suggests that there are other options. One of these is to put the\n",
    "contours on the surface. If you plot a mesh surface this way, you should\n",
    "draw the isolines in a light color, as we’ve done below, so that the\n",
    "contour lines are easy to see."
   ]
  },
  {
   "cell_type": "code",
   "execution_count": null,
   "metadata": {},
   "outputs": [],
   "source": [
    "set xrange [0:pi]; set yrange [0:pi]\n",
    "set iso 50; set samp 50\n",
    "set ztics 0.2\n",
    "set cntrparam levels auto 9\n",
    "set key maxrow 3 bmargin\n",
    "set contour surface\n",
    "set view 43, 38\n",
    "set hidden\n",
    "splot cos(sqrt(x**2 + y**2))**2 lc \"grey80\" title \"\""
   ]
  },
  {
   "cell_type": "markdown",
   "metadata": {},
   "source": [
    "You can also display the contour lines on the base and surface at the\n",
    "same time (as well as only on the base when drawing a surface). Let’s\n",
    "replot the previous example with contours on the surface and base, with\n",
    "labels (which are only drawn on the base)."
   ]
  },
  {
   "cell_type": "code",
   "execution_count": null,
   "metadata": {},
   "outputs": [],
   "source": [
    "set xrange [0:pi]; set yrange [0:pi]\n",
    "set iso 50; set samp 50\n",
    "set ztics 0.2\n",
    "set cntrparam levels auto 5\n",
    "set contour both\n",
    "set cntrlabel start 5 interval 55 font \"Courier,7\"\n",
    "set view 43, 38\n",
    "unset key\n",
    "set hidden\n",
    "splot cos(sqrt(x**2 + y**2))**2 lc \"grey80\",\\\n",
    "      cos(sqrt(x**2 + y**2))**2 with labels"
   ]
  },
  {
   "cell_type": "markdown",
   "metadata": {},
   "source": [
    "Heat Maps with Surfaces\n",
    "-----------------------\n",
    "\n",
    "Just as we can combine contour and surface plots, we can plot surfaces\n",
    "along with heat maps. We’ll stick with the function we’ve been using in\n",
    "the last few examples:"
   ]
  },
  {
   "cell_type": "code",
   "execution_count": null,
   "metadata": {},
   "outputs": [],
   "source": [
    "set xrange [0:pi]; set yrange [0:pi]\n",
    "set iso 50; set samp 50\n",
    "set ztics 0.2\n",
    "set view 43, 230\n",
    "set pal def (0 \"slateblue1\", .5 \"coral\", 1 \"seagreen\")\n",
    "unset key\n",
    "set hidden front\n",
    "splot cos(sqrt(x**2 + y**2))**2 lc \"black\",\\\n",
    "      cos(sqrt(x**2 + y**2))**2 with pm3d at b"
   ]
  },
  {
   "cell_type": "markdown",
   "metadata": {},
   "source": [
    "Intersecting Surfaces and Heat Maps\n",
    "-----------------------------------\n",
    "\n",
    "In all of our 3D plots so far, in this chapter and the previous one, we\n",
    "have allowed gnuplot to position the “base” of the plot in its default\n",
    "location, which is below the plotted surface. This is usually what you\n",
    "want. However, you can put the base, called the “xyplane” in gnuplot,\n",
    "anywhere you want. As before, `set hidden front` is essential to get a\n",
    "correct plot. Sometimes a good place for the xyplane is cutting right\n",
    "through the surface, as in this example:"
   ]
  },
  {
   "cell_type": "code",
   "execution_count": null,
   "metadata": {},
   "outputs": [],
   "source": [
    "set xrange [0:pi]; set yrange [0:pi]\n",
    "set iso 50; set samp 50\n",
    "set ztics 0.2\n",
    "set view 75, 237\n",
    "set pal def (0 \"slateblue1\", .5 \"coral\", 1 \"seagreen\")\n",
    "unset key\n",
    "set hidden front\n",
    "set xyplane at 0.6\n",
    "splot cos(sqrt(x**2 + y**2))**2 lc \"black\",\\\n",
    "      cos(sqrt(x**2 + y**2))**2 with pm3d at b"
   ]
  },
  {
   "cell_type": "markdown",
   "metadata": {},
   "source": [
    "Of course, you can combine the elements in the previous example with\n",
    "contour lines, as here (you can also draw contours on the surface, in\n",
    "combination with all of this):"
   ]
  },
  {
   "cell_type": "code",
   "execution_count": null,
   "metadata": {},
   "outputs": [],
   "source": [
    "set xrange [0:pi]; set yrange [0:pi]\n",
    "set iso 50; set samp 50\n",
    "set ztics 0.2\n",
    "set view 55, 335\n",
    "set pal def (0 \"slateblue1\", .5 \"coral\", 1 \"seagreen\")\n",
    "unset key\n",
    "set hidden front\n",
    "set contour base\n",
    "set xyplane at 0.2\n",
    "splot cos(sqrt(x**2 + y**2))**2 lc \"black\",\\\n",
    "      cos(sqrt(x**2 + y**2))**2 with pm3d at b"
   ]
  }
 ],
 "nbformat": 4,
 "nbformat_minor": 5,
 "metadata": {
  "kernelspec": {
   "display_name": "gnuplot",
   "language": "gnuplot",
   "name": "gnuplot"
  },
  "language_info": {
   "codemirror_mode": "Octave",
   "file_extension": ".gp",
   "help_links": [
    {
     "text": "MetaKernel Magics",
     "url": "https://metakernel.readthedocs.io/en/latest/source/README.html"
    }
   ],
   "mimetype": "text/x-gnuplot",
   "name": "gnuplot"
  }
 }
}
