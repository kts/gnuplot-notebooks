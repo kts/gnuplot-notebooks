{
 "cells": [
  {
   "cell_type": "markdown",
   "metadata": {},
   "source": [
    "2D Plots\n",
    "========\n",
    "\n",
    "This chapter covers various types and styles of two-dimensional (2D)\n",
    "plots in gnuplot. A 2D plot is a visual description of the relationship\n",
    "between two variables, whether that relationship is described by a\n",
    "mathematical function or a set of data. As in future chapters, we’ll\n",
    "start with simple examples and gradually get more complex, showing,\n",
    "along the way, how to customize the graphs’ appearance and the\n",
    "information that appears on it. As new commands or syntax elements are\n",
    "introduced, we’ll highlight those elements in the code listings to make\n",
    "it easy for the eye to pick out the new material. We’ll do this in a way\n",
    "that doesn’t affect your ability to copy-and-paste the code to get a\n",
    "working gnuplot script, ready to be adapted to your application.\n",
    "\n",
    "You can try out these scripts in two ways: you can save each script to a\n",
    "file, and tell gnuplot to execute it, or you can paste the script into\n",
    "the interactive prompt. The latter way may be better for experimenting\n",
    "and learning the system, but each way comes with its own caveat. If you\n",
    "are saving the scripts to files, you can run them by typing\n",
    "`gnuplot file`, substituting the name of the file for `file`. If you do\n",
    "this, however, you may not see any output, or get a brief glimpse of\n",
    "your plot before it vanishes. This is because the plot window for most\n",
    "on-screen “terminals”, as gnuplot calls its output devices, goes away\n",
    "when the gnuplot process exits. To prevent this, invoke the program with\n",
    "`gnuplot --persist file`. The caveat that applies to using the\n",
    "interactive prompt is this: some of the lines of code in our examples\n",
    "change various settings. These changes will persist in your session, but\n",
    "each script is intended to be self-contained. Therefore it’s probably\n",
    "best to give the command `reset` before starting a new example; this\n",
    "will wipe out any settings (well, most of them) that you’ve altered, and\n",
    "is (mostly) equivalent to ending the session (with `ctrl-D` on Linux and\n",
    "other Unix-like systems) and starting another one.\n",
    "\n",
    "Another, and quite wonderful, way to interact with gnuplot has recently\n",
    "appeared: a [gnuplot kernel](https://github.com/has2k1/gnuplot_kernel)\n",
    "for the [Jupyter notebook](https://jupyter.org/). This provides a\n",
    "browser-based interface to gnuplot that is very convenient for\n",
    "exploration and notekeeping.\n",
    "\n",
    "Plotting a Function\n",
    "-------------------\n",
    "\n",
    "Here’s a mathematical function that you’ve probably seen before. Gnuplot\n",
    "knows quite a lot of math, so we can just say its name to get a graph:"
   ]
  },
  {
   "cell_type": "code",
   "execution_count": 1,
   "metadata": {},
   "outputs": [
    {
     "data": {
      "image/png": "[encoded data removed]",
      "text/plain": [
       "<IPython.core.display.Image object>"
      ]
     },
     "metadata": {},
     "output_type": "display_data"
    }
   ],
   "source": [
    "plot sin(x)"
   ]
  },
  {
   "cell_type": "markdown",
   "metadata": {},
   "source": [
    "Setting Ranges\n",
    "--------------\n",
    "\n",
    "That was simple. Notice how gnuplot decided to plot our function from\n",
    "-10 to +10. That’s the default, which we got because we didn’t ask for\n",
    "any particular range. Gnuplot also set the y-axis limits (the range of\n",
    "the vertical axis) to encompass the range of the function over that\n",
    "default x-axis domain. Let’s take control of the limits on the\n",
    "horizontal axis (the new command is highlighted). Gnuplot happens to\n",
    "know what π is (but doesn’t know any other transcendental numbers)."
   ]
  },
  {
   "cell_type": "code",
   "execution_count": null,
   "metadata": {},
   "outputs": [],
   "source": [
    "set xrange [-pi : pi]\n",
    "plot sin(x)"
   ]
  },
  {
   "cell_type": "markdown",
   "metadata": {},
   "source": [
    "You may want to set the range of the vertical axis as well, either to\n",
    "show only a part of the function or data, or to leave extra room on the\n",
    "graph."
   ]
  },
  {
   "cell_type": "code",
   "execution_count": null,
   "metadata": {},
   "outputs": [],
   "source": [
    "set xrange [-pi : pi]\n",
    "set yrange [-2 : 2]\n",
    "plot sin(x)"
   ]
  },
  {
   "cell_type": "markdown",
   "metadata": {},
   "source": [
    "Changing the Linewidth\n",
    "----------------------\n",
    "\n",
    "The default styles chosen by gnuplot are not ideal. Fortunately, we can\n",
    "change everything, and make gnuplot’s output look any way we want. We’ll\n",
    "defer changing the styles of labels, including tic labels, to a later\n",
    "chapter. But for now, let’s make the plot curves a bit thicker. The\n",
    "`set lw` command set the **linewidth**; the parameter is the multiple of\n",
    "the default width for the terminal in use."
   ]
  },
  {
   "cell_type": "code",
   "execution_count": null,
   "metadata": {},
   "outputs": [],
   "source": [
    "set xrange [-pi : pi]\n",
    "plot sin(x) lw 3"
   ]
  },
  {
   "cell_type": "markdown",
   "metadata": {},
   "source": [
    "Positioning the Key\n",
    "-------------------\n",
    "\n",
    "Notice how the automatically generated legend, or what gnuplot calls the\n",
    "“key”, also displays the same styling details we give to the curves.\n",
    "And, speaking of the key, now that we’ve reverted to using the entire\n",
    "plot height, notice how the curve collides with it. Gnuplot positions\n",
    "some things automatically, but the key is not one of them. Gnuplot\n",
    "provides several ways to position the key. Here’s the simplest:"
   ]
  },
  {
   "cell_type": "code",
   "execution_count": null,
   "metadata": {},
   "outputs": [],
   "source": [
    "set xrange [-pi : pi]\n",
    "set key bottom right\n",
    "plot sin(x) lw 3"
   ]
  },
  {
   "cell_type": "markdown",
   "metadata": {},
   "source": [
    "You can probably guess what you get with various combinations of\n",
    "`bottom`, `left`, `right`, and `top`. If you need finer control over\n",
    "positioning, you can refer to one of gnuplot’s coordinate systems (as in\n",
    "all the code examples, the new commands are highlighted):"
   ]
  },
  {
   "cell_type": "code",
   "execution_count": null,
   "metadata": {},
   "outputs": [],
   "source": [
    "set xrange [-pi : pi]\n",
    "set key at graph 0.3, 0.6\n",
    "plot sin(x) lw 3"
   ]
  },
  {
   "cell_type": "markdown",
   "metadata": {},
   "source": [
    "The phrase `at graph 0.3, 0.6` positions the key at location x = 0.3 and\n",
    "y = 0.6 in graph coordinates, which is a coordinate system where (0,0)\n",
    "is at the bottom left of the actual graph (not the screen on which the\n",
    "graph is drawn). Say `help coordinate` to invoke gnuplot’s help system\n",
    "and get a rundown of the *five* coordinate systems available to you.\n",
    "\n",
    "Defining a Graph Title\n",
    "----------------------\n",
    "\n",
    "In a later chapter we’ll find out how to [style the text](#text-styling)\n",
    "used in the key and elsewhere. For now, here is how to add a title to\n",
    "the graph:"
   ]
  },
  {
   "cell_type": "code",
   "execution_count": null,
   "metadata": {},
   "outputs": [],
   "source": [
    "set xrange [-pi : pi]\n",
    "set key at graph 0.3, 0.6\n",
    "set title \"Sine Wave\"\n",
    "plot sin(x) lw 3"
   ]
  },
  {
   "cell_type": "markdown",
   "metadata": {},
   "source": [
    "Titling Individual Curves\n",
    "-------------------------\n",
    "\n",
    "You can use Unicode characters in your titles, and anywhere you specify\n",
    "text. We often want to supply individual curves with titles as well:"
   ]
  },
  {
   "cell_type": "code",
   "execution_count": null,
   "metadata": {},
   "outputs": [],
   "source": [
    "set xrange [-pi : pi]\n",
    "set key at graph 0.3, 0.6\n",
    "set title \"Sine Wave\"\n",
    "plot sin(x) lw 3 title \"Sine of x\""
   ]
  },
  {
   "cell_type": "markdown",
   "metadata": {},
   "source": [
    "Grid Lines\n",
    "----------\n",
    "\n",
    "To apply a grid to your graph, use the new command given below. The\n",
    "gridlines will, by default, extend the major axes tics; in a later\n",
    "chapter we’ll learn how to get total control over our tics."
   ]
  },
  {
   "cell_type": "code",
   "execution_count": null,
   "metadata": {},
   "outputs": [],
   "source": [
    "set xrange [-pi : pi]\n",
    "set key at graph 0.3, 0.6\n",
    "set title \"Sine Wave\"\n",
    "set grid\n",
    "plot sin(x) lw 3 title \"Sine of x\""
   ]
  },
  {
   "cell_type": "markdown",
   "metadata": {},
   "source": [
    "The gridlines can be styled just as the plotted curves can. In fact,\n",
    "depending on your terminal, the gridlines may be so faint as to be\n",
    "almost impossible to see until you apply some styling to make them more\n",
    "visible. To make it easier to style lines and curves, it’s time to\n",
    "introduce the concept of the “linetype” in gnuplot. Each terminal has a\n",
    "set of predefined linetypes (abbreviated `lt`). To see what they are,\n",
    "and to test some of the other capabilities of the terminal you’re using,\n",
    "just enter this command:"
   ]
  },
  {
   "cell_type": "code",
   "execution_count": null,
   "metadata": {},
   "outputs": [],
   "source": [
    "test"
   ]
  },
  {
   "cell_type": "markdown",
   "metadata": {},
   "source": [
    "Linetypes\n",
    "---------\n",
    "\n",
    "Let’s say that you want solid gridlines. Referring to the test plot we\n",
    "just made, you can see that the solid line is linetype 1 (it may be\n",
    "something different on your terminal). Here is how we get a grid with\n",
    "solid, green gridlines:"
   ]
  },
  {
   "cell_type": "code",
   "execution_count": 2,
   "metadata": {},
   "outputs": [
    {
     "data": {
      "image/png": "[encoded data removed]",
      "text/plain": [
       "<IPython.core.display.Image object>"
      ]
     },
     "metadata": {},
     "output_type": "display_data"
    }
   ],
   "source": [
    "set xrange [-pi : pi]\n",
    "set key at graph 0.3, 0.6\n",
    "set title \"Sine Wave\"\n",
    "set grid lt 1 lc rgb \"green\"\n",
    "plot sin(x) lw 3 title \"Sine of x\""
   ]
  },
  {
   "cell_type": "markdown",
   "metadata": {},
   "source": [
    "Plotting Multiple Curves\n",
    "------------------------\n",
    "\n",
    "To see the list of color names that gnuplot accepts, just type\n",
    "`show colors` at the prompt. To plot more than one curve on a graph,\n",
    "just separate the functions (or data files, which we’ll see later in\n",
    "this chapter) by commas, and gnuplot will plot them in a sequence of\n",
    "colors, putting them on the key so you can identify them.\n",
    "`plotting-multiple-curves`"
   ]
  },
  {
   "cell_type": "code",
   "execution_count": 3,
   "metadata": {},
   "outputs": [
    {
     "data": {
      "image/png": "[encoded data removed]",
      "text/plain": [
       "<IPython.core.display.Image object>"
      ]
     },
     "metadata": {},
     "output_type": "display_data"
    }
   ],
   "source": [
    "set xrange [-pi : pi]\n",
    "set key at graph 0.3, 0.7\n",
    "set title \"Trigonometric Functions\"\n",
    "set grid lt 1 lc rgb \"green\"\n",
    "plot sin(x) lw 3 title \"Sine of x\", cos(x) lw 3\\\n",
    "   title \"Cosine of x\""
   ]
  },
  {
   "cell_type": "markdown",
   "metadata": {},
   "source": [
    "Monochrome\n",
    "----------\n",
    "\n",
    "When preparing a paper for publication, you may have to create black and\n",
    "white renditions of your graphs for the print version. The script here\n",
    "shows the command you need; as you can see, gnuplot substitutes a\n",
    "sequence of dash styles in place of a sequence of colors."
   ]
  },
  {
   "cell_type": "code",
   "execution_count": null,
   "metadata": {},
   "outputs": [],
   "source": [
    "set monochrome\n",
    "set xrange [-pi : pi]\n",
    "set key at graph 0.3, 0.7\n",
    "set title \"Trigonometric Functions\"\n",
    "set grid \n",
    "plot sin(x) lw 3 title \"Sine of x\", cos(x) lw 3\\\n",
    "   title \"Cosine of x\""
   ]
  },
  {
   "cell_type": "markdown",
   "metadata": {},
   "source": [
    "Creating and Plotting Data Files\n",
    "--------------------------------\n",
    "\n",
    "Of course, gnuplot can plot data from files (and other sources, too, as\n",
    "we’ll see in subsequent chapters) as well as mathematical functions. In\n",
    "order to experiment with this, we’ll need at least one data file. You\n",
    "could make it by hand with a text editor or write a program in your\n",
    "favorite language to generate some data, or use some that you have\n",
    "available. But gnuplot can make data files itself. To make a file with\n",
    "data that forms a parabola, execute the following script. We’ve included\n",
    "comments (they begin with the “\\#” character; everything after this\n",
    "character is ignored by gnuplot) to explain what the new commands do."
   ]
  },
  {
   "cell_type": "code",
   "execution_count": null,
   "metadata": {},
   "outputs": [],
   "source": [
    "set table \"parabola.dat\" # Save numbers to a file.\n",
    "plot -x**2\n",
    "unset table # Go back to normal plotting.\n",
    "plot sin(x) lw 3 title \"Sine of x\", \\\n",
    "   \"parabola.dat\" title \"Parabola data\""
   ]
  },
  {
   "cell_type": "markdown",
   "metadata": {},
   "source": [
    "After executing the previous script you should have a file called\n",
    "“parabola.dat” in the directory in which you started gnuplot. Keep it\n",
    "around so we can use it with later examples. It will serve, also, as a\n",
    "convenient reference for the format that gnuplot expects when plotting\n",
    "data files. In the last line, after our familiar sine curve, we’ve\n",
    "plotted the numbers read from the file given inside quotation marks.\n",
    "This final line also shows how we can break long lines in scripts into\n",
    "two by using a backslash. Gnuplot has chosen markers, rather than a\n",
    "continuous line, to help indicate that we’re looking at data, but we can\n",
    "change this.\n",
    "\n",
    "Using a Second y-axis\n",
    "---------------------\n",
    "\n",
    "First, however, notice how the sine curve is squashed, due to the larger\n",
    "range on the y-axis required to include the data from the file. We can\n",
    "fix that by plotting each curve against its own y-axis:"
   ]
  },
  {
   "cell_type": "code",
   "execution_count": null,
   "metadata": {},
   "outputs": [],
   "source": [
    "set y2tics -100, 20\n",
    "set ytics nomirror\n",
    "plot sin(x) axis x1y1 lw 3 title \"Sine of x\" , \\\n",
    "   \"parabola.dat\" axis x1y2 title \"Parabola data\""
   ]
  },
  {
   "cell_type": "markdown",
   "metadata": {},
   "source": [
    "Gnuplot can have two different y-axes and two different x-axes. In order\n",
    "to define a second y-axis, use the `y2tics` command; the first parameter\n",
    "is the starting value at the bottom of the graph, and the second is the\n",
    "interval between tics on the axis. The second line tells gnuplot to use\n",
    "a different axis on the right-hand side, rather than simply *mirroring*\n",
    "the left-hand y-axis. The final plot command is the same as the ones\n",
    "we’ve seen before, with the addition of the “axis” commands; these tell\n",
    "gnuplot which set of axes to use for which curve.\n",
    "\n",
    "Notice how the previous graph doesn’t really have room for the key\n",
    "anywhere inside it. One way to handle this is to put the key outside:"
   ]
  },
  {
   "cell_type": "code",
   "execution_count": null,
   "metadata": {},
   "outputs": [],
   "source": [
    "set key bottom left outside\n",
    "plot sin(x) axis x1y1 lw 3 title \"Sine of x\" , \\\n",
    "    \"parabola.dat\" axis x1y2 title \"Parabola data\""
   ]
  },
  {
   "cell_type": "markdown",
   "metadata": {},
   "source": [
    "Multiplot\n",
    "---------\n",
    "\n",
    "There is another way to get multiple plots on one graph, one that is\n",
    "ultimately more flexible. We’ll explore the full capabilities of\n",
    "`multiplot` in a later chapter. For now, here is a simple example of how\n",
    "to use it to put two curves on a single graph, with each curve using its\n",
    "own settings. If you enter the commands one at a time at the terminal,\n",
    "notice how the prompt changes from **\\>gnuplot** to **\\>multiplot**\n",
    "after the `set multiplot` command is entered. To clear the graph and\n",
    "start over, you can enter another `multiplot` command."
   ]
  },
  {
   "cell_type": "code",
   "execution_count": null,
   "metadata": {},
   "outputs": [],
   "source": [
    "set multiplot\n",
    "set xrange [-2*pi : 2*pi]\n",
    "plot sin(x) lt 2 lw 4\n",
    "set x2range [-6*pi : 6*pi]\n",
    "plot sin(x) lt 3 lw 4 axis x2y1"
   ]
  },
  {
   "cell_type": "markdown",
   "metadata": {},
   "source": [
    "Sampling Frequency\n",
    "------------------\n",
    "\n",
    "Gnuplot plots functions by dividing the x-axis into a number of points\n",
    "and evaluating the function at each point. These evaluation locations\n",
    "are called “samples.” By default, gnuplot will use 100 samples.\n",
    "Sometimes this is not enough, and sometimes it is too many for our\n",
    "presentational strategy, as we’ll see shortly. You can change the number\n",
    "of samples used with the `set samples` command. This will set the total\n",
    "number of (equally-spaced) sampled used for all the plot commands until\n",
    "you change it with another `set samples` command; but we can plot curves\n",
    "using different numbers of samples on the same graph by using the\n",
    "`multiplot` mode that we learned about in the previous example. When we\n",
    "reduce the number of samples, first our graph gets a little bumpy. When\n",
    "we reduce it too much, we see the effects of\n",
    "*[aliasing](http://redwood.berkeley.edu/bruno/npb261/aliasing.pdf)*, and\n",
    "other symptoms of undersampling. Here is an example showing the same\n",
    "sine wave plotted twice. The two curves have different constants added\n",
    "to them to shift them vertically so we can see them both clearly on a\n",
    "single graph. Nothing else is changed except for the sampling frequency."
   ]
  },
  {
   "cell_type": "code",
   "execution_count": null,
   "metadata": {},
   "outputs": [],
   "source": [
    "set multiplot\n",
    "set nokey\n",
    "set yrange [-2 : 2]\n",
    "set samples 800\n",
    "plot sin(10*x)+1 lw 3 lt 1\n",
    "set samples 100\n",
    "plot sin(10*x)-1 lw 3 lt 2"
   ]
  },
  {
   "cell_type": "markdown",
   "metadata": {},
   "source": [
    "The “with” Command\n",
    "------------------\n",
    "\n",
    "The three main styles for plotting functions or data are called `lines`,\n",
    "`points` (used for the parabola data in the previous two examples) and\n",
    "both together, called `linespoints`. The style can be chosen on the fly\n",
    "using the `with` command, as in the following example:"
   ]
  },
  {
   "cell_type": "code",
   "execution_count": null,
   "metadata": {},
   "outputs": [],
   "source": [
    "set key top left\n",
    "set xrange [0 : 1]\n",
    "plot x with lines, x**2 with points, x**3 with linespoints"
   ]
  },
  {
   "cell_type": "markdown",
   "metadata": {},
   "source": [
    "[Above](#linetypes) we saw that the linetype can be selected from among\n",
    "those displayed using the `test` command. As you can see, the output of\n",
    "that command also displays examples of markers next to each sample line.\n",
    "You can have open or closed circles, diamonds, triangles, etc., but\n",
    "referring the `pointtype` (abbreviated `pt`). And just as you can set\n",
    "the line width with `lw`, you can set the point size with `ps`. This\n",
    "example, like all the others in this chapter, shows how to set styles on\n",
    "the fly, individually for each curve. In a later chapter we’ll see how\n",
    "to define reusable styles and set styling defaults, to save typing and\n",
    "make our scripts easier to read. Gnuplot places a marker at each sample\n",
    "point. We’ve reduced the sampling frequency to make room for the larger\n",
    "markers."
   ]
  },
  {
   "cell_type": "code",
   "execution_count": null,
   "metadata": {},
   "outputs": [],
   "source": [
    "set samples 20\n",
    "set key top left\n",
    "set xrange [0 : 1]\n",
    "plot x with lines lw 3, x**2 with points pt 6 ps 2,\\\n",
    "   x**3 with linespoints lw 3 pt 15 ps 3"
   ]
  },
  {
   "cell_type": "markdown",
   "metadata": {},
   "source": [
    "Dashed Lines\n",
    "------------\n",
    "\n",
    "You might have noticed, as well, that the output of the `test` command\n",
    "displays some dash patterns. You can set these as well, by specifying\n",
    "the `dashtype`, which can be abbreviated `dt`."
   ]
  },
  {
   "cell_type": "code",
   "execution_count": null,
   "metadata": {},
   "outputs": [],
   "source": [
    "set key top left\n",
    "set xrange [0 : 1]\n",
    "plot x lw 3 dt 5, x**2 lw 4 dt 3,\\\n",
    "   x**3  lw 3 dt 2"
   ]
  },
  {
   "cell_type": "markdown",
   "metadata": {},
   "source": [
    "In order to use the `dashtype` setting in the previous example, you need\n",
    "to remember which type number is associated with which dash pattern, or\n",
    "refer to the output of the `test` command. There is a simpler and more\n",
    "pleasant way, however, which was recently added to gnuplot. You can\n",
    "specify the dash pattern visually, as in this example:"
   ]
  },
  {
   "cell_type": "code",
   "execution_count": null,
   "metadata": {},
   "outputs": [],
   "source": [
    "set key top left\n",
    "set xrange [0 : 1]\n",
    "plot x lw 3 dt \"._\", x**2 lw 4 dt \"- -\",\\\n",
    "   x**3  lw 3 dt \"- . _\""
   ]
  },
  {
   "cell_type": "markdown",
   "metadata": {},
   "source": [
    "The “set link” Command\n",
    "----------------------\n",
    "\n",
    "[Earlier](#using-a-second-y-axis) in this chapter we learned how to set\n",
    "up a second y-axis so that two curves could be plotted together even\n",
    "though they covered very different ranges. The y2 axis can have its own\n",
    "range (set via `set y2range`) and its own tic spacing. Gnuplot also\n",
    "allows the two y-axes, or the two x-axes, to be related by any\n",
    "mathematical transformation. You do this by using the `set link`\n",
    "command, which requires you to spell out the inverse transformation as\n",
    "well:"
   ]
  },
  {
   "cell_type": "code",
   "execution_count": null,
   "metadata": {},
   "outputs": [],
   "source": [
    "set key bottom right\n",
    "set xrange [0 : 10]\n",
    "set link y2 via y**2 inverse sqrt(y)\n",
    "set ytics nomirror\n",
    "set y2tics 0, 5\n",
    "plot x lw 15, x**2 lw 4 axis x1y2"
   ]
  },
  {
   "cell_type": "markdown",
   "metadata": {},
   "source": [
    "The previous example was designed to make it clear what the axis scaling\n",
    "does. As you can see from the ticmarks on the y2 axis, the scale on that\n",
    "axis is not linear, but is defined by the transformation in the\n",
    "`set link` command. We’ve plotted a straight line (the function “x”) on\n",
    "the y1 axis, using a very thick width, and the function $x^2$ on the y2\n",
    "axis, using a thinner line. The scaling of the y2 axis undoes the\n",
    "function, turning it into a straight line, which overlays the “real”\n",
    "straight line.\n",
    "\n",
    "If we turn on the grid, using the `set grid` command that we [learned\n",
    "about above](#grid-lines), the grid will align with the y1 axis tics\n",
    "(and the x-axis tics). If we want it to align with the scaled, y2 axis,\n",
    "here’s what we do:"
   ]
  },
  {
   "cell_type": "code",
   "execution_count": null,
   "metadata": {},
   "outputs": [],
   "source": [
    "set key bottom right\n",
    "set xrange [0 : 10]\n",
    "set link y2 via y**2 inverse sqrt(y)\n",
    "set ytics nomirror\n",
    "set y2tics 0, 5\n",
    "set grid lw 2 lt 1 lc rgb \"gray\"\n",
    "set grid noy y2\n",
    "plot x lw 15, x**2 lw 4 axis x1y2"
   ]
  },
  {
   "cell_type": "markdown",
   "metadata": {},
   "source": [
    "In the previous script, `y2` is actually an abbreviation for `y2tics`,\n",
    "etc. We had to specify `noy` (short for `noytics`) to turn off the grid\n",
    "for the first y-axis. Having them both on would lead to a confusing\n",
    "mess. You can also have a grid that extends the ticmarks of just one\n",
    "axis, by explicitly turning off the other one:"
   ]
  },
  {
   "cell_type": "code",
   "execution_count": null,
   "metadata": {},
   "outputs": [],
   "source": [
    "set key bottom right\n",
    "set xrange [0 : 10]\n",
    "set link y2 via y**2 inverse sqrt(y)\n",
    "set ytics nomirror\n",
    "set y2tics 0, 5\n",
    "set grid lw 2 lt 1 lc rgb \"gray\"\n",
    "set grid  y2\n",
    "set grid nox noy y2\n",
    "plot x lw 15, x**2 lw 4 axis x1y2"
   ]
  },
  {
   "cell_type": "markdown",
   "metadata": {},
   "source": [
    "One very useful application of grid linking is showing different units\n",
    "on the same graph. Light can be talked about in terms of wavelength or\n",
    "of photon energy; the two are related by $E = hc/λ$, where $E$ is the\n",
    "energy, $h$ is Planck’s constant, and $λ$ is the wavelength. In the\n",
    "linking formula in the script below, we’ve used a multiplier that let’s\n",
    "us express $λ$ in microns and $E$ in eV (electron volts). The\n",
    "highlighted line is the form of the `set xtics` command that sets in\n",
    "interval between the tics, letting gnuplot choose the start and end\n",
    "values automatically."
   ]
  },
  {
   "cell_type": "code",
   "execution_count": null,
   "metadata": {},
   "outputs": [],
   "source": [
    "set title\\\n",
    " \"Transmission vs. Energy (eV, top) and λ (μm, bottom)\"\n",
    "set xrange [5 : 10]\n",
    "set xtics nomirror\n",
    "set link x2 via 1.24/x inverse 1.24/x\n",
    "set x2tics .02\n",
    "set grid\n",
    "plot exp(x) lw 4"
   ]
  },
  {
   "cell_type": "markdown",
   "metadata": {},
   "source": [
    "Parametric Plots\n",
    "----------------\n",
    "\n",
    "Up to now we’ve seen plots of functions and data where there was an\n",
    "explicit relationship between the x and y values. A more general class\n",
    "of 2D curves is where the x and y values each depend on a third\n",
    "variable, called a *parameter*. In gnuplot, the parameter is called “t”.\n",
    "It has a default range, just as x does: \\[-5 : 5\\], and can be reset\n",
    "with the `set trange` command. The following plot resembles a Lissajous\n",
    "figure, which can be seen on an oscilloscope when sine waves of\n",
    "different frequencies are plugged into the x and y axes."
   ]
  },
  {
   "cell_type": "code",
   "execution_count": null,
   "metadata": {},
   "outputs": [],
   "source": [
    "set samples 1000\n",
    "set parametric\n",
    "unset key\n",
    "plot sin(7*t), cos(11*t)"
   ]
  },
  {
   "cell_type": "markdown",
   "metadata": {},
   "source": [
    "Up to now the tic marks and labels have been placed around the outside\n",
    "of the plot, at what gnuplot calls the “border”. This is not where the\n",
    "actual axes are. Unless you turn them on, the axes are not drawn."
   ]
  },
  {
   "cell_type": "code",
   "execution_count": null,
   "metadata": {},
   "outputs": [],
   "source": [
    "set samples 1000\n",
    "set parametric\n",
    "unset key\n",
    "set zeroaxis\n",
    "plot sin(7*t), cos(11*t)"
   ]
  },
  {
   "cell_type": "markdown",
   "metadata": {},
   "source": [
    "You can choose to show only one of the axes. Let’s try that while also\n",
    "showing how to set the thickness of the axis line. Linetypes and colors\n",
    "can be set as well."
   ]
  },
  {
   "cell_type": "code",
   "execution_count": null,
   "metadata": {},
   "outputs": [],
   "source": [
    "set samples 1000\n",
    "set parametric\n",
    "unset key\n",
    "set yzeroaxis lw 4\n",
    "plot sin(7*t), cos(11*t)"
   ]
  },
  {
   "cell_type": "markdown",
   "metadata": {},
   "source": [
    "In the previous examples the ticmarks and their numerical labels stayed\n",
    "on the border. We can move the x-tics, y-tics, or both to the axes."
   ]
  },
  {
   "cell_type": "code",
   "execution_count": null,
   "metadata": {},
   "outputs": [],
   "source": [
    "set samples 1000\n",
    "set parametric\n",
    "unset key\n",
    "set zeroaxis lw 3\n",
    "set xtics axis \n",
    "plot sin(7*t), cos(11*t)"
   ]
  },
  {
   "cell_type": "markdown",
   "metadata": {},
   "source": [
    "Here we move all the tics to the axes and dispense with the border\n",
    "entirely:"
   ]
  },
  {
   "cell_type": "code",
   "execution_count": null,
   "metadata": {},
   "outputs": [],
   "source": [
    "set samples 1000\n",
    "set parametric\n",
    "unset key\n",
    "set zeroaxis lw 3\n",
    "unset border\n",
    "set xtics axis \n",
    "set ytics axis \n",
    "plot sin(7*t), cos(11*t)"
   ]
  },
  {
   "cell_type": "markdown",
   "metadata": {},
   "source": [
    "Controlling Your Borders\n",
    "------------------------\n",
    "\n",
    "You can have a partial border: on the top, left, or any combination.\n",
    "Specify where by adding these numbers for the segments that you want,\n",
    "and using the result as a parameter in the `set border` command:\n",
    "\n",
    "    1      bottom      \n",
    "    2      left        \n",
    "    4      top         \n",
    "    8      right       \n",
    "\n",
    "`controlling-your-borders` So to get (horizontal) borders on the top and\n",
    "bottom only, the magic number is 5. Here’s how to use this to get\n",
    "borders on the bottom and left:"
   ]
  },
  {
   "cell_type": "code",
   "execution_count": null,
   "metadata": {},
   "outputs": [],
   "source": [
    "set samples 1000\n",
    "set parametric\n",
    "unset key\n",
    "set zeroaxis lw 3\n",
    "set border 3 lw 2\n",
    "set xtics axis \n",
    "set ytics axis\n",
    "plot sin(7*t), cos(11*t)"
   ]
  },
  {
   "cell_type": "markdown",
   "metadata": {},
   "source": [
    "Front and Back\n",
    "--------------\n",
    "\n",
    "Borders and grids can be drawn in front of or behind the data. Unless\n",
    "you reset it, the grid is drawn behind the curves and the border in\n",
    "front. We’ll illustrate the effect of changing the default with some\n",
    "thick gridlines. To review the meanings of the abbreviations in the\n",
    "second to last line of the script below: `lw 12` means 12 times the\n",
    "terminal’s default linewidth; `lt 1` means linetype 1, usually a solid\n",
    "line; and `lc` is short for linecolor, where we’ve chosen one of the\n",
    "convenient color names. Along with the “front” keyword, there is a\n",
    "“back” keyword that does what you would expect."
   ]
  },
  {
   "cell_type": "code",
   "execution_count": null,
   "metadata": {},
   "outputs": [],
   "source": [
    "set samples 1000\n",
    "set parametric\n",
    "unset key\n",
    "unset border\n",
    "set grid lw 12 lt 1 lc rgb \"light-gray\" front\n",
    "plot sin(7*t), cos(11*t)"
   ]
  },
  {
   "cell_type": "markdown",
   "metadata": {},
   "source": [
    "Polar Coordinates\n",
    "-----------------\n",
    "\n",
    "All the plots in this chapter up to now have used rectangular\n",
    "coordinates, which gnuplot calls, following the usual convention, x and\n",
    "y. For certain types of situations, however, *polar* geometry is the\n",
    "natural coordinate system. In polar coordinates we have a radius, r,\n",
    "measured from the origin (which is usually at the center of the graph)\n",
    "and an angle, θ, usually measured counter-clockwise from the horizontal.\n",
    "On the gnuplot command line, the angular coordinate is called “t”, and\n",
    "has a default range of 0 to 2π; for this plot we want to cover a larger\n",
    "range of angles, so we set the `trange` accordingly. This example also\n",
    "demonstrates gnuplot’s default treatment of the axes in a polar plot,\n",
    "adding a radius axis to the usual borders."
   ]
  },
  {
   "cell_type": "code",
   "execution_count": null,
   "metadata": {},
   "outputs": [],
   "source": [
    "set samples 500\n",
    "set polar\n",
    "set trange [0 : 12*pi]\n",
    "plot t lw 2"
   ]
  },
  {
   "cell_type": "markdown",
   "metadata": {},
   "source": [
    "The previous graph depicts the function r = t, which we got just by\n",
    "telling gnuplot to `plot t`. This is sometimes called Archimedes’\n",
    "spiral. It is analogous to plotting a straight line in rectangular\n",
    "coordinates, or the function y = x, by telling gnuplot to `plot x`.\n",
    "Using polar coordinates, we can easily generate some complicated looking\n",
    "plots, such as the spirograph-type curve shown here. In this example\n",
    "we’ve turned off all the tics and axes, including those associated with\n",
    "the radius coordinate, leaving just a decorative curve."
   ]
  },
  {
   "cell_type": "code",
   "execution_count": null,
   "metadata": {},
   "outputs": [],
   "source": [
    "set samples 2000\n",
    "unset key\n",
    "unset border\n",
    "unset xtics\n",
    "unset ytics\n",
    "unset rtics\n",
    "unset raxis\n",
    "set polar\n",
    "set trange [0 : 12*pi]\n",
    "plot cos(0.67*t) lw 2"
   ]
  },
  {
   "cell_type": "markdown",
   "metadata": {},
   "source": [
    "Filled Curves\n",
    "-------------\n",
    "\n",
    "Gnuplot can *fill* portions of the curves you plot with colors or\n",
    "patterns. There are a handful of options for filling curves; we’ll give\n",
    "an example of each one. Here is the default if you just use the\n",
    "`with filledcurves` command with no options. It treats the curve as if\n",
    "it were closed and fills up the resulting area:"
   ]
  },
  {
   "cell_type": "code",
   "execution_count": null,
   "metadata": {},
   "outputs": [],
   "source": [
    "set key top left\n",
    "plot sin(x) with filledcurves"
   ]
  },
  {
   "cell_type": "markdown",
   "metadata": {},
   "source": [
    "In the previous example the program just closed the curve by drawing an\n",
    "imaginary line from the final point plotted to the first point. This\n",
    "default behavior is perhaps more useful in certain polar plots, like the\n",
    "one we show here. Note the order in which the plot commands are issued;\n",
    "this is the order in which gnuplot will draw the curves and paint the\n",
    "fills. It should be clear that when we say `plot 3` in polar coordinates\n",
    "that we are asking for a circle with radius = 3; because the set of\n",
    "points for which the radius is a fixed value is the definition of a\n",
    "circle. When you try this example, you may find that, instead of\n",
    "circles, gnuplot is drawing what look like ellipses. This is because it\n",
    "is setting up the plots on your terminal to cover a non-square\n",
    "rectangular area. This usually looks better than a square plot, but if\n",
    "you want your circles to look like circles, add the command\n",
    "`set size ratio 1` before the `plot` command (you can also say\n",
    "`set size square`). We’ll have more to say about sizing and positioning\n",
    "plots in a [later chapter](#multiplot)."
   ]
  },
  {
   "cell_type": "code",
   "execution_count": null,
   "metadata": {},
   "outputs": [],
   "source": [
    "set polar\n",
    "plot 3 with filledcurves, 2 with filledcurves,\\\n",
    "   1 with filledcurves"
   ]
  },
  {
   "cell_type": "markdown",
   "metadata": {},
   "source": [
    "In the previous example, we let gnuplot create the fills with its\n",
    "default sequence of solid colors. These can be altered using the\n",
    "`with fillcolor` command, or its abbreviation, `with fc`, just as\n",
    "linecolors can be set with the `with lc` command. A later chapter will\n",
    "be devoted entirely to color in gnuplot; there we’ll learn how to do\n",
    "such things as overlaying fills with different colors and opacities. But\n",
    "we have another option. If you look at the output of the `test` command\n",
    "again, you will notice a collection of “pattern fill”s. These depend on\n",
    "the terminal in use. Here is how to use them to fill areas with patterns\n",
    "rather than solid colors. This is particularly useful when preparing\n",
    "plots for publication when color is not an option. In the code below,\n",
    "`fs` is an abbreviation for `fillstyle`."
   ]
  },
  {
   "cell_type": "code",
   "execution_count": null,
   "metadata": {},
   "outputs": [],
   "source": [
    "set polar\n",
    "plot 3 with filledcurves fs pattern 2,\\\n",
    "   2 with filledcurves fs pattern 4,\\\n",
    "   1 with filledcurves fs pattern 7"
   ]
  },
  {
   "cell_type": "markdown",
   "metadata": {},
   "source": [
    "In the previous example of pattern fills, gnuplot used the patterns we\n",
    "specified, but also applied a sequence of colors. If you want a strictly\n",
    "monochrome rendering, you can combine patterns with the command for\n",
    "that:"
   ]
  },
  {
   "cell_type": "code",
   "execution_count": null,
   "metadata": {},
   "outputs": [],
   "source": [
    "set polar\n",
    "set monochrome\n",
    "plot 3 with filledcurves fs pattern 2,\\\n",
    "     2 with filledcurves fs pattern 4,\\\n",
    "     1 with filledcurves fs pattern 7"
   ]
  },
  {
   "cell_type": "markdown",
   "metadata": {},
   "source": [
    "Now let’s return to rectangular coordinates to illustrate the other\n",
    "filledcurves options. Sometimes you want to fill in the part of a curve\n",
    "that lies above or below a particular value. Here is an example showing\n",
    "how to do both on one graph, using a Bessel function (to get a list of\n",
    "the other special functions built-in to gnuplot, issue the command\n",
    "`help expressions functions`). After doing the filledcurves plots, we\n",
    "need to plot the curve itself, as the filledcurves plots just plot the\n",
    "fills:"
   ]
  },
  {
   "cell_type": "code",
   "execution_count": null,
   "metadata": {},
   "outputs": [],
   "source": [
    "unset key\n",
    "set grid\n",
    "set xrange [0 : 50]\n",
    "plot besy0(x) with filledcurves above y = 0.08,\\\n",
    "     besy0(x) with filledcurves below y = -0.08,\\\n",
    "     besy0(x) lw 2"
   ]
  },
  {
   "cell_type": "markdown",
   "metadata": {},
   "source": [
    "Another option is to fill the area between the curve and a vertical or\n",
    "horizontal line:"
   ]
  },
  {
   "cell_type": "code",
   "execution_count": null,
   "metadata": {},
   "outputs": [],
   "source": [
    "set key top left\n",
    "set xrange [-1 : 1]\n",
    "set grid lw 2\n",
    "plot x**3 with filledcurves x=-0.5,\\\n",
    "    -x**2 with filledcurves y=-0.5"
   ]
  },
  {
   "cell_type": "markdown",
   "metadata": {},
   "source": [
    "You can also fill the curve between a point, given in x,y plot\n",
    "coordinates, and the end points of the curve:"
   ]
  },
  {
   "cell_type": "code",
   "execution_count": null,
   "metadata": {},
   "outputs": [],
   "source": [
    "plot -x**2 with filledcurves xy = 0, -20"
   ]
  },
  {
   "cell_type": "markdown",
   "metadata": {},
   "source": [
    "The final filledcurves option is to fill in the area between two curves.\n",
    "This is a bit more complicated, as it requires a data file, rather than\n",
    "functions specified on the command line. The data file must have rows of\n",
    "the form *x y1 y2*; the area between the curves y1 and y2 will be\n",
    "filled. You can make your own data file or use the file called\n",
    "“intersection” that we’ve made available with this book. That file\n",
    "contains the coordinates of a straight line with a negative slope and a\n",
    "downward-opening parabola. If you start up gnuplot in the same directory\n",
    "where you have stored the file “intersection” you just need the one line\n",
    "in the script below to make a plot showing the area between the two\n",
    "curves. In later chapters we’ll learn how to make other types of plots\n",
    "from the same file, and a trick to make this plot with no data file at\n",
    "all."
   ]
  },
  {
   "cell_type": "code",
   "execution_count": null,
   "metadata": {},
   "outputs": [],
   "source": [
    "plot \"intersection\" with filledcurves"
   ]
  },
  {
   "cell_type": "markdown",
   "metadata": {},
   "source": [
    "Range-frame Graphs\n",
    "------------------\n",
    "\n",
    "We’ll round out this chapter with a few examples illustrating some\n",
    "variations on range handling in gnuplot. Up to now we’ve relied on the\n",
    "[set xrange](#setting-ranges) and related commands for setting the\n",
    "maximum and minimum values on the various axes. Gnuplot can also produce\n",
    "what are sometimes called “range-frame” graphs, where an axis and its\n",
    "tics are limited to the data actually plotted, even if the graph as a\n",
    "whole may cover a larger range. An example should make this clearer:"
   ]
  },
  {
   "cell_type": "code",
   "execution_count": null,
   "metadata": {},
   "outputs": [],
   "source": [
    "set samples 1000\n",
    "set ytics nomirror rangelimited\n",
    "set ytics 1\n",
    "set y2tics 0.2\n",
    "set y2range [-1:1]\n",
    "set yrange [0:20]\n",
    "plot  5*sin(2*x)+ 10 lw 2, sin(x/2) axis x1y2"
   ]
  },
  {
   "cell_type": "markdown",
   "metadata": {},
   "source": [
    "Local Ranges\n",
    "------------\n",
    "\n",
    "The `set yrange` and related commands set the ranges globally, applying\n",
    "to all subsequent plot commands. Gnuplot also allows a flexible\n",
    "shorthand for setting the range of every coordinate for each plot\n",
    "command, that supersedes the global settings. The notation sets the\n",
    "ranges within square brackets, with the variables listed in a particular\n",
    "order. In rectangular coordinates, the order is x, y, x2, y2. Here’s how\n",
    "it works:"
   ]
  },
  {
   "cell_type": "code",
   "execution_count": null,
   "metadata": {},
   "outputs": [],
   "source": [
    "unset key\n",
    "set grid lw 2\n",
    "plot [-5 : 5] [-10 : 30] x**2 lw 4"
   ]
  },
  {
   "cell_type": "markdown",
   "metadata": {},
   "source": [
    "In the last example we used the bracket range notation to set the xrange\n",
    "to go from -5 to 5 and the yrange to cover -10 to 30. The range notation\n",
    "can also be used with parametric plots; in this case the order is t (the\n",
    "parameter), x, y, x2, y2. Let’s plot our [first parametric\n",
    "example](#parametric-plots) again, but this time limiting the trange.\n",
    "Since we only give one range command below, it applies to t, with x and\n",
    "y left to the defaults:"
   ]
  },
  {
   "cell_type": "code",
   "execution_count": null,
   "metadata": {},
   "outputs": [],
   "source": [
    "set samples 1000\n",
    "set parametric\n",
    "unset key\n",
    "plot [0 : pi] sin(7*t), cos(11*t) lw 3"
   ]
  },
  {
   "cell_type": "markdown",
   "metadata": {},
   "source": [
    "To skip one coordinate in the list of range commands, use an empty\n",
    "bracket. Also, to use the default limit on one side of the range, you\n",
    "can leave it blank. For example, `[5 : ]` would mean that the coordinate\n",
    "in question should start at 5 and end at its normal default value. In\n",
    "the example below we illustrate both of these shorthands. In this\n",
    "parametric plot, we set the parameter t to go from its default, which is\n",
    "-5, to -π; the x-coordinate will take its default values ; and the\n",
    "y-coordinate will range from -1 to -4:"
   ]
  },
  {
   "cell_type": "code",
   "execution_count": null,
   "metadata": {},
   "outputs": [],
   "source": [
    "set samples 1000\n",
    "set parametric\n",
    "unset key\n",
    "plot [ : -pi] [] [-1 : -.4] sin(7*t), cos(11*t) lw 3"
   ]
  },
  {
   "cell_type": "markdown",
   "metadata": {},
   "source": [
    "`rangevars`\n",
    "\n",
    "The local range commands, as we are calling them, also allow you to\n",
    "redefine the symbol used for the dummy, or independent variable. (In\n",
    "rectangular coordinates, this variable is x; in both polar and\n",
    "parametric plots, it is called t.) This can be set globally with the\n",
    "`set dummy` command, but can also be set locally, as we show in the\n",
    "current example. We’ll replot the Archimedes spiral that we used to\n",
    "[introduce polar coordinates](#polar-coordinates), but this time using a\n",
    "smaller angular range, and we’ll redefine the angle coordinate to be\n",
    "“a”:"
   ]
  },
  {
   "cell_type": "code",
   "execution_count": null,
   "metadata": {},
   "outputs": [],
   "source": [
    "set polar\n",
    "set samples 500\n",
    "plot [a = 0 : 3*pi]  a lw 3"
   ]
  }
 ],
 "metadata": {
  "kernelspec": {
   "display_name": "gnuplot",
   "language": "gnuplot",
   "name": "gnuplot"
  },
  "language_info": {
   "codemirror_mode": "Octave",
   "file_extension": ".gp",
   "help_links": [
    {
     "text": "MetaKernel Magics",
     "url": "https://metakernel.readthedocs.io/en/latest/source/README.html"
    }
   ],
   "mimetype": "text/x-gnuplot",
   "name": "gnuplot"
  }
 },
 "nbformat": 4,
 "nbformat_minor": 5
}
