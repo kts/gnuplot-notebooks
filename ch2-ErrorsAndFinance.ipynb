{
 "cells": [
  {
   "cell_type": "markdown",
   "metadata": {},
   "source": [
    "Chapter 2: Errors and Finance\n",
    "=============================\n",
    "\n",
    "This chapter will show you how to plot values with errors or ranges. The\n",
    "examples in this chapter all use a data file rather than mathematical\n",
    "functions. You should download the file, called “statdata,” which should\n",
    "be available in the sample place where you downloaded this book.\n",
    "Alternatively, you may of course use your own data, if you have some\n",
    "that you’d like to work with. This might be more interesting for you;\n",
    "however, the examples here assume that the data columns are in a\n",
    "particular order. We’ll be clear about what that order is, so you can\n",
    "either rearrange the format of your files or make small alterations to\n",
    "the example scripts.\n",
    "\n",
    "Most of the graphs in this chapter will appear to be similar to the\n",
    "basic 2D graphs of the previous chapter, with some extra marks added to\n",
    "the data points. These marks convey additional numbers associated with\n",
    "each value of the independent variable (usually, the x-axis). There can\n",
    "be as many as four additional numbers associated with each point. This\n",
    "would, in a sense, be a six-dimensional graph. In most of our examples,\n",
    "these additional numbers represent the estimated error in a measurement,\n",
    "or a possible range of values; this plot style is commonly seen in\n",
    "scientific publications. We include financial plots in this chapter as\n",
    "well, because they use similar concepts to display a range of values,\n",
    "and sometimes use the same graphical conventions.\n",
    "\n",
    "The Data File\n",
    "-------------\n",
    "\n",
    "We’ll use the same file of data for all the examples in this chapter.\n",
    "This file, called “statdata,” contains 10 lines. The data represent the\n",
    "function $y = x$, with “random” errors added to both the $x$ and $y$\n",
    "values. Errors in the positive and negative direction are included\n",
    "separately. Each line of the file therefore contains six numbers,\n",
    "representing the following values:\n",
    "\n",
    "$$x\\qquad y\\qquad x^-\\qquad x^+\\qquad y^-\\qquad y^+$$\n",
    "\n",
    "Here $y^+$ means the value of $y$ plus the estimated error in the\n",
    "positive direction, $y^-$ means the value of $y$ with the estimated\n",
    "error in the negative direction subtracted, etc. (so the positive error\n",
    "itself would be $y^+ - y$, for example). The “errors” are all generated\n",
    "randomly; they are not simply departures from the “theoretical” $y = x$\n",
    "line. It is more usual in experimental scenarios to have a simple Δy\n",
    "and/or Δx, representing the estimated total error in the measurements,\n",
    "but sometimes we have separate error estimates on the positive and\n",
    "negative side; and since gnuplot can handle these, we include the\n",
    "general case in our data file.\n",
    "\n",
    "Column Selection\n",
    "----------------\n",
    "\n",
    "Many of the examples in this chapter use only a few of the six columns\n",
    "of data in the `statdata` file. Also, we will sometimes need to perform\n",
    "some simple arithmetic on the data before handing it off to gnuplot for\n",
    "plotting. All of this can be done simply and easily with the gnuplot\n",
    "`using` keyword. This can be abbreviated to `u`. The `using` command is\n",
    "very important, so we’ll introduce it with several examples. The first\n",
    "example shows how to select columns from a data file. We use the `u`\n",
    "abbreviation for `using`; the phrase `u 1:3` tells gnuplot to use the\n",
    "first and third columns, etc. So this script makes three normal, 2D\n",
    "plots, plotting the second, third, and fourth column against the first.\n",
    "The default plot style when plotting from a data file is “points”,\n",
    "rather than “lines,” which is the default when plotting functions. The\n",
    "script uses the pointtypes (`pt`) 9 and 8 to select triangles for\n",
    "columns 3 and 4: this is meant to suggest a range of $y$ values. The\n",
    "script shows one way to plot a set of values and their ranges using the\n",
    "normal plotting commands that we’ve already learned; many other\n",
    "approaches are possible, limited only by your creativity.\n",
    "\n",
    "We’ve illustrated a useful shorthand notation in the script. The empty\n",
    "string (`\"\"`) means the previously mentioned data file: in this case, we\n",
    "are telling gnuplot to plot from `statdata` three times (it starts from\n",
    "the beginning of the file for each plot)."
   ]
  },
  {
   "cell_type": "code",
   "execution_count": null,
   "metadata": {},
   "outputs": [],
   "source": [
    "unset key\n",
    "plot \"statdata\" u 1:2 ps 2 pt 7,\\\n",
    "   \"\" u 1:3 ps 2 pt 9 lc 8,\\\n",
    "   \"\" u 1:4 ps 2 lc 8 pt 11"
   ]
  },
  {
   "cell_type": "markdown",
   "metadata": {},
   "source": [
    "Offsets\n",
    "-------\n",
    "\n",
    "You might have noticed that the graph in the previous example was a bit\n",
    "crowded. This is because gnuplot set the axis ranges to fit the range of\n",
    "the data, which puts the plot symbols up against the border box. If you\n",
    "want some breathing room, you could manually set the `xrange` and/or the\n",
    "`yrange` to be something larger, but gnuplot has another, slightly more\n",
    "convenient way to do this. As shown below, the `set offset` command\n",
    "expands the axis ranges in the order *left, right, bottom, top*. If you\n",
    "use this, you usually want to use it with the `set auto fix` command, as\n",
    "shown. This prevents gnuplot from extending the range to include the\n",
    "next tic mark when the data values fall between tics."
   ]
  },
  {
   "cell_type": "code",
   "execution_count": null,
   "metadata": {},
   "outputs": [],
   "source": [
    "unset key\n",
    "set auto fix\n",
    "set offsets 2,2,2,2\n",
    "plot \"statdata\" u 1:2 ps 2 pt 7,\\\n",
    "   \"\" u 1:3 ps 2 pt 9 lc 8,\\\n",
    "   \"\" u 1:4 ps 2 lc 8 pt 11"
   ]
  },
  {
   "cell_type": "markdown",
   "metadata": {},
   "source": [
    "Calculating with Columns\n",
    "------------------------\n",
    "\n",
    "This next example shows how you can calculate with the `using` keyword.\n",
    "Suppose we wanted to plot the numerical range of values of each data\n",
    "point, rather than the data limits, as we did in the previous example.\n",
    "The range is $y^+ - y^-$, which, because of the way our file is\n",
    "organized (see the introduction to this chapter), amounts to column 3 -\n",
    "column 4. Arithmetic is performed with the `using` keyword, inside round\n",
    "brackets. Within an arithmetic expression, columns must be prefixed by a\n",
    "dollar sign, to distinguish them from simple numbers. In the example,\n",
    "the first column for the plot is the first column in the file; the\n",
    "second column for the plot is the result of the expression after the\n",
    "colon."
   ]
  },
  {
   "cell_type": "code",
   "execution_count": null,
   "metadata": {},
   "outputs": [],
   "source": [
    "set auto fix\n",
    "set offsets 2,2,2,2\n",
    "plot \"statdata\" u 1:($3 - $4) ps 2 pt 7\\\n",
    "   title \"Measurement uncertainty\""
   ]
  },
  {
   "cell_type": "markdown",
   "metadata": {},
   "source": [
    "Errorbars\n",
    "---------\n",
    "\n",
    "The gnuplot style `xyerrorbars` plots data ranges in the `x` and `y`\n",
    "directions assuming that the data file is organized the way we’ve set up\n",
    "`statdata`. This style plots line segments covering the range of data\n",
    "and centered on the data values. The ends of the line segments are\n",
    "marked with little perpendicular lines."
   ]
  },
  {
   "cell_type": "code",
   "execution_count": null,
   "metadata": {},
   "outputs": [],
   "source": [
    "unset key\n",
    "set auto fix\n",
    "set offsets 2,2,2,2\n",
    "plot \"statdata\"  with xyerrorbars"
   ]
  },
  {
   "cell_type": "markdown",
   "metadata": {},
   "source": [
    "As you can see, the errorbars are drawn quite thin. You will usually\n",
    "want to adjust this style. This is done with the `set errorbars`\n",
    "command, which takes an additional pure numeric argument in addition to\n",
    "the usual arguments for setting thickness, color, and linetype. This\n",
    "extra argument sets the length of the end caps, in arbitrary units;\n",
    "experiment to get the effect that you want. There is either a bug or an\n",
    "odd feature in this setting: the `linewidth` specification has no effect\n",
    "unless the `linetype` is also set. In our example we’ve overridden the\n",
    "color associated with `lt 1` with a color specification."
   ]
  },
  {
   "cell_type": "code",
   "execution_count": null,
   "metadata": {},
   "outputs": [],
   "source": [
    "unset key\n",
    "set auto fix\n",
    "set offsets 2,2,2,2\n",
    "set errorbars lw 3 lt 1 lc rgbcolor(\"orchid4\") 2\n",
    "plot \"statdata\"  with xyerrorbars"
   ]
  },
  {
   "cell_type": "markdown",
   "metadata": {},
   "source": [
    "It’s more usual to plot the data values conspicuously, with their errors\n",
    "overlaid. This can be accomplished by adding a second plot to the error\n",
    "plots above. Remember that an empty string means to reuse the same date\n",
    "file; if no columns are specified with a `using` command then the first\n",
    "two are used to make a normal 2D plot."
   ]
  },
  {
   "cell_type": "code",
   "execution_count": null,
   "metadata": {},
   "outputs": [],
   "source": [
    "unset key\n",
    "set auto fix\n",
    "set offsets 2,2,2,2\n",
    "set errorbars lw 3 lt 1 lc rgbcolor(\"orchid4\") 2\n",
    "plot \"statdata\"  with xyerrorbars, \"\" ps 3 pt 7"
   ]
  },
  {
   "cell_type": "markdown",
   "metadata": {},
   "source": [
    "For each of the errorbar styles we cover in this chapter, gnuplot has a\n",
    "related *errorlines* style. We won’t give an example of each one,\n",
    "because that would quickly get redundant. But here is one example, to\n",
    "show how it works: `with xyerrorlines` does the same thing as\n",
    "`with xyerrorbars`, but connects the dots with a line."
   ]
  },
  {
   "cell_type": "code",
   "execution_count": null,
   "metadata": {},
   "outputs": [],
   "source": [
    "unset key\n",
    "set auto fix\n",
    "set offsets 2,2,2,2\n",
    "set errorbars lw 3 lt 1 lc rgbcolor(\"orchid4\") 2\n",
    "plot \"statdata\" with xyerrorlines, \"\" ps 3 pt 7"
   ]
  },
  {
   "cell_type": "markdown",
   "metadata": {},
   "source": [
    "Often we need to plot data with error bars in the $y$ direction, while\n",
    "assuming that the $x$ values are exact. The gnuplot style for this is\n",
    "`with yerrorbars`. When plotting with this style you can supply the data\n",
    "in one of two formats: either $x\\quad y\\quad Δy$ or\n",
    "$x\\quad y\\quad y_-\\quad y^+$. Our data file is in neither format, so\n",
    "we’ll employ the `using` directive again:"
   ]
  },
  {
   "cell_type": "code",
   "execution_count": null,
   "metadata": {},
   "outputs": [],
   "source": [
    "unset key\n",
    "set auto fix\n",
    "set offsets 2,2,2,2\n",
    "set errorbars lw 3 lt 1 lc rgbcolor(\"orchid4\") 2\n",
    "plot \"statdata\" u 1:2:5:6 with yerrorbars ps 3 pt 7"
   ]
  },
  {
   "cell_type": "markdown",
   "metadata": {},
   "source": [
    "There is also an `xerrorbars` style, which does what you might expect.\n",
    "Here the data columns must be in the order $x\\quad y\\quad Δx$ or\n",
    "$x\\quad y\\quad x_-\\quad x^+$."
   ]
  },
  {
   "cell_type": "code",
   "execution_count": null,
   "metadata": {},
   "outputs": [],
   "source": [
    "unset key\n",
    "set auto fix\n",
    "set offsets 2,2,2,2\n",
    "set errorbars lw 3 lt 1 lc rgbcolor(\"orchid4\") 2\n",
    "plot \"statdata\" u 1:2:3:4 with xerrorbars ps 3 pt 7"
   ]
  },
  {
   "cell_type": "markdown",
   "metadata": {},
   "source": [
    "“var”\n",
    "-----\n",
    "\n",
    "The properties of the lines or points that make up your graph (the ones\n",
    "that you set using the `set ps`, etc. commands) can be controlled by the\n",
    "data itself, using gnuplot’s `var` command. This opens up a tremendous\n",
    "array of possibilities. Since this chapter is about visualizing errors,\n",
    "or ranges of values, here is a script that plots the data with circles\n",
    "of varying sizes, where the size of each circle shows the y-error of its\n",
    "corresponding data point. The y-error is calculated by subtracting $y^-$\n",
    "from $y^+$; the multiplier 6 was arrived at through trial and error (the\n",
    "argument to `with pointsize` is simply a multiplier applied to the\n",
    "default size for the terminal in use). The result of this arithmetic is\n",
    "supplied as a virtual third column, which is picked up by the `var`\n",
    "command, highlighted below:"
   ]
  },
  {
   "cell_type": "code",
   "execution_count": null,
   "metadata": {},
   "outputs": [],
   "source": [
    "unset key\n",
    "set auto fix\n",
    "set offsets 2,2,2,2\n",
    "plot \"statdata\" u 1:2:(6*($6-$5)) pt 6 lw 5 ps var"
   ]
  },
  {
   "cell_type": "markdown",
   "metadata": {},
   "source": [
    "Since the data in the file `statdata` was generated by applying some\n",
    "random noise to the line $y = x$, let’s complete the previous example by\n",
    "treating the line as if it were a “theory” and the data points as of\n",
    "they were “measurements.”"
   ]
  },
  {
   "cell_type": "code",
   "execution_count": null,
   "metadata": {},
   "outputs": [],
   "source": [
    "set auto fix\n",
    "set offsets 2,2,2,2\n",
    "set grid\n",
    "set key top left\n",
    "plot \"statdata\" u 1:2:(6*($6-$5)) pt 6 lw 5 ps var\\\n",
    "   title \"measurement\", x lw 3 dt \"-\" title \"theory\""
   ]
  },
  {
   "cell_type": "markdown",
   "metadata": {},
   "source": [
    "Whisker Plots\n",
    "-------------\n",
    "\n",
    "`whisker-plots` Another convention for visualizing data ranges is a\n",
    "“whisker plot”, also known in the statistics world as a “box and whisker\n",
    "plot” a boxplot, or a candlestick plot. In gnuplot this type of plot is\n",
    "created by saying `with candle`. The statistical whisker plot is a\n",
    "series of symbols, each one showing the mean value of a set of\n",
    "measurements, the width of the central part of the measurements’ or\n",
    "population’s distribution, and the extent of the remainder of the\n",
    "distribution excluding the “outliers” (the outliers themselves are\n",
    "sometimes shown as dots, but we won’t use that style here). See a\n",
    "statistics textbook for definitions and use of these concepts. This type\n",
    "of plot is also sometimes used for financial price data rather than the\n",
    "finance plot that we’ll show later in this chapter. We will avoid the\n",
    "specialized jargon of statistics and further discussion of the uses of\n",
    "these plots, but the statisticians among our readers know why they’re\n",
    "here.\n",
    "\n",
    "Our file `statdata` is not ideal for illustrating whisker plots, so\n",
    "we’ve included another data file called `candles`. The column order used\n",
    "by gnuplot’s candlestick style is\n",
    "`x  box_min  whisker_min  whisker_high  box_high`; rarely is a data file\n",
    "in this format, and our file `candles` is no exception, so we’ll turn to\n",
    "the `u` command to repurpose the data columns. The `candles` file\n",
    "contains the columns\n",
    "`x whisker_min box_min data_mean box_high whisker_high`. Note, for\n",
    "example, that the mean values are not even included in the candlestick\n",
    "plot; if desired, they must be overlayed with a second plot command.\n",
    "Below is a basic example of the candlestick style. The boxwidth controls\n",
    "the width of the candlesticks."
   ]
  },
  {
   "cell_type": "code",
   "execution_count": null,
   "metadata": {},
   "outputs": [],
   "source": [
    "unset key\n",
    "set auto fix\n",
    "set offsets 1,1,1,1\n",
    "set boxwidth .5\n",
    "plot \"candles\" u 1:3:2:6:5 with candle lw 2"
   ]
  },
  {
   "cell_type": "markdown",
   "metadata": {},
   "source": [
    "It’s common in statistical plots to put little end-caps on the whiskers.\n",
    "Here is the previous script with the command to do that added; the\n",
    "numerical argument is the width of the Whiskers as a fraction of the\n",
    "width of the box:"
   ]
  },
  {
   "cell_type": "code",
   "execution_count": null,
   "metadata": {},
   "outputs": [],
   "source": [
    "unset key\n",
    "set auto fix\n",
    "set offsets 1,1,1,1\n",
    "set boxwidth .5\n",
    "plot \"candles\" u 1:3:2:6:5 with candle lw 2 whisker 0.5"
   ]
  },
  {
   "cell_type": "markdown",
   "metadata": {},
   "source": [
    "As we mentioned above, the candlesticks don’t include the actual data\n",
    "means. Here we add them with a second plot command."
   ]
  },
  {
   "cell_type": "code",
   "execution_count": null,
   "metadata": {},
   "outputs": [],
   "source": [
    "unset key\n",
    "set auto fix\n",
    "set offsets 1,1,1,1\n",
    "set boxwidth .5\n",
    "plot \"candles\" u 1:3:2:6:5 with candle lw 2 whisker 0.5,\\\n",
    "   \"\" u 1:4 pt 7 ps 4"
   ]
  },
  {
   "cell_type": "markdown",
   "metadata": {},
   "source": [
    "The default style for candlesticks is to draw an empty box. When this\n",
    "style us used for market price data, the columns are interpreted as\n",
    "`date  open  low  high  close`, and if the closing price is lower than\n",
    "the opening price, the candlestick box is filled in. However, if a solid\n",
    "or patterned fill style is set for the boxes, this will be used for all\n",
    "the candlesticks in all cases. Here is our candlestick plot with solid\n",
    "filled boxes:"
   ]
  },
  {
   "cell_type": "code",
   "execution_count": null,
   "metadata": {},
   "outputs": [],
   "source": [
    "unset key\n",
    "set auto fix\n",
    "set offsets 1,1,1,1\n",
    "set boxwidth .5\n",
    "plot \"candles\" u 1:3:2:6:5 with candle lw 2 whisker 0.5\\\n",
    "   fs solid fc rgbcolor(\"goldenrod\"),\\\n",
    "   \"\" u 1:4 pt 7 ps 3"
   ]
  },
  {
   "cell_type": "markdown",
   "metadata": {},
   "source": [
    "You can also fill the candlesticks with a pattern, which is especially\n",
    "useful for monochrome publication:"
   ]
  },
  {
   "cell_type": "code",
   "execution_count": null,
   "metadata": {},
   "outputs": [],
   "source": [
    "set monochrome\n",
    "unset key\n",
    "set auto fix\n",
    "set offsets 1,1,1,1\n",
    "set boxwidth .5\n",
    "plot \"candles\" u 1:3:2:6:5 with candle lw 2 whisker 0.5\\\n",
    "   fs pattern 5, \"\" u 1:4 pt 7 ps 3"
   ]
  },
  {
   "cell_type": "markdown",
   "metadata": {},
   "source": [
    "Financebars\n",
    "-----------\n",
    "\n",
    "The same information as in our first and second candlestick plots\n",
    "(without the mean data values) can be plotted using gnuplot’s\n",
    "`with financebars` style. This is another, more common, convention for\n",
    "plotting market price fluctuations. This style does not distinguish\n",
    "between price increases or decreases. It shows the high and low prices\n",
    "by the extent of a vertical line, and the opening and closing prices\n",
    "with small horizontal tics attached to the line. The width of these tics\n",
    "(the default is almost invisible) is set with the `set bars` command.\n",
    "\n",
    "Note that it would be more usual for the values on the horizontal axis\n",
    "to be dates or date/times, but we’ll defer plotting with times until\n",
    "we’ve had a chance to introduce that topic."
   ]
  },
  {
   "cell_type": "code",
   "execution_count": null,
   "metadata": {},
   "outputs": [],
   "source": [
    "unset key\n",
    "set auto fix\n",
    "set offsets 2,2,2,2\n",
    "set bars 2\n",
    "plot \"candles\" u 1:3:2:6:5 with financebars lw 3"
   ]
  }
 ],
 "nbformat": 4,
 "nbformat_minor": 5,
 "metadata": {
  "kernelspec": {
   "display_name": "gnuplot",
   "language": "gnuplot",
   "name": "gnuplot"
  },
  "language_info": {
   "codemirror_mode": "Octave",
   "file_extension": ".gp",
   "help_links": [
    {
     "text": "MetaKernel Magics",
     "url": "https://metakernel.readthedocs.io/en/latest/source/README.html"
    }
   ],
   "mimetype": "text/x-gnuplot",
   "name": "gnuplot"
  }
 }
}
