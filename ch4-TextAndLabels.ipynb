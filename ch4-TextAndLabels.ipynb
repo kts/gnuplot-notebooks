{
 "cells": [
  {
   "cell_type": "markdown",
   "metadata": {},
   "source": [
    "Chapter 4: Text and Labels\n",
    "==========================\n",
    "\n",
    "This chapter is all about putting labels and other text on your plots.\n",
    "We couldn’t avoid discussing some of this in previous chapters, because\n",
    "most plots need some time of textual information, but here we’ll get\n",
    "into all the details. By the end of this chapter you will be able to\n",
    "exercise complete control of the text on your graphs.\n",
    "\n",
    "One thing we should get out of the way up front is the issue of special\n",
    "characters. In the past, one had to use a special notation to insert\n",
    "Greek letters and other exotic (from the point of view of an English\n",
    "speaker) characters and symbols into gnuplot output. Now, gnuplot is now\n",
    "Unicode aware. Simply include the Unicode symbols in your gnuplot\n",
    "commands, and they will appear in the output, as long as the font\n",
    "supports them. It is up to you to know how to type Unicode with your\n",
    "system. On Linux, you can use the compose key, or whatever shortcuts\n",
    "your editor supports. On Apple and Windows machines, there are [several\n",
    "methods](https://discussions.apple.com/thread/1899290?tstart=0)\n",
    "available. Also, you can always cut and paste from a web browser or\n",
    "other application where the text is displayed.\n",
    "\n",
    "If you are using gnuplot in concert with LaTeX, you can use that\n",
    "typesetting system to insert labels and text for you. This is a\n",
    "specialized topic that deserves its own chapter, and we’ll have a whole\n",
    "chapter devoted to LaTeX [later](#latex) in the book.\n",
    "\n",
    "Labeling the Axes\n",
    "-----------------\n",
    "\n",
    "In most of our examples up to now the axes have been marked with tics,\n",
    "and these tics have had labels: either numbers or, as in many of the\n",
    "examples in the previous chapter, text taken from a data file. Usually\n",
    "we want to include some additional information on the axes, to describe\n",
    "what is being plotted along each dimension. This is was *axis labels*\n",
    "are for. You can attach labels to the horizontal and vertical axes (and\n",
    "others, for plot types that we’ll cover in later chapters)."
   ]
  },
  {
   "cell_type": "code",
   "execution_count": null,
   "metadata": {},
   "outputs": [],
   "source": [
    "set termopt lw 3\n",
    "set key at graph .7, .9\n",
    "set xlabel \"Time (sec.)\"\n",
    "set ylabel \"Sine Function\"\n",
    "set y2label \"Cosine Function\"\n",
    "set xr [0 : 2*pi]\n",
    "plot sin(x), cos(x)"
   ]
  },
  {
   "cell_type": "markdown",
   "metadata": {},
   "source": [
    "You can make multiline labels by inserting a code for newline\n",
    "characters. You might have to add the line `set encoding utf8` near the\n",
    "beginning of this script, depending on the terminal you are using, if\n",
    "the Greek letter comes out wrong."
   ]
  },
  {
   "cell_type": "code",
   "execution_count": null,
   "metadata": {},
   "outputs": [],
   "source": [
    "set termopt lw 3\n",
    "set key at graph .7, .9\n",
    "set xlabel \"Time\\\\n(μ seconds)\"\n",
    "set ylabel \"Sine\\\\nFunction\"\n",
    "set y2label \"Cosine\\\\nFunction\"\n",
    "set xr [0 : 2*pi]\n",
    "plot sin(x), cos(x)"
   ]
  },
  {
   "cell_type": "markdown",
   "metadata": {},
   "source": [
    "The labels can be `offset` from their default positions by adding this\n",
    "keyword to the set command. The default coordinate system is in\n",
    "characters, where every unit roughly corresponds to the width of a\n",
    "character. Here we shift the `xlabel` by 15 character widths to the\n",
    "left, and half a character width upwards."
   ]
  },
  {
   "cell_type": "code",
   "execution_count": null,
   "metadata": {},
   "outputs": [],
   "source": [
    "set termopt lw 3\n",
    "set key at graph .7, .9\n",
    "set xlabel \"Time (μseconds)\" offset -15, 0.5\n",
    "set ylabel \"Sine\\\\nFunction\"\n",
    "set y2label \"Cosine\\\\nFunction\"\n",
    "set xr [0 : 2*pi]\n",
    "plot sin(x), cos(x)"
   ]
  },
  {
   "cell_type": "markdown",
   "metadata": {},
   "source": [
    "The font and color of each label can be separately specified (`tc` is\n",
    "the abbreviation for `textcolor`). In this example we’ve set the\n",
    "vertical axis labels and the corresponding curves to the same color, to\n",
    "show which axis goes with which curve. We’ve completed the plot by\n",
    "adding a title, in a larger font size. Note that gnuplot does not supply\n",
    "its own fonts, so you need to choose a font that is displayed on your\n",
    "system; if you don’t have the font used in the title in this script,\n",
    "gnuplot will substitute something else."
   ]
  },
  {
   "cell_type": "code",
   "execution_count": null,
   "metadata": {},
   "outputs": [],
   "source": [
    "set termopt lw 3\n",
    "set key at graph .7, .9\n",
    "set title \"Circular Functions\" font \"LibertinusSerifDisplay, 22\"\n",
    "set xlabel \"Time (μseconds)\" offset -15, 0.5\\\n",
    "     font \"Helvetica, 16\" tc \"blue\"\n",
    "set ylabel \"Sine\\\\nFunction\" font \",16\" tc \"red\"\n",
    "set y2label \"Cosine\\\\nFunction\" font \",16\" tc \"orange\"\n",
    "set xr [0 : 2*pi]\n",
    "plot sin(x) lc rgb \"red\", cos(x) lc rgb \"orange\""
   ]
  },
  {
   "cell_type": "markdown",
   "metadata": {},
   "source": [
    "More Fun with the Key\n",
    "---------------------\n",
    "\n",
    "Previously, we’ve learned how to position the *key*, the legend that\n",
    "gnuplot generates automatically, both inside and outside the graph. The\n",
    "key can be customized in other ways, as well. Here it is with a box\n",
    "around it:"
   ]
  },
  {
   "cell_type": "code",
   "execution_count": null,
   "metadata": {},
   "outputs": [],
   "source": [
    "set key top left box\n",
    "set xrange [0 : 1]\n",
    "plot x lw 3 dt 5, x**2 lw 4 dt 3,\\\n",
    "   x**3  lw 3 dt 2"
   ]
  },
  {
   "cell_type": "markdown",
   "metadata": {},
   "source": [
    "The key in the previous example looked a bit crowded inside its box. We\n",
    "can *add* to the width and height of the box by adding some keywords to\n",
    "the command:"
   ]
  },
  {
   "cell_type": "code",
   "execution_count": null,
   "metadata": {},
   "outputs": [],
   "source": [
    "set key top left box width 1 height 1\n",
    "set xrange [0 : 1]\n",
    "plot x lw 3 dt 5, x**2 lw 4 dt 3,\\\n",
    "   x**3  lw 3 dt 2"
   ]
  },
  {
   "cell_type": "markdown",
   "metadata": {},
   "source": [
    "If we prefer a horizontal legend, that can be done as well:"
   ]
  },
  {
   "cell_type": "code",
   "execution_count": null,
   "metadata": {},
   "outputs": [],
   "source": [
    "set key top left box width 1 height 1 horizontal\n",
    "set xrange [0 : 1]\n",
    "plot x lw 3 dt 5, x**2 lw 4 dt 3,\\\n",
    "   x**3  lw 3 dt 2"
   ]
  },
  {
   "cell_type": "markdown",
   "metadata": {},
   "source": [
    "Gnuplot is very [customizable](#attention-to-style). The style of the\n",
    "lines that make up the box can be controlled, as well as the font used\n",
    "in the titles:"
   ]
  },
  {
   "cell_type": "code",
   "execution_count": null,
   "metadata": {},
   "outputs": [],
   "source": [
    "set key top left box lw 3 lc \"violet\" width 1 height 1\\\n",
    "   font \"Helvetica, 20\"\n",
    "set xrange [0 : 1]\n",
    "plot x lw 3 dt 5, x**2 lw 4 dt 3,\\\n",
    "   x**3  lw 3 dt 2"
   ]
  },
  {
   "cell_type": "markdown",
   "metadata": {},
   "source": [
    "One problem with the key in all the previous examples was that the\n",
    "default length of line used was not long enough to make clear which dash\n",
    "pattern was intended. This can be adjusted, as well (the default units\n",
    "for most of these key specifications are character widths):"
   ]
  },
  {
   "cell_type": "code",
   "execution_count": null,
   "metadata": {},
   "outputs": [],
   "source": [
    "set key top left box width 1 height 2 samplen 20\n",
    "set xrange [0 : 1]\n",
    "plot x lw 3 dt 5, x**2 lw 4 dt 3,\\\n",
    "   x**3  lw 3 dt 2"
   ]
  },
  {
   "cell_type": "markdown",
   "metadata": {},
   "source": [
    "If you prefer the names to come after the curve samples, use the keyword\n",
    "`reverse`; this goes well with the `Left` keyword, which justifies the\n",
    "text to the left:"
   ]
  },
  {
   "cell_type": "code",
   "execution_count": null,
   "metadata": {},
   "outputs": [],
   "source": [
    "set key top left box width 1 height 1 samplen 20\\\n",
    "  Left reverse \n",
    "set xrange [0 : 1]\n",
    "plot x lw 3 dt 5, x**2 lw 4 dt 3,\\\n",
    "   x**3  lw 3 dt 2"
   ]
  },
  {
   "cell_type": "markdown",
   "metadata": {},
   "source": [
    "The key can have its own title — but it’s best not to use a box in that\n",
    "case, because the titles and boxes sometimes collide."
   ]
  },
  {
   "cell_type": "code",
   "execution_count": null,
   "metadata": {},
   "outputs": [],
   "source": [
    "set key width 1 height 1 samplen 20\\\n",
    "  title \"Powers of x\" font \"Helvetica, 20\"\n",
    "set xrange [0 : 1]\n",
    "plot x lw 3 dt 5, x**2 lw 4 dt 3,\\\n",
    "   x**3  lw 3 dt 2"
   ]
  },
  {
   "cell_type": "markdown",
   "metadata": {},
   "source": [
    "In the previous example, we removed the positioning command for the key,\n",
    "which put it back at the top right. Things are a bit of a mess, with the\n",
    "curves colliding with the legend. If there is no convenient location for\n",
    "the key, another option is to draw it on top of the curves, using the\n",
    "`opaque` keyword:"
   ]
  },
  {
   "cell_type": "code",
   "execution_count": null,
   "metadata": {},
   "outputs": [],
   "source": [
    "set key width 1 height 1 samplen 20\\\n",
    "  title \"Powers of x\" font \"Helvetica, 20\" opaque\n",
    "set xrange [0 : 1]\n",
    "plot x lw 3 dt 5, x**2 lw 4 dt 3,\\\n",
    "   x**3  lw 3 dt 2"
   ]
  },
  {
   "cell_type": "markdown",
   "metadata": {},
   "source": [
    "If you plot a large number of curves, the key will continue to grow\n",
    "vertically, perhaps becoming taller than you would like. Gnuplot has a\n",
    "way to handle this: the `maxrow` keyword. This limits the height of the\n",
    "key, forcing it to be laid out with more columns. In our example we also\n",
    "show another positioning keyword: `bmargin` puts the key in the bottom\n",
    "margin. There are corresponding commands called `lmargin`, etc."
   ]
  },
  {
   "cell_type": "code",
   "execution_count": null,
   "metadata": {},
   "outputs": [],
   "source": [
    "set key width 1 height 1 title \"Powers of x\"\\\n",
    "   font \"Helvetica, 20\" maxrow 3 bmargin\n",
    "set xrange [0 : 1]\n",
    "plot x, x**2, x**3, x**4, x**5, x**6, x**7, x**.5, x**.2"
   ]
  },
  {
   "cell_type": "markdown",
   "metadata": {},
   "source": [
    "Finally, you can adjust the space between lines in the key by using the\n",
    "`spacing` keyword, as well as center it overall just by appending the\n",
    "keyword `center` (there is also `left` and `right`, which is the\n",
    "default."
   ]
  },
  {
   "cell_type": "code",
   "execution_count": null,
   "metadata": {},
   "outputs": [],
   "source": [
    "set key width 1 height 1 title \"Powers of x\"\\\n",
    "   font \"Helvetica, 20\" maxrow 3 bmargin center\\\n",
    "   spacing 2\n",
    "set xrange [0 : 1]\n",
    "plot x, x**2, x**3, x**4, x**5, x**6, x**7, x**.5, x**.2"
   ]
  },
  {
   "cell_type": "markdown",
   "metadata": {},
   "source": [
    "Labels Anywhere\n",
    "---------------\n",
    "\n",
    "You can place labels at any location on the plot. By default, the\n",
    "coordinates that you specify for the labels refer to the primary x and y\n",
    "axes, which makes it convenient to position labels in relation to the\n",
    "plotted curves or data points. An extra positioning command can be\n",
    "added, to `offset` the label by the given number of character widths.\n",
    "This is usually desired, to avoid having the labels lie right on top of\n",
    "the curves in applications such as the one below. You can style the\n",
    "labels, and even draw a box around them, just as we did with our key in\n",
    "the previous examples; since the syntax is largely the same, we won’t\n",
    "repeat ourselves.\n",
    "\n",
    "It is usually impossible to get the positioning of the labels perfect on\n",
    "the first try. One usually needs to repeatedly replot while adjusting\n",
    "the positioning coordinates until everything looks right. The label\n",
    "*tags* are handy for this: they are the integers after the `set label`\n",
    "part of the command. A subsequent `set label 2` command will just change\n",
    "label 2, leaving the others intact."
   ]
  },
  {
   "cell_type": "code",
   "execution_count": null,
   "metadata": {},
   "outputs": [],
   "source": [
    "unset key\n",
    "set xr [0 : 1]\n",
    "set label 1 \"x\" at .4, .4 offset 1,0\n",
    "set label 2 \"x^{1/3}\" at .2, .2**(1./3) offset 0,2\n",
    "set label 3 \"x^3\" at .8, .8**3 offset 1,0\n",
    "plot x, x**3, x**(1./3)"
   ]
  },
  {
   "cell_type": "markdown",
   "metadata": {},
   "source": [
    "Enhanced Text \n",
    "-------------\n",
    "\n",
    "You may have noticed that the “^” symbols in the label text in the\n",
    "previous example turned into actual superscripts in the result. This is\n",
    "because gnuplot supports a system of markup, special to gnuplot, called\n",
    "*enhanced text*. It is usually turned on by default; otherwise by the\n",
    "terminal option `enhanced`, but only works in those terminals that\n",
    "support it. We won’t go into enhanced text syntax in detail (type\n",
    "`help enhanced` for more information), mainly because, if complex or\n",
    "extensive mathematical text is needed in your graphs, the LaTeX options\n",
    "[discussed](#latex) in a later chapter give far better results. However,\n",
    "the enhanced text mode can be useful as a simple way to place some\n",
    "mathematical text on your plot, in situations where you are not too\n",
    "picky about the typographical quality of the result. In this example we\n",
    "plot the error function from statistics, which is built-in to gnuplot\n",
    "(type `help express functions` to get a list of the other built-in\n",
    "special functions), and label it with its definition. This label\n",
    "demonstrates a few enhanced text features: font size and variant\n",
    "selection delimited by curly brackets, and starting with `{/`; the use\n",
    "of Unicode symbols directly (older guides to gnuplot rely on selecting\n",
    "characters from the Symbol font using their codes, which is now\n",
    "obsolete); subscripts and superscripts; and the `@` symbol, which causes\n",
    "the following character (or delimited group) to behave as if it had zero\n",
    "width — required here to get superscripts and subscripts to align\n",
    "properly. The label is positioned in the default location, at 0,0."
   ]
  },
  {
   "cell_type": "code",
   "execution_count": null,
   "metadata": {},
   "outputs": [],
   "source": [
    "unset key\n",
    "set xr [-3 : 3]\n",
    "set label \"erf{/:Italic (x) = 2/π^{1/2}{/=24 ∫^@{/=9 x}_{/=9 0}} e^{-t^2} dt}\" offset 1,0\n",
    "plot erf(x)"
   ]
  },
  {
   "cell_type": "markdown",
   "metadata": {},
   "source": [
    "Coordinate Systems\n",
    "------------------\n",
    "\n",
    "We could not avoid referring to some of gnuplot’s coordinate systems in\n",
    "some previous examples, because explaining certain features required\n",
    "that we position a label or plot element. Here we’ll explain these\n",
    "concepts more completely.\n",
    "\n",
    "Gnuplot provides *five* distinct coordinate systems. Whenever you need\n",
    "to position something, you can mix and match these at will, using\n",
    "coordinates that are most convenient for you. We’ve already done this,\n",
    "when we positioned a label for a curve using the x and y coordinates,\n",
    "but gave it a small offset using the `character` coordinate system. This\n",
    "technique ensures that the label will be pushed off by one character\n",
    "width from the labeled point, regardless of the `xrange` or `yrange`.\n",
    "\n",
    "In this example we’ll construct a graph that demonstrates four of the\n",
    "coordinate systems directly; the fifth one, the `screen` system, will\n",
    "make more sense for an example that will appear in a later chapter. The\n",
    "`x2r`, `y2r`, `x2tics`, and `y2tics` setting are for a second set of\n",
    "axes, defining the `second` coordinate system."
   ]
  },
  {
   "cell_type": "code",
   "execution_count": null,
   "metadata": {},
   "outputs": [],
   "source": [
    "unset key; set grid lt -1\n",
    "set xr [0 : 10]; set yr [0 : 10]\n",
    "set x2r [0 : 100]; set y2r [0 : 100]\n",
    "set xtics 1; set ytics 1\n",
    "set x2tics 10; set y2tics 10\n",
    "set label \"First 2, 2\" at 2,2\n",
    "set label \"Second 70, 80\" at second 70, 80 tc \"blue\"\n",
    "set label \"Graph .5, .5\" at graph .5, .5\n",
    "set label \"Character 20, 15\" at character 20, 15\n",
    "set label \"12345678901234567890\" at character 1, 16 tc \"green\"\n",
    "plot 0, 0"
   ]
  },
  {
   "cell_type": "markdown",
   "metadata": {},
   "source": [
    "Plotting Labels from Files\n",
    "--------------------------\n",
    "\n",
    "Up to now we’ve typed out the label text directly in the script. It’s\n",
    "also possible to read the label from a data file. This is often\n",
    "convenient, because data files commonly contain labels and text\n",
    "annotating the data. If you add the command `with labels` when plotting\n",
    "from a data file, gnuplot will read the column listed third in your\n",
    "`using` command to get the text of the labels to plot. Let’s revisit our\n",
    "“energySources” datafile, that we used in the histogram chapter. If you\n",
    "don’t have it, you can download it from the usual place. We’ll plot the\n",
    "country name on coordinates that map the percentage of fossil fuel\n",
    "vs. hydropower production."
   ]
  },
  {
   "cell_type": "code",
   "execution_count": null,
   "metadata": {},
   "outputs": [],
   "source": [
    "unset key\n",
    "set xr [10 : 80]\n",
    "set yr [-5 : 20]\n",
    "set xlab \"Fossil Fuel %\"\n",
    "set ylab \"Hydropower %\"\n",
    "plot \"energySources\" u 2:3:1 with labels\\\n",
    "   font \"Helvetica, 20\""
   ]
  },
  {
   "cell_type": "markdown",
   "metadata": {},
   "source": [
    "We can also set other properties of the text labels based on data in the\n",
    "file. In this example we’ll repeat the previous graph, but color the\n",
    "labels according to the nuclear power percentage. Gnuplot has the\n",
    "concept of a currently active *color palette*. This can be selected or\n",
    "defined by the user, but we’ll get into that in a [later\n",
    "chapter](#palettes). The default, that we’ll use in this example, is the\n",
    "typical heat-map palette. If you use the special syntax `palette z` in\n",
    "the color specification, this will take the fourth column from the\n",
    "`using` clause and use it to select a color from the palette. The range\n",
    "of values that map on to the palette it set with the `set cbrange`\n",
    "command: here we set it to run from 0 to 100, since we are dealing with\n",
    "percentages. The palette is displayed by default, and can have its own\n",
    "label."
   ]
  },
  {
   "cell_type": "code",
   "execution_count": null,
   "metadata": {},
   "outputs": [],
   "source": [
    "unset key\n",
    "set xr [10 : 80]\n",
    "set yr [-5 : 20]\n",
    "set cbr [0 : 100]\n",
    "set xlab \"Fossil Fuel %\"\n",
    "set ylab \"Hydropower %\"\n",
    "set cblab \"Nuclear power %\"\n",
    "plot \"energySources\" u 2:3:1:4 with labels tc palette z\\\n",
    "   font \"Helvetica,20\""
   ]
  },
  {
   "cell_type": "markdown",
   "metadata": {},
   "source": [
    "To make our graph more precise, we can plot points with the labels.\n",
    "There’s nothing really new in this example, aside from illustrating the\n",
    "use of `lc palette z` to set the “`linecolor`” of the points, but it’s\n",
    "worth illustrating the style. We’ve also adjusted the font of the axis\n",
    "and colorbar labels; it’s not unlikely that you don’t have this\n",
    "particular font on your system, in which case gnuplot will substitute\n",
    "something else; or you can substitute the font of your choice."
   ]
  },
  {
   "cell_type": "code",
   "execution_count": null,
   "metadata": {},
   "outputs": [],
   "source": [
    "unset key\n",
    "set xr [10 : 80]\n",
    "set yr [-5 : 20]\n",
    "set cbr [0 : 100]\n",
    "set xlab \"Fossil Fuel %\" font \"DejaVu Serif, 18\"\n",
    "set ylab \"Hydropower %\" font \"DejaVu Serif, 18\"\n",
    "set cblab \"Nuclear power %\" font \"DejaVu Serif, 18\"\n",
    "plot \"energySources\" u 2:3:1:4 with labels tc palette z\\\n",
    "   font \"Helvetica,20\",\\\n",
    "   \"\" u 2:3:4 w points pt 7 ps 3 lc palette z"
   ]
  },
  {
   "cell_type": "markdown",
   "metadata": {},
   "source": [
    "As you saw, there is a problem with the previous graph. The points are\n",
    "plotted on top of the labels, making them hard to read, and not\n",
    "producing the effect we were after. Fortunately, there are justification\n",
    "and `offset` commands for labels:"
   ]
  },
  {
   "cell_type": "code",
   "execution_count": null,
   "metadata": {},
   "outputs": [],
   "source": [
    "unset key\n",
    "set xr [5 : 80]\n",
    "set yr [-5 : 20]\n",
    "set cbr [0 : 100]\n",
    "set xlab \"Fossil Fuel %\" font \"DejaVu Serif, 18\"\n",
    "set ylab \"Hydropower %\" font \"DejaVu Serif, 18\"\n",
    "set cblab \"Nuclear power %\" font \"DejaVu Serif, 18\"\n",
    "plot \"energySources\" u 2:3:1:4 with labels tc palette z\\\n",
    "   font \"Helvetica,20\" right offset -1,0,\\\n",
    "   \"\" u 2:3:4 w points pt 7 ps 3 lc palette z"
   ]
  },
  {
   "cell_type": "markdown",
   "metadata": {},
   "source": [
    "In the previous graph we were obligated to expand the `xrange` a bit in\n",
    "order to accommodate the labels and points. Like tic labels, arbitrary\n",
    "labels can be rotated. Here is another way to fit all the information on\n",
    "the graph, while keeping everything big:"
   ]
  },
  {
   "cell_type": "code",
   "execution_count": null,
   "metadata": {},
   "outputs": [],
   "source": [
    "unset key\n",
    "set xr [10 : 80]\n",
    "set yr [-5 : 20]\n",
    "set cbr [0 : 100]\n",
    "set xlab \"Fossil Fuel %\" font \"DejaVu Serif, 18\"\n",
    "set ylab \"Hydropower %\" font \"DejaVu Serif, 18\"\n",
    "set cblab \"Nuclear power %\" font \"DejaVu Serif, 18\"\n",
    "plot \"energySources\" u 2:3:1:4 with labels tc palette z\\\n",
    "   font \"Helvetica,20\" offset -1,-1 rotate by -25,\\\n",
    "   \"\" u 2:3:4 w points pt 7 ps 3 lc palette z"
   ]
  },
  {
   "attachments": {
    "ch47813025hypertext.png": {
     "image/png": "[encoded data removed]"
    }
   },
   "cell_type": "markdown",
   "metadata": {},
   "source": [
    "Hypertext Labels\n",
    "----------------\n",
    "\n",
    "Gnuplot provides another way to plot a set of points with associated\n",
    "labels. It can make an interactive plot, were the labels are hidden\n",
    "until the user hovers the mouse pointer over them to make them appear.\n",
    "This is particularly useful when you have a large collection of points\n",
    "and don’t want a huge mass of possibly overlapping labels.\n",
    "\n",
    "We can not display the full result here in this book, because there is\n",
    "no standard way for PDF documents to include this type of interactivity.\n",
    "However, if you go to the download area on the publisher’s website, you\n",
    "will find a section that refers to supplementary material, which will\n",
    "have a link that you can follow to see the interactive graph, in the\n",
    "form of an SVG image. Here we’ll reproduce the appearance of the graph,\n",
    "without its mouse interaction.\n",
    "\n",
    "The script saves the plot in an SVG file on disk, following the second\n",
    "line. The `set term` command before that contains some keywords that are\n",
    "required to include the mouse interaction. The script ends with a bare\n",
    "`set out` command, that ensures that all the output is flushed to the\n",
    "file. You can use the file in various ways in your webpages; our\n",
    "approach is to include it using the HTML *object* tag.\n",
    "\n",
    "``` gpl\n",
    "set term svg mouse standalone\n",
    "set out \"energy.svg\"\n",
    "unset key\n",
    "set xr [10 : 80]; set yr [-5 : 20]; set cbr [0 : 100]\n",
    "set xlab \"Fossil Fuel %\" font \"DejaVu Serif, 18\"\n",
    "set ylab \"Hydropower %\" font \"DejaVu Serif, 18\"\n",
    "set cblab \"Nuclear power %\" font \"DejaVu Serif, 18\"\n",
    "plot \"energySources\" u 2:3:1:4 with labels hypertext\\\n",
    "   point pt 7 ps 3 lc palette z\n",
    "set out\n",
    "```\n",
    "\n",
    "![hypertext](attachment:ch47813025hypertext.png)\n",
    "\n",
    "Horizontal Bar Charts\n",
    "---------------------\n",
    "\n",
    "All of the bar charts in the previous chapter were of the vertical kind.\n",
    "That’s because gnuplot does not include a horizontal bar chart style.\n",
    "But, armed with our new knowledge of how to manipulate text, we can make\n",
    "one. The trick is to rotate the text on the graph so that when the\n",
    "entire image is rotated for display or publication, everything is\n",
    "readable. The example includes the rotation of tic labels, something\n",
    "that we also visited in the chapter on histograms."
   ]
  },
  {
   "cell_type": "code",
   "execution_count": null,
   "metadata": {},
   "outputs": [],
   "source": [
    "set style data histogram\n",
    "set style fill solid border -1\n",
    "unset key; unset xlab\n",
    "set bmargin 3\n",
    "set label \"Energy Usage of Several Countries\"\\\n",
    "   font \"Helvetica, 16\"\\\n",
    "   rotate by 90 offset 0,2 tc \"steelblue\"\n",
    "set ylab \"Nuclear Power %\"\\\n",
    "   font \"DejaVu Serif, 18\" offset 1,0\n",
    "set xlab \"Fossil Fuel %\" font \"DejaVu Serif, 18\"\n",
    "set ytics rotate by 90\n",
    "set xtics rotate by 45 offset 1,.2 right\n",
    "plot \"energySources\" u 4:xtic(1)"
   ]
  },
  {
   "attachments": {
    "8989898989.png": {
     "image/png": "[encoded data removed]"
    }
   },
   "cell_type": "markdown",
   "metadata": {},
   "source": [
    "![Horizontal bar chart](attachment:8989898989.png)"
   ]
  }
 ],
 "metadata": {
  "kernelspec": {
   "display_name": "gnuplot",
   "language": "gnuplot",
   "name": "gnuplot"
  },
  "language_info": {
   "codemirror_mode": "Octave",
   "file_extension": ".gp",
   "help_links": [
    {
     "text": "MetaKernel Magics",
     "url": "https://metakernel.readthedocs.io/en/latest/source/README.html"
    }
   ],
   "mimetype": "text/x-gnuplot",
   "name": "gnuplot"
  }
 },
 "nbformat": 4,
 "nbformat_minor": 5
}
