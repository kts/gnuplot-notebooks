{
 "cells": [
  {
   "cell_type": "markdown",
   "metadata": {},
   "source": [
    "Chapter 13: A Gnuplot Miscellany\n",
    "================================\n",
    "\n",
    "This chapter contains examples that don’t have an obvious place in any\n",
    "of the other chapters, along with some elaboration of previous scripts\n",
    "and some further examples of things that you can do with gnuplot.\n",
    "\n",
    "Our first example shows one way to make a bar graph that appears to be\n",
    "three-dimensional. While it is, in general, a bad idea to represent 2D\n",
    "data using 3D perspective, and something that is almost never used in\n",
    "serious or technical reporting, the dressing up in 3D of such things as\n",
    "bar charts is popular in journalistic or advertising contexts. You may\n",
    "find yourself called upon to do such a thing, and wonder if you can\n",
    "cajole gnuplot into playing along. Here is one way to do it, based\n",
    "partly on\n",
    "[ideas](http://gnuplot-tricks.blogspot.com/2009/06/3d-bargraphs-in-gnuplot-one-more-time.html)\n",
    "from the Gnuplot Tricks website. We can’t use the built-in\n",
    "[histogram](#bar-charts) style for this; instead, since we intend to\n",
    "make 3D perspective shapes, we’ll leverage gnuplot’s `splot` command.\n",
    "\n",
    "The latest version of gnuplot adds [true 3D box plots](#d-box-plots), so\n",
    "this technique is probably no longer necessary. However, it might be\n",
    "instructive, so we’ll leave it here.\n",
    "\n",
    "3D Bars\n",
    "-------\n",
    "\n",
    "In this script, we create each 3D bar from three different rectangles;\n",
    "the 3D effect is completed by using [ambient lighting](#lighting). The\n",
    "data values are stored in the [array](#arrays) “DD”; the width of the\n",
    "bars is controlled by “w”, and the space between them by “p”. You would\n",
    "probably want to add labels, and perhaps part of the bounding box. This\n",
    "script can easily be turned into a command-line tool that accepts a list\n",
    "of data as an input parameter, similarly to how we created [pie-chart\n",
    "tool](#pietool)."
   ]
  },
  {
   "cell_type": "code",
   "execution_count": null,
   "metadata": {},
   "outputs": [],
   "source": [
    "unset key; unset colorbox\n",
    "unset border; unset tics\n",
    "set pm3d lighting primary .5\n",
    "s = 0; w = .9; p = 1.4\n",
    "set pal def (0 \"blue\", 1 \"blue\")\n",
    "set multiplot\n",
    "set parametric; set isosample 2, 2\n",
    "set view 65, 30\n",
    "array DD[5] = [.2, .5, 1., .7, .6]\n",
    "set xr [0 : 1.5*|DD|]; set yr [0 : |DD|]; set zr [0:1]\n",
    "do for [i=1:|DD|] {\n",
    "  D = DD[i]\n",
    "  set urange [0:w]; set vrange [0:w]\n",
    "  splot u+s, v, D w pm3d\n",
    "  set urange [0:w]; set vrange [0:D]\n",
    "  splot u+s, 0, v w pm3d\n",
    "  splot w+s, u, v w pm3d\n",
    "  s = s + p\n",
    "}\n"
   ]
  },
  {
   "cell_type": "markdown",
   "metadata": {},
   "source": [
    "Plotting with Pictures\n",
    "----------------------\n",
    "\n",
    "Gnuplot can place pictures on a plot along with, or instead of, its\n",
    "usual points, lines, and objects. It can understand the common image\n",
    "formats, but the details depend on how your version was compiled. For a\n",
    "list of the image type that your gnuplot believes that it can handle,\n",
    "give it the command `show datafile binary filetypes`. If you\n",
    "nevertheless get a message that gnuplot can’t read an image file that is\n",
    "on the list, you may need to recompile it, ensuring that the libgd-dev\n",
    "(on Linux) package has been installed. Here is the basic command for\n",
    "placing an image on the plot. The image, in the file “plane.png”, which\n",
    "you can download from the publisher’s website, has pixel dimensions 640\n",
    "× 533; you can see how gnuplot plots the image as an array of pixels,\n",
    "with the axes labeled appropriately. The keyword `rgbalpha` is\n",
    "\\\\index{rgbalpha}{ used for images with transparency, such as this one;\n",
    "use `rgbimage` for JPEGs, PNGs without transparency, etc. The clause\n",
    "`filetype = auto` tells gnuplot to guess the image format from the\n",
    "filename extension, but if your files have nonstandard names you can be\n",
    "more specific. The angle unit can be specified in degrees (`rot 45deg`),\n",
    "radians with a bare number (as we do here), or radians in units of π\n",
    "(`0.5pi`). The keywords `dx` and `dy` give scaling factors for the\n",
    "image. Notice how the image transparency is preserved in the overlapping\n",
    "regions. The [animation techniques](#animations) we learned before could\n",
    "easily be combined with image plotting to create sprite animations\n",
    "within gnuplot."
   ]
  },
  {
   "cell_type": "code",
   "execution_count": null,
   "metadata": {},
   "outputs": [],
   "source": [
    "unset key\n",
    "plot  \"plane.png\" binary filetype=auto with rgbalpha,\\\n",
    "   \"plane.png\" binary filetype=auto center = (100, 150)\\\n",
    "   dx = 1.5 dy = 0.25 rot = pi/2 with rgbalpha"
   ]
  },
  {
   "cell_type": "markdown",
   "metadata": {},
   "source": [
    "This example script illustrates the commands for placing images with\n",
    "specified location, scaling, and rotation on a graph in order to dress\n",
    "up a plot with a thematic decoration. Since positioning depends on the\n",
    "image’s pixel dimensions, we define two variables in the second line to\n",
    "hold half the number of pixels in the x- and y-directions. The\n",
    "`ang(a, b)` function calculates the angle from the slope of the data (in\n",
    "the data array we’ve duplicated the last element for convenience). In\n",
    "the first `plot` command we place a plane image at each data point,\n",
    "rotated to indicate the direction to the following data point. We use\n",
    "multiplot mode to plot the same data with a dotted line, adjusting the\n",
    "axis ranges to get approximate alignment with the plane images. You can\n",
    "omit `dy`, in which case it is set equal to `dx`."
   ]
  },
  {
   "cell_type": "code",
   "execution_count": null,
   "metadata": {},
   "outputs": [],
   "source": [
    "set multi\n",
    "set tmargin at screen .9\n",
    "set rmargin at screen .9\n",
    "set lmargin at screen .3\n",
    "set bmargin at screen .3\n",
    "unset key\n",
    "xph = 320; yph = 267\n",
    "array d[5] = [1, 3, 2, 4, 4]\n",
    "ang(a, b) = atan(b - a) - pi/2\n",
    "set for  [n = 1 : |d|-1] xtics (sprintf(\"%d\", 2013 + n) xph * n)\n",
    "set for  [n = 1 : |d|-1] ytics (sprintf(\"%d\", 100 * d[n]) yph * d[n])\n",
    "plot for [n = 1 : |d|-1] \"plane.png\" binary filetype=auto \\\n",
    "center=(xph * n, yph * d[n]) dx = 0.3 rot=ang(d[n], d[n + 1]) with rgbalpha\n",
    "set yr [.5 : 4.5]\n",
    "set xr [.5 : 4.5]\n",
    "set xlab \"Year\" font \"Helvetica, 18\"\n",
    "set ylab \"Plane production\" font \"Helvetica, 18\" offset -3\n",
    "plot d with lines lw 5 dt \"-\""
   ]
  },
  {
   "cell_type": "markdown",
   "metadata": {},
   "source": [
    "Pictures in 3D\n",
    "--------------\n",
    "\n",
    "You can place images in a 3D plot as well, in which case gnuplot will\n",
    "draw the image with 3D perspective. Simply use `splot` instead of\n",
    "`plot`, and provide a 3D coordinate. Rotation, by default, is around an\n",
    "axis passing through the center of the image and perpendicular to the\n",
    "x-y plane. For more details about other options for rotation in 3D (and\n",
    "2D), try `help perpendicular` and `help rot`."
   ]
  },
  {
   "cell_type": "code",
   "execution_count": null,
   "metadata": {},
   "outputs": [],
   "source": [
    "unset key\n",
    "set border 15\n",
    "set zlabel \"Altitude\" rot by 90 font \",16\" offset -1\n",
    "set zr [0:1600]\n",
    "set view 60,30\n",
    "set xyplane 0\n",
    "set xtics scale 0\n",
    "set ytics scale 0\n",
    "set xtics format \"\"\n",
    "set ytics format \"\"\n",
    "set grid lt 1 lc \"green\"\n",
    "hs = 470; vs = 360.\n",
    "scl(n) = 1. - n/8.\n",
    "splot for [n = 0 : 3] \"plane.png\" binary filetype=auto\\\n",
    "   center=(n*.5*hs, n*vs, n*vs) dx=scl(n) rot = -n/12.pi with rgbalpha"
   ]
  },
  {
   "cell_type": "markdown",
   "metadata": {},
   "source": [
    "Plotting with Characters\n",
    "------------------------\n",
    "\n",
    "In previous chapters we have learned how to make scatterplots by\n",
    "plotting data using the `with points` command, choosing the point type,\n",
    "size, and color. The plotting “point” can also be any single character;\n",
    "as this includes Unicode and an optional font specification, there are\n",
    "many possibilities. Here’s how it works (we are reusing a datafile that\n",
    "we used in the [chapter](#whisker-plots) on errors and finance):"
   ]
  },
  {
   "cell_type": "code",
   "execution_count": null,
   "metadata": {},
   "outputs": [],
   "source": [
    "unset key\n",
    "plot \"candles\" w points pt \"☺\" font \",24\""
   ]
  },
  {
   "cell_type": "markdown",
   "metadata": {},
   "source": [
    "Variable Pointtype\n",
    "------------------\n",
    "\n",
    "Not only the size and color, but the *type* of point in a `with points`\n",
    "plot can be taken from the data itself. This is activated by using the\n",
    "`var` keyword, as in the example script below. The size, type, and color\n",
    "of the points are taken from the third, fourth, and fifth data columns,\n",
    "respectively."
   ]
  },
  {
   "cell_type": "code",
   "execution_count": null,
   "metadata": {},
   "outputs": [],
   "source": [
    "unset key\n",
    "plot \"candles\" w points ps var pt var lc var"
   ]
  },
  {
   "cell_type": "markdown",
   "metadata": {},
   "source": [
    "The `sample` Keyword\n",
    "--------------------\n",
    "\n",
    "A recent and powerful addition to gnuplot is the `sample` keyword. We’ve\n",
    "already learned how a command like `plot [a : b] f(x)` redefines the\n",
    "`xrange` to cover the range within the brackets; the use of `sample` is\n",
    "similar but much more flexible. The presence of the `sample` keyword,\n",
    "highlighted in the script here, plots the function following the range\n",
    "specifier over that range, without changing the `xrange` of the plot.\n",
    "The second range specifier (also highlighted) plots the second function\n",
    "over that range. The result a cleaner method for producing the result\n",
    "that we [previously](#the-ternary-operator) handled using the ternary\n",
    "operator and NaNs. Note that in the absence of the `sample` keyword, the\n",
    "first range specifier would simply reset the `xrange` for the graph\n",
    "(which, in this case, would exclude the second part of the `plot`\n",
    "command)."
   ]
  },
  {
   "cell_type": "code",
   "execution_count": null,
   "metadata": {},
   "outputs": [],
   "source": [
    "set xr [-20 : 20]\n",
    "set label \"Damping applied\" at 4, -.6 font \"Times\"\n",
    "set arrow from 3.9, -.6 to 0, 0 filled lc \"grey40\"\n",
    "plot sample [-20 : 0] sin(x) notit,\\\n",
    "   [0 : 20] exp(-x/5.)*sin(x) dt \".-\" lw 2 title \"Decay phase\""
   ]
  },
  {
   "cell_type": "markdown",
   "metadata": {},
   "source": [
    "The `sample` keyword has a couple more powers that are available for\n",
    "data plots (from files or the “+” or “++” special filenames). Both\n",
    "powers are used in the highlighted range specifier in this script. A\n",
    "third number sets the sampling interval for that part of the `plot`\n",
    "command, overriding the global `set samples` command; we use it here to\n",
    "put space between the points. As in [range commands](#rangevars), you\n",
    "can give a name to the sample variable (here “x”) which allows you to\n",
    "use this name in the column specifiers rather than having to type “\\$1”."
   ]
  },
  {
   "cell_type": "code",
   "execution_count": null,
   "metadata": {},
   "outputs": [],
   "source": [
    "set samp 1000\n",
    "set style data lines\n",
    "set style line lw 4\n",
    "set xr [0 : 10]\n",
    "f(x) = cos(2*x) * sin(x)\n",
    "scale(x) = abs(f(x)) + 0.4\n",
    "plot sample [0 : 1] \"+\" u 1:(f(x)) lw 3 title \"Early range\", [5 : 6] f(x) lw 3 title \"Middle range\",\\\n",
    "  [9 : 12] f(x) lw 3 title \"Late range\",\\\n",
    "    [x = 0 : 10 : 0.1] \"+\" u 1:(f(x)):(scale(x)) w points lc \"grey70\" ps var pt 6 notitle"
   ]
  },
  {
   "cell_type": "markdown",
   "metadata": {},
   "source": [
    "Multiple, Overlapping 2D plots\n",
    "------------------------------\n",
    "\n",
    "Here is an example of a style that is sometimes used to compare a\n",
    "handful of probability distributions, or similar things. Offsets in the\n",
    "vertical direction are used along with transparency to keep everything\n",
    "visible while keeping the plot compact."
   ]
  },
  {
   "cell_type": "code",
   "execution_count": null,
   "metadata": {},
   "outputs": [],
   "source": [
    "unset key\n",
    "set ytics format \"\"\n",
    "set xtics format \"\"\n",
    "set yr [0:4]\n",
    "set xr [-7 : 7]\n",
    "set style function filledcurves\n",
    "set style fill transparent solid .5\n",
    "vs = 0.7\n",
    "f1(x) = exp(-x**2/5)\n",
    "f2(x) = f1(x+1)*(exp(-x**2/2) + sin(x)**2) \n",
    "f3(x) = f1(x-2)*(exp(-x**2/3 + cos(2*x)**2))\n",
    "f4(x) = f1(x+1)*(exp(-x**4) + 0.2*sin(x)**2)\n",
    "f5(x) = f1(x-1)*(exp(-x**4/4))\n",
    "plot f1(x) fc \"#990088\",\\\n",
    "     f2(x) + vs fc \"#0088cc\",\\\n",
    "     f3(x) + 2*vs fc \"#55ff66\",\\\n",
    "     f4(x) + 3*vs fc \"#ff6666\",\\\n",
    "     f5(x-1) + 4*vs fc \"#bbbbdd\""
   ]
  },
  {
   "cell_type": "markdown",
   "metadata": {},
   "source": [
    "Fence Plots\n",
    "-----------\n",
    "\n",
    "Another way to display a set of 2D curves is to spread them out in a 3D\n",
    "space to make what is sometimes called a *fence plot*. Gnuplot makes\n",
    "this convenient with its `zerrorfill` style. This style allows you to\n",
    "draw a curve in 3D space and surround it with a filled region, defined\n",
    "either by a pair of functions or data columns, both above (higher z) and\n",
    "below (lower z) the curve. The filled region can serve to represent the\n",
    "error in a set of measurements defined by the curve (hence the name\n",
    "`zerrorfill`), but can be drafted to represent anything you want. Note\n",
    "that although this is a `splot` style, it apparently can’t be used to\n",
    "add an error fill to a surface. There are two versions. The one we show\n",
    "here uses five columns, for x, y, z, zmin, zmax; there is a less general\n",
    "version that uses a zdelta in place of the separate zmin and zmax. You\n",
    "can set separate styles for the curve and the filled region. Here is a\n",
    "simple example that shows what it does:"
   ]
  },
  {
   "cell_type": "code",
   "execution_count": null,
   "metadata": {},
   "outputs": [],
   "source": [
    "unset key\n",
    "set grid ztics\n",
    "set grid ytics\n",
    "set grid xtics lt 3\n",
    "set border 4095\n",
    "set view 60, 170\n",
    "set ytics 20\n",
    "splot \"+\" u 1:($1**2):(1):(0.75):(1.25)\\\n",
    "   with zerrorfill fc \"blue\" lc \"red\" lw 2"
   ]
  },
  {
   "cell_type": "markdown",
   "metadata": {},
   "source": [
    "As promised in the title of this section, we now show how to use the\n",
    "`zerrorfill` style to create a fence plot, using the same set of\n",
    "functions as we used above. The trick is to use `zmax` for the set of\n",
    "functions or data lines you wish to plot, while setting `z` and `zmin`\n",
    "to coincide and form the bottoms of the curves. You should include the\n",
    "[`depthorder` setting](#depthorder) to ensure that the plots overlap\n",
    "correctly. Here, rather than specify a color for each curve, we let\n",
    "gnuplot use its default sequence. Use `x` and `y` to space out the\n",
    "curves, and use a transparent fill style with no border:"
   ]
  },
  {
   "cell_type": "code",
   "execution_count": null,
   "metadata": {},
   "outputs": [],
   "source": [
    "unset key\n",
    "unset xtics\n",
    "unset ytics\n",
    "set yr [-12 : 15]\n",
    "set xr [-5 : 25]\n",
    "set style fill transparent solid .7 noborder\n",
    "set style data zerrorfill\n",
    "set pm3d depthorder\n",
    "set xyplane at 0\n",
    "set view 70, 10\n",
    "vs = 5\n",
    "f1(x) = exp(-x**2/5)\n",
    "f2(x) = f1(x+1)*(exp(-x**2/2) + sin(x)**2) \n",
    "f3(x) = f1(x-2)*(exp(-x**2/3 + cos(2*x)**2))\n",
    "f4(x) = f1(x+1)*(exp(-x**4) + 0.2*sin(x)**2)\n",
    "f5(x) = f1(x-1)*(exp(-x**4/4))\n",
    "splot sample [u = -5 : 5] \"+\" u (u):(2*u):(0):(0):(f1(u)),\\\n",
    "             [u = -5 : 5] \"\"  u (u + vs):(2*u):(0):(0):(f2(u)),\\\n",
    "             [u = -5 : 5] \"\"  u (u + 2*vs):(2*u):(0):(0):(f3(u)),\\\n",
    "             [u = -5 : 5] \"\"  u (u + 3*vs):(2*u):(0):(0):(f4(u)),\\\n",
    "             [u = -5 : 5] \"\"  u (u + 4*vs):(2*u):(0):(0):(f5(u))"
   ]
  },
  {
   "cell_type": "markdown",
   "metadata": {},
   "source": [
    "Mapping\n",
    "-------\n",
    "\n",
    "Gnuplot comes with a file called “world.dat” that is a rough but usable\n",
    "outline of the continents of Earth. Since our planet is approximately a\n",
    "sphere, plotting this file using spherical mapping gets us a serviceable\n",
    "globe, especially if we plot latitude and longitude lines, as we do\n",
    "here:"
   ]
  },
  {
   "cell_type": "code",
   "execution_count": null,
   "metadata": {},
   "outputs": [],
   "source": [
    "unset key\n",
    "set mapping spherical\n",
    "set angles degrees\n",
    "set isosamples 30\n",
    "set xrange [-1:1]\n",
    "set yrange [-1:1]\n",
    "unset tics\n",
    "unset border\n",
    "set parametric\n",
    "set hidden3d\n",
    "set urange [-90:90]\n",
    "set vrange [0:360]\n",
    "splot cos(u)*cos(v),cos(u)*sin(v),sin(u) with lines lt rgb \"grey80\",\\\n",
    "      \"world.dat\" with lines lt 2 lw 2"
   ]
  },
  {
   "cell_type": "markdown",
   "metadata": {},
   "source": [
    "Of course the real utility of the world.dat file is to be able to plot\n",
    "geographic information with the continents as background for reference.\n",
    "To do this, your data needs to be stored as a function of latitude and\n",
    "longitude, in the format that gnuplot expects: south of the equator is\n",
    "negative latitude, as is west of the Prime Meridian. In this example we\n",
    "plot the world.dat file in 2D, which results in a cylindrical projection\n",
    "of the globe, along with data from the included file “earthquakes.dat”,\n",
    "which contains data from the United States Geological Survey on the\n",
    "locations and magnitudes of all the earthquakes in the world for three\n",
    "days in January of 2012. The script sets the tics to be `geographic`,\n",
    "which [translates](#geographic-coordinates) the numerical coordinates\n",
    "into index{geographic coordinates} more conventional notation for\n",
    "plotting, and uses geographic formatting. For all the options available\n",
    "in formats for latitudes and longitudes, type `help geographic`. We use\n",
    "transparent fill here both to reveal the continent outlines underneath\n",
    "the data and to show, with the buildup of opacity, when earthquake\n",
    "events coincide. The sixth column in the file is mapped to the third\n",
    "column in the `using` specifier, with a scaling factor, to control the\n",
    "circle size; this is the earthquake magnitude."
   ]
  },
  {
   "cell_type": "code",
   "execution_count": null,
   "metadata": {},
   "outputs": [],
   "source": [
    "unset key\n",
    "set xtics geographic\n",
    "set ytics geographic\n",
    "set xtics 60; set ytics 40\n",
    "set xr [-180 : 180]\n",
    "set yr [-100 : 100]\n",
    "set format x \"%D’%E\"\n",
    "set format y \"%D’%N\"\n",
    "set grid\n",
    "set title \"Earthquakes Worldwide 20Jan2012 Through 22Jan2012\"\n",
    "set style fill transparent solid 0.4 noborder\n",
    "plot \"world.dat\" with lines lt -1,\\\n",
    "      \"earthquakes.dat\" using 4:3:(1.5*$6) with circles fc \"red\""
   ]
  },
  {
   "cell_type": "markdown",
   "metadata": {},
   "source": [
    "Arrow Axes\n",
    "----------\n",
    "\n",
    "If you want to replace gnuplot’s border with something custom, you\n",
    "probably want to employ [arrows](#arrows) for the purpose. Here we\n",
    "replace the border box with a pair of arrows, to create a plot style\n",
    "popular in the classroom. We use graph coordinates to make the arrow\n",
    "specifications work independently of the axis ranges."
   ]
  },
  {
   "cell_type": "code",
   "execution_count": null,
   "metadata": {},
   "outputs": [],
   "source": [
    "unset key; unset border\n",
    "set ytics .2\n",
    "set arrow from graph 0,0 to graph 0, 1.2 filled\n",
    "set arrow from graph 0,0 to graph 1.2, 0 filled\n",
    "set tmargin 5\n",
    "set rmargin 20\n",
    "# set border 3\n",
    "set tics nomirror\n",
    "set grid\n",
    "plot airy(x) lw 2"
   ]
  },
  {
   "cell_type": "markdown",
   "metadata": {},
   "source": [
    "Colorsequence\n",
    "-------------\n",
    "\n",
    "A recently added feature in gnuplot is the ability to choose from three\n",
    "options for the `colorsequence`. The `default` is the familiar\n",
    "terminal-independent magenta - green - cyan - etc. sequence; the\n",
    "`classic` option produces a terminal-dependent sequence, usually\n",
    "beginning red - green - blue (this was the default in previous versions\n",
    "of gnuplot); the `podo` option, that we illustrate in this example,\n",
    "selects a sequence of eight colors that are easier for colorblind people\n",
    "to tell apart (see also the [cubehelix palette](#cubehelix-palettes))."
   ]
  },
  {
   "cell_type": "code",
   "execution_count": null,
   "metadata": {},
   "outputs": [],
   "source": [
    "set colorsequence podo\n",
    "set samp 1000\n",
    "set xr [0 : 9]\n",
    "unset key\n",
    "plot for [i = 1 : 8] sin(1/(x-i)) + i lw 2"
   ]
  },
  {
   "cell_type": "markdown",
   "metadata": {},
   "source": [
    "Colored Axes\n",
    "------------\n",
    "\n",
    "As we’ve [seen](#using-a-second-y-axis), you can use different scales\n",
    "for different curves on a plot by setting up a second y- or x-axis. This\n",
    "requires you to then indicate which curves go with which axes. You can\n",
    "use different colors or dash patterns, along with a legend, or use text\n",
    "labels, perhaps in combination with arrows, for this purpose. Another\n",
    "option is illustrated in this example: you can color the tic and axis\n",
    "labels, and use corresponding colors for the curves. Gnuplot uses a\n",
    "single color for all the border lines, however."
   ]
  },
  {
   "cell_type": "code",
   "execution_count": null,
   "metadata": {},
   "outputs": [],
   "source": [
    "set xr [-pi : pi]\n",
    "unset key\n",
    "set ytics nomirror \n",
    "set y2tics nomirror tc lt 3\n",
    "set ylab \"sin(x)\" font \"Helvetica, 16\"\n",
    "set y2label \"x^2\" rot by 0 font \"Helvetica, 16\" tc lt 3\n",
    "plot sin(x) lt -1, x**2 axis x1y2 lt 3"
   ]
  },
  {
   "cell_type": "markdown",
   "metadata": {},
   "source": [
    "A variation of the previous idea is to use a [zeroaxis](#zeroaxis) for\n",
    "one of the curves. This allows us to color the axis as well, but, sadly,\n",
    "the tic marks themselves still inherit their color from the border."
   ]
  },
  {
   "cell_type": "code",
   "execution_count": null,
   "metadata": {},
   "outputs": [],
   "source": [
    "set border 3\n",
    "unset key\n",
    "set xr [-pi : pi]\n",
    "set y2zeroaxis lt 3\n",
    "set xtics nomirror\n",
    "set ytics nomirror\n",
    "set ylab \"sin(x)\" font \"Helvetica, 16\"\n",
    "set label \"x^2\" font \"Helvetica, 16\" at -0.5, second 8 tc lt 3\n",
    "set y2tics axis nomirror tc lt 3\n",
    "plot sin(x) lt -1, x**2 axis x1y2 lt 3"
   ]
  },
  {
   "cell_type": "markdown",
   "metadata": {},
   "source": [
    "In order to get the tic and axis labels, tic marks, and the border or\n",
    "axis line itself to all be drawn in a specified color, we can resort to\n",
    "multiplot mode, as in the example here. To get the plots to align, we\n",
    "set global margins using screen coordinates."
   ]
  },
  {
   "cell_type": "code",
   "execution_count": null,
   "metadata": {},
   "outputs": [],
   "source": [
    "set multi\n",
    "set tmargin at screen 0.9\n",
    "set rmargin at screen 0.9\n",
    "set lmargin at screen 0.1\n",
    "set bmargin at screen 0.1\n",
    "unset key\n",
    "set xr [-pi : pi]\n",
    "set tics nomirror\n",
    "set border 8 lt 4\n",
    "unset ytics\n",
    "set y2tics 1\n",
    "unset xtics\n",
    "set y2label \"x^2\" rot by 0 font \"Helvetica, 16\" tc lt 4\n",
    "plot x**2 axis x1y2 lt 4\n",
    "set border 7 lt -1\n",
    "unset y2label\n",
    "set tics nomirror\n",
    "unset y2tics\n",
    "set ylab \"sin(x)\" font \"Helvetica, 16\"\n",
    "plot sin(x) lt -1"
   ]
  },
  {
   "cell_type": "markdown",
   "metadata": {},
   "source": [
    "Data Dependent Gridding\n",
    "-----------------------\n",
    "\n",
    "Gnuplot, by default, places the ticmarks at equally spaced intervals,\n",
    "with gridlines to match. In cases where there we are plotting a moderate\n",
    "number of discrete data points, it can be more useful to align the tics\n",
    "and grid lines with the data, allowing the viewer to easily read off the\n",
    "exact data values without having to interpolate between tic values."
   ]
  },
  {
   "cell_type": "code",
   "execution_count": null,
   "metadata": {},
   "outputs": [],
   "source": [
    "set samples 5\n",
    "set key top left\n",
    "set for [n = 1 : 4] arrow from first n, 0\\\n",
    "   to first n, n**2 nohead dt \"-\"\n",
    "set for [n = 1 : 4] arrow from first 1, n**2\\\n",
    "   to first n, n**2 nohead dt \"-\"\n",
    "set for [n = 1 : 5] ytics (n**2)\n",
    "set xtics 1\n",
    "plot [1 : 5] x**2 with linespoints pt 7 ps 2"
   ]
  },
  {
   "cell_type": "markdown",
   "metadata": {},
   "source": [
    "Broken Axis\n",
    "-----------\n",
    "\n",
    "There is a style of plot that includes two disjoint ranges on the (for\n",
    "example) x-axis. The break in the axis requires some type of marking to\n",
    "indicate the discontinuity in scale. In this example we use multiplot\n",
    "mode to plot the two sides of the graph, margins in screen coordinates\n",
    "to align the graphs, and headless arrows to form short line segments to\n",
    "indicate the position of the axis break. A variation of this style would\n",
    "be to arrange for one of the tic marks to fall at the location of the\n",
    "axis break and dispense with the arrow markings. You can alter this\n",
    "example to achieve that effect by setting the `xtic` interval for the\n",
    "first graph to 0.01 and to 0.05 for the second graph."
   ]
  },
  {
   "cell_type": "code",
   "execution_count": null,
   "metadata": {},
   "outputs": [],
   "source": [
    "set multi\n",
    "t = 0.015; s = 0.03\n",
    "unset key\n",
    "set samp 1000\n",
    "set border 3; set xtics .02; set tics nomirror\n",
    "set bmargin at screen 0.1; set tmargin at screen 0.9\n",
    "set rmargin at screen 0.4; set lmargin at screen 0.1\n",
    "set xr [.01 : 0.05]\n",
    "set arrow 1 from screen .4, .1 to screen 0.4 + t, 0.1 + s nohead lw 1.5\n",
    "set arrow 2 from screen .4, .1 to screen 0.4 - t, 0.1 - s nohead lw 1.5\n",
    "plot sin(1/x)\n",
    "set lmargin at screen 0.43; set rmargin at screen 0.9\n",
    "set xr [0.1 : 0.3]\n",
    "set key; set border 1; unset ytics; set xtics 0.06\n",
    "set arrow 1 from screen 0.43, .1 to screen 0.43 + t, 0.1 + s nohead lw 1.5\n",
    "set arrow 2 from screen 0.43, .1 to screen 0.43 - t, 0.1 - s nohead lw 1.5\n",
    "plot sin(1/x)"
   ]
  },
  {
   "cell_type": "markdown",
   "metadata": {},
   "source": [
    "Jitter\n",
    "------\n",
    "\n",
    "Often, data is gathered in a way that causes one or more variables to be\n",
    "“quantized,” rather than to be continuously distributed. For example,\n",
    "some observation may be recorded at particular time intervals, which\n",
    "would cause the observations to be clustered on the time axis. This will\n",
    "cause the data points to overlap on a scatterplot, for example, which\n",
    "would obscure some of the data. One way to overcome this is to add a\n",
    "small displacement, random or otherwise, to the plotted data points, in\n",
    "order to spread them out and reveal the obscured ones. Gnuplot has an\n",
    "automated, configurable mechanism for doing just this, using the\n",
    "recently added `jitter` command. We’ll show how it works using some\n",
    "artificial data. First, an example that illustrates the problem (the\n",
    "script uses the modulo operator `%`, which gives the remainder after\n",
    "dividing by the right-hand operand: type\n",
    "`help expressions operators binary` to see all of them): \\\\index{%}"
   ]
  },
  {
   "cell_type": "code",
   "execution_count": null,
   "metadata": {},
   "outputs": [],
   "source": [
    "unset key\n",
    "set grid lt -1\n",
    "seed = rand(9)\n",
    "plot sample [i = 0 : 99] \"+\" u (int(i)%10):(int(rand(0)*99)%10)\\\n",
    "    pt 6 ps 3 lw 3"
   ]
  },
  {
   "cell_type": "markdown",
   "metadata": {},
   "source": [
    "The previous example plotted some random points on a grid, but you can’t\n",
    "see all of them, because some points overlap. To reveal the hidden data,\n",
    "use the `jitter` command (`help jitter` will get you details on all the\n",
    "options, but the `spread` setting will cover the majority of cases; any\n",
    "coordinate system can be used, with character as the default):"
   ]
  },
  {
   "cell_type": "code",
   "execution_count": null,
   "metadata": {},
   "outputs": [],
   "source": [
    "set jitter spread 0.2\n",
    "unset key\n",
    "set grid lt -1\n",
    "seed = rand(9)\n",
    "plot sample [i = 0 : 99] \"+\" u (int(i)%10):(int(rand(0)*99)%10)\\\n",
    "    pt 6 ps 3 lw 3"
   ]
  },
  {
   "cell_type": "markdown",
   "metadata": {},
   "source": [
    "`jitter` also works with impulse plots. Here’s a similar set of data\n",
    "plotted with impulses. We use the `set offset` command to add some extra\n",
    "space between the data and the border:"
   ]
  },
  {
   "cell_type": "code",
   "execution_count": null,
   "metadata": {},
   "outputs": [],
   "source": [
    "unset key\n",
    "set offset 0.3, 0.3\n",
    "set grid\n",
    "seed = rand(8)\n",
    "plot sample [i = 0 : 20] \"+\" u (int(i)%10):(int(rand(0)*99))\\\n",
    "   with impulses lw 2"
   ]
  },
  {
   "cell_type": "markdown",
   "metadata": {},
   "source": [
    "In the previous plot, most of the data is obscured due to overlap.\n",
    "Adding a little jitter reveals all the data:"
   ]
  },
  {
   "cell_type": "code",
   "execution_count": null,
   "metadata": {},
   "outputs": [],
   "source": [
    "unset key\n",
    "set jitter spread 0.9\n",
    "set offset 0.3, 0.3\n",
    "set grid\n",
    "seed = rand(8)\n",
    "plot sample [i = 0 : 20] \"+\" u (int(i)%10):(int(rand(0)*99))\\\n",
    "   with impulses lw 2"
   ]
  },
  {
   "cell_type": "markdown",
   "metadata": {},
   "source": [
    "Scatterplots of Dense Data Sets\n",
    "-------------------------------\n",
    "\n",
    "A plot using unconnected points, dots, or symbols in the plane of data\n",
    "with separate x- and y-values specified is called a “scatterplot.” In\n",
    "gnuplot these can be created using the plot style `with points`.\n",
    "Scatterplots are useful to reveal several aspects of the data,\n",
    "especially correlations between values on the two axes. But when there\n",
    "are many data points and the data becomes dense in certain parts of the\n",
    "graph, the points overlap, and you lose information about the density of\n",
    "points in the overlap region. This example illustrates the phenomenon.\n",
    "The “data” is arranged so that there is an increasing density as we\n",
    "approach (0, 0). But, although we’re using a small `pointsize`, the\n",
    "overlap almost entirely hides the nature of the data."
   ]
  },
  {
   "cell_type": "code",
   "execution_count": null,
   "metadata": {},
   "outputs": [],
   "source": [
    "unset key\n",
    "set samp 600\n",
    "set iso 600\n",
    "set xr [0:5]\n",
    "set yr [0:5]\n",
    "e = 1.3\n",
    "plot \"++\" u ($1 * rand(0)**e):($2 * rand(0)**e)\\\n",
    "  with points pt 7 lc \"#990099\" ps .5"
   ]
  },
  {
   "cell_type": "markdown",
   "metadata": {},
   "source": [
    "We can improve on this significantly by using the plot style\n",
    "`with dots`, which places a very small dot at each point (the smaller\n",
    "the dot, the less overlap we’ll get):"
   ]
  },
  {
   "cell_type": "code",
   "execution_count": null,
   "metadata": {},
   "outputs": [],
   "source": [
    "unset key\n",
    "set samp 600\n",
    "set iso 600\n",
    "set xr [0:5]\n",
    "set yr [0:5]\n",
    "e = 1.3\n",
    "plot \"++\" u ($1 * rand(0)**e):($2 * rand(0)**e) with dots"
   ]
  },
  {
   "cell_type": "markdown",
   "metadata": {},
   "source": [
    "The previous example still had enough overlap to obscure some of the\n",
    "data behavior. You may be able to improve the plot in these situations\n",
    "by using nearly transparent, small points. Overlapping points will build\n",
    "up opacity, naturally leading to smooth gradients in density that match\n",
    "the data gradients. Experimenting with the alpha value and `pointsize`\n",
    "will help to get an optimal visualization for any particular data set."
   ]
  },
  {
   "cell_type": "code",
   "execution_count": null,
   "metadata": {},
   "outputs": [],
   "source": [
    "unset key\n",
    "set samp 600\n",
    "set iso 600\n",
    "set xr [0:5]\n",
    "set yr [0:5]\n",
    "e = 1.3\n",
    "plot \"++\" u ($1 * rand(0)**e):($2 * rand(0)**e)\\\n",
    "  with points pt 7 lc \"#fa990099\" ps .5"
   ]
  },
  {
   "cell_type": "markdown",
   "metadata": {},
   "source": [
    "Attention to Style\n",
    "------------------\n",
    "\n",
    "Gnuplot has a reputation in some quarters for producing unattractive\n",
    "graphs. This is unfair, but due to the fact that gnuplot’s default\n",
    "settings lead to output that, while utilitarian, can benefit from some\n",
    "aesthetic tweaking. This example is simply a reminder that gnuplot\n",
    "allows you to use any fonts on your system, and is extremely\n",
    "customizable. A little attention to colors, the judicious use of\n",
    "transparency, and careful selection of fonts, sizes, margins, and line\n",
    "styles, can lead to visualizations limited in beauty only by your skill\n",
    "in design.\n",
    "\n",
    "If you don’t have one or both of the fonts that we call for in the\n",
    "following script, the output from your machine will look different. This\n",
    "example also serves to illustrate the `set style textbox` command. This\n",
    "command is evolving, and may give different results, or not work at all,\n",
    "depending on your particular gnuplot version. It defines a style for the\n",
    "`boxed` variant of a text label, which, by default, creates a black\n",
    "border. One of its quirks is that, to get a partially transparent fill,\n",
    "as we show here, you must use the `opaque` keyword, and use an alpha\n",
    "component for the `fillcolor`. If you say `transparent` rather than\n",
    "`opaque`, that produces an box with no fill. Note also that the only way\n",
    "to apply a detailed style to grid lines is with a user-defined\n",
    "`linetype`."
   ]
  },
  {
   "cell_type": "code",
   "execution_count": null,
   "metadata": {},
   "outputs": [],
   "source": [
    "set border 3 lw 2 lc \"grey40\"\n",
    "unset key\n",
    "set samp 1000\n",
    "set linetype 5 lc \"grey80\" lw 2 dt \"-\"\n",
    "set grid lt 5\n",
    "set xtics 4\n",
    "set ytics 0.2\n",
    "set tics font \"Ubuntu Condensed, 16\" tc \"#555599\"\n",
    "set tics nomirror\n",
    "set xr [-15 : 15]\n",
    "set yr [-0.6 : 0.6]\n",
    "set offsets 1\n",
    "set style textbox opaque border rgb \"#444444\" lw 2 fc \"#aa666666\"\\\n",
    "                   margins 3, 2\n",
    "set label \"Airy function\" font \"Sawasdee, 18\" at 3.5, 0.14 boxed\n",
    "plot airy(x) lw 3 lc \"#883433\""
   ]
  }
 ],
 "nbformat": 4,
 "nbformat_minor": 5,
 "metadata": {
  "kernelspec": {
   "display_name": "gnuplot",
   "language": "gnuplot",
   "name": "gnuplot"
  },
  "language_info": {
   "codemirror_mode": "Octave",
   "file_extension": ".gp",
   "help_links": [
    {
     "text": "MetaKernel Magics",
     "url": "https://metakernel.readthedocs.io/en/latest/source/README.html"
    }
   ],
   "mimetype": "text/x-gnuplot",
   "name": "gnuplot"
  }
 }
}
